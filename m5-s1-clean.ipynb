{
 "cells": [
  {
   "cell_type": "code",
   "execution_count": 1,
   "metadata": {},
   "outputs": [],
   "source": [
    "import numpy as np\n",
    "import pandas as pd\n",
    "from sklearn.preprocessing import RobustScaler\n",
    "from scipy.sparse import csr_matrix\n",
    "\n",
    "from sklearn.neighbors import LocalOutlierFactor\n",
    "from sklearn.impute import KNNImputer\n",
    "from scipy import stats\n",
    "from tqdm.notebook import tqdm\n",
    "\n",
    "import gc\n",
    "%matplotlib inline"
   ]
  },
  {
   "cell_type": "code",
   "execution_count": 2,
   "metadata": {
    "_cell_guid": "79c7e3d0-c299-4dcb-8224-4455121ee9b0",
    "_uuid": "d629ff2d2480ee46fbb7e2d37f6b5fab8052498a"
   },
   "outputs": [],
   "source": [
    "# Memory reduction helper function:\n",
    "def reduce_mem_usage(df, verbose=True):\n",
    "    numerics = ['int16', 'int32', 'int64', 'float16', 'float32', 'float64']\n",
    "    start_mem = df.memory_usage().sum() / 1024**2    \n",
    "    for col in df.columns: #columns\n",
    "        col_type = df[col].dtypes\n",
    "        if col_type in numerics: #numerics\n",
    "            c_min = df[col].min()\n",
    "            c_max = df[col].max()\n",
    "            if str(col_type)[:3] == 'int':\n",
    "                if c_min > np.iinfo(np.int8).min and c_max < np.iinfo(np.int8).max:\n",
    "                    df[col] = df[col].astype(np.int8)\n",
    "                elif c_min > np.iinfo(np.int16).min and c_max < np.iinfo(np.int16).max:\n",
    "                    df[col] = df[col].astype(np.int16)\n",
    "                elif c_min > np.iinfo(np.int32).min and c_max < np.iinfo(np.int32).max:\n",
    "                    df[col] = df[col].astype(np.int32)\n",
    "                elif c_min > np.iinfo(np.int64).min and c_max < np.iinfo(np.int64).max:\n",
    "                    df[col] = df[col].astype(np.int64)  \n",
    "            else:\n",
    "                if c_min > np.finfo(np.float16).min and c_max < np.finfo(np.float16).max:\n",
    "                    df[col] = df[col].astype(np.float16)\n",
    "                elif c_min > np.finfo(np.float32).min and c_max < np.finfo(np.float32).max:\n",
    "                    df[col] = df[col].astype(np.float32)\n",
    "                else:\n",
    "                    df[col] = df[col].astype(np.float64)    \n",
    "    end_mem = df.memory_usage().sum() / 1024**2\n",
    "    if verbose: print('Mem. usage decreased to {:5.2f} Mb ({:.1f}% reduction)'.format(end_mem, 100 * (start_mem - end_mem) / start_mem))\n",
    "    return df"
   ]
  },
  {
   "cell_type": "markdown",
   "execution_count": null,
   "metadata": {},
   "source": [
    "# M5 - Step 1: Clean\n",
    "\n",
    "## Clean: Impute Gaps & Cap Outliers\n",
    "#### Capping and imputing sales timeseries while preserving the target:\n",
    "\n",
    "Sales are noised with outliers and long zero gaps. We split target into three timeseries: \n",
    "\n",
    "* **sale_outlier_diff** - differnece between outlier and maximum non outlier value; outliers are flaged using z score.\n",
    "* **sale_cap_ipmuted** - Sales with capped outliers and imputed gap_days with flat mean\n",
    "* **imputed_gaps_1** & **imputed_gaps_23** - Store/Satte specific gaps imputed with flat mean"
   ]
  },
  {
   "cell_type": "markdown",
   "execution_count": null,
   "metadata": {},
   "source": [
    "# Load Datasets\n",
    "All three datasets needed because we need to calculate sales in USD."
   ]
  },
  {
   "cell_type": "code",
   "execution_count": 3,
   "metadata": {},
   "outputs": [
    {
     "name": "stdout",
     "output_type": "stream",
     "text": [
      "Mem. usage decreased to  0.11 Mb (44.3% reduction)\n",
      "Mem. usage decreased to 130.48 Mb (37.5% reduction)\n"
     ]
    }
   ],
   "source": [
    "# DEFAULT datasets\n",
    "data_pass = '/kaggle/input/m5-forecasting-accuracy/'\n",
    "\n",
    "# Sales quantities:\n",
    "\n",
    "# Calendar to get week number to join sell prices:\n",
    "calendar = pd.read_csv(data_pass+'calendar.csv')\n",
    "calendar.d = calendar.d.str.extract('(\\d+)').astype(np.int16)\n",
    "calendar = reduce_mem_usage(calendar)\n",
    "\n",
    "# Sell prices to calculate sales in USD:\n",
    "sell_prices = pd.read_csv(data_pass+'sell_prices.csv')\n",
    "sell_prices = reduce_mem_usage(sell_prices)"
   ]
  },
  {
   "cell_type": "code",
   "execution_count": 4,
   "metadata": {},
   "outputs": [
    {
     "name": "stdout",
     "output_type": "stream",
     "text": [
      "Mem. usage decreased to 947.67 Mb (0.0% reduction)\n",
      "Mem. usage decreased to 405.42 Mb (62.5% reduction)\n"
     ]
    }
   ],
   "source": [
    "# GAPS datasets\n",
    "# Load grid with gaps and imputed sales:\n",
    "file_pass = '/kaggle/input/'\n",
    "drop_cols = ['dept_id', 'cat_id','state_id','gaps','gaps_levels','gap_2std','gap_interval_2std','prob_zero','gaps10','gaps9','release']\n",
    "grid_df = reduce_mem_usage(pd.read_pickle(file_pass+'m5-agg-out-of-stock-levels/grid_part_1_agglvl.pkl').drop(columns=drop_cols))\n",
    "grid_df_2 = reduce_mem_usage(pd.read_pickle(file_pass+'m5-imputing-accurate-out-of-stock-feature/grid_part_1_sales_imputed.pkl'))\n",
    "grid_df = pd.concat([grid_df,grid_df_2],  axis=1)\n",
    "\n",
    "# Drop all levels except the bottom level 11:\n",
    "grid_df = grid_df[grid_df.level==11]\n",
    "\n",
    "del grid_df_2"
   ]
  },
  {
   "cell_type": "code",
   "execution_count": 5,
   "metadata": {},
   "outputs": [],
   "source": [
    "# Remove empty categories:\n",
    "for c in ['id','store_id', 'item_id']:\n",
    "    grid_df[c] = grid_df[c].astype('str').astype('category')"
   ]
  },
  {
   "cell_type": "code",
   "execution_count": 6,
   "metadata": {},
   "outputs": [],
   "source": [
    "# Add week of year:\n",
    "grid_df = pd.merge(grid_df, calendar[['wm_yr_wk','d']], how = 'left', \n",
    "                left_on = ['d'], right_on = ['d'])\n",
    "\n",
    "# Add price:\n",
    "grid_df = grid_df.merge(sell_prices, on = ['store_id', 'item_id', 'wm_yr_wk'], how = 'left')\n",
    "\n",
    "del sell_prices"
   ]
  },
  {
   "cell_type": "code",
   "execution_count": 7,
   "metadata": {},
   "outputs": [
    {
     "name": "stdout",
     "output_type": "stream",
     "text": [
      "Mem. usage decreased to 1700.46 Mb (7.3% reduction)\n"
     ]
    },
    {
     "data": {
      "text/plain": [
       "0"
      ]
     },
     "execution_count": 7,
     "metadata": {},
     "output_type": "execute_result"
    }
   ],
   "source": [
    "# We will have to reimpute the gaps, so convert them to boolean flags:\n",
    "grid_df['imputed_sales'] = ((grid_df['imputed_sales']-grid_df['sales'])>0.001).astype(np.int16, copy=False)\n",
    "grid_df['imputed_gaps_1'] = (grid_df['imputed_gaps_1']>0)\n",
    "grid_df['imputed_gaps_23'] = (grid_df['imputed_gaps_23']>0)\n",
    "\n",
    "grid_df = reduce_mem_usage(grid_df)\n",
    "gc.collect()"
   ]
  },
  {
   "cell_type": "code",
   "execution_count": 8,
   "metadata": {},
   "outputs": [
    {
     "data": {
      "text/html": [
       "<div>\n",
       "<style scoped>\n",
       "    .dataframe tbody tr th:only-of-type {\n",
       "        vertical-align: middle;\n",
       "    }\n",
       "\n",
       "    .dataframe tbody tr th {\n",
       "        vertical-align: top;\n",
       "    }\n",
       "\n",
       "    .dataframe thead th {\n",
       "        text-align: right;\n",
       "    }\n",
       "</style>\n",
       "<table border=\"1\" class=\"dataframe\">\n",
       "  <thead>\n",
       "    <tr style=\"text-align: right;\">\n",
       "      <th></th>\n",
       "      <th>id</th>\n",
       "      <th>item_id</th>\n",
       "      <th>store_id</th>\n",
       "      <th>d</th>\n",
       "      <th>sales</th>\n",
       "      <th>level</th>\n",
       "      <th>imputed_sales</th>\n",
       "      <th>imputed_gaps_1</th>\n",
       "      <th>imputed_gaps_23</th>\n",
       "      <th>wm_yr_wk</th>\n",
       "      <th>sell_price</th>\n",
       "    </tr>\n",
       "  </thead>\n",
       "  <tbody>\n",
       "    <tr>\n",
       "      <th>0</th>\n",
       "      <td>HOBBIES_1_008_CA_1_validation</td>\n",
       "      <td>HOBBIES_1_008</td>\n",
       "      <td>CA_1</td>\n",
       "      <td>1</td>\n",
       "      <td>12</td>\n",
       "      <td>11</td>\n",
       "      <td>0</td>\n",
       "      <td>False</td>\n",
       "      <td>False</td>\n",
       "      <td>11101</td>\n",
       "      <td>0.459961</td>\n",
       "    </tr>\n",
       "    <tr>\n",
       "      <th>1</th>\n",
       "      <td>HOBBIES_1_009_CA_1_validation</td>\n",
       "      <td>HOBBIES_1_009</td>\n",
       "      <td>CA_1</td>\n",
       "      <td>1</td>\n",
       "      <td>2</td>\n",
       "      <td>11</td>\n",
       "      <td>0</td>\n",
       "      <td>False</td>\n",
       "      <td>False</td>\n",
       "      <td>11101</td>\n",
       "      <td>1.559570</td>\n",
       "    </tr>\n",
       "    <tr>\n",
       "      <th>2</th>\n",
       "      <td>HOBBIES_1_010_CA_1_validation</td>\n",
       "      <td>HOBBIES_1_010</td>\n",
       "      <td>CA_1</td>\n",
       "      <td>1</td>\n",
       "      <td>0</td>\n",
       "      <td>11</td>\n",
       "      <td>0</td>\n",
       "      <td>False</td>\n",
       "      <td>False</td>\n",
       "      <td>11101</td>\n",
       "      <td>3.169922</td>\n",
       "    </tr>\n",
       "    <tr>\n",
       "      <th>3</th>\n",
       "      <td>HOBBIES_1_012_CA_1_validation</td>\n",
       "      <td>HOBBIES_1_012</td>\n",
       "      <td>CA_1</td>\n",
       "      <td>1</td>\n",
       "      <td>0</td>\n",
       "      <td>11</td>\n",
       "      <td>0</td>\n",
       "      <td>False</td>\n",
       "      <td>False</td>\n",
       "      <td>11101</td>\n",
       "      <td>5.980469</td>\n",
       "    </tr>\n",
       "    <tr>\n",
       "      <th>4</th>\n",
       "      <td>HOBBIES_1_015_CA_1_validation</td>\n",
       "      <td>HOBBIES_1_015</td>\n",
       "      <td>CA_1</td>\n",
       "      <td>1</td>\n",
       "      <td>4</td>\n",
       "      <td>11</td>\n",
       "      <td>0</td>\n",
       "      <td>False</td>\n",
       "      <td>False</td>\n",
       "      <td>11101</td>\n",
       "      <td>0.700195</td>\n",
       "    </tr>\n",
       "  </tbody>\n",
       "</table>\n",
       "</div>"
      ],
      "text/plain": [
       "                              id        item_id store_id  d  sales level  \\\n",
       "0  HOBBIES_1_008_CA_1_validation  HOBBIES_1_008     CA_1  1     12    11   \n",
       "1  HOBBIES_1_009_CA_1_validation  HOBBIES_1_009     CA_1  1      2    11   \n",
       "2  HOBBIES_1_010_CA_1_validation  HOBBIES_1_010     CA_1  1      0    11   \n",
       "3  HOBBIES_1_012_CA_1_validation  HOBBIES_1_012     CA_1  1      0    11   \n",
       "4  HOBBIES_1_015_CA_1_validation  HOBBIES_1_015     CA_1  1      4    11   \n",
       "\n",
       "   imputed_sales  imputed_gaps_1  imputed_gaps_23  wm_yr_wk  sell_price  \n",
       "0              0           False            False     11101    0.459961  \n",
       "1              0           False            False     11101    1.559570  \n",
       "2              0           False            False     11101    3.169922  \n",
       "3              0           False            False     11101    5.980469  \n",
       "4              0           False            False     11101    0.700195  "
      ]
     },
     "execution_count": 8,
     "metadata": {},
     "output_type": "execute_result"
    }
   ],
   "source": [
    "grid_df.head()"
   ]
  },
  {
   "cell_type": "markdown",
   "execution_count": null,
   "metadata": {},
   "source": [
    "# Variables\n",
    "Here we work only with the bottom level==11:\n",
    "\n",
    "* **sale_outlier_diff** - differnece between outlier and maximum non outlier value; outliers are flaged using z score.\n",
    "* **sale_cap_ipmuted** - Sales with capped ouliers and imputed gap_days with flat mean\n",
    "* **imputed_sales** - Boolean flag for sales that has been imputed\n",
    "* **imputed_gaps_1** - Store specific gaps imputed with flat mean\n",
    "* **imputed_gaps_23** - State and network specific gaps imputed with flat mean"
   ]
  },
  {
   "cell_type": "markdown",
   "execution_count": null,
   "metadata": {},
   "source": [
    "# Outliers: Find & Cap"
   ]
  },
  {
   "cell_type": "code",
   "execution_count": 9,
   "metadata": {},
   "outputs": [],
   "source": [
    "def z3_outlier(grp, col_name):\n",
    "    '''\n",
    "    Finds outliers based on z score'''\n",
    "    t = grp[grp[col_name]>0]\n",
    "    return t[np.abs(stats.zscore(t[col_name])) > 3].index"
   ]
  },
  {
   "cell_type": "code",
   "execution_count": 10,
   "metadata": {},
   "outputs": [
    {
     "data": {
      "application/vnd.jupyter.widget-view+json": {
       "model_id": "f6e2ee9ae44e42c98fa30f1aff0822ae",
       "version_major": 2,
       "version_minor": 0
      },
      "text/plain": [
       "HBox(children=(FloatProgress(value=0.0, max=30490.0), HTML(value='')))"
      ]
     },
     "metadata": {},
     "output_type": "display_data"
    },
    {
     "name": "stderr",
     "output_type": "stream",
     "text": [
      "/opt/conda/lib/python3.6/site-packages/scipy/stats/stats.py:2419: RuntimeWarning: invalid value encountered in true_divide\n",
      "  return (a - mns) / sstd\n",
      "/opt/conda/lib/python3.6/site-packages/ipykernel_launcher.py:12: RuntimeWarning: invalid value encountered in greater\n",
      "  if sys.path[0] == '':\n"
     ]
    },
    {
     "name": "stdout",
     "output_type": "stream",
     "text": [
      "\n"
     ]
    }
   ],
   "source": [
    "# Find outliers based on z score:\n",
    "## Filter out values more than 0 as otherwise all sales might be flagged as outliers:\n",
    "mask = grid_df.sales > 0\n",
    "\n",
    "## Group by 'id' as sales values have diffrenet mean from store to store: \n",
    "df_group = grid_df[mask].groupby(['id'])\n",
    "\n",
    "## Find indices of all outliers:\n",
    "grid_df.loc[:,'sale_outlier_diff']=0\n",
    "outlier_idx = []\n",
    "for group_name, g in tqdm(df_group):\n",
    "    outlier_idx += list(g[stats.zscore(g.sales) > 3].index) \n",
    "    \n",
    "## Create separate column with outliers:\n",
    "grid_df.loc[outlier_idx,'sale_outlier_diff']=grid_df.loc[outlier_idx,'sales']"
   ]
  },
  {
   "cell_type": "code",
   "execution_count": 11,
   "metadata": {},
   "outputs": [],
   "source": [
    "# Cap sales outliers with maximum non outlier value:\n",
    "grid_df['sales_cap_impute'] = grid_df['sales']\n",
    "nan_idx = grid_df[~grid_df.sales.isna()].index\n",
    "grid_df.loc[outlier_idx,'sales_cap_impute'] = np.nan\n",
    "\n",
    "grid_df.loc[nan_idx,'sales_cap_impute'] = grid_df.loc[nan_idx,'sales_cap_impute'].fillna(grid_df.groupby('id')['sales_cap_impute'].transform('max'))"
   ]
  },
  {
   "cell_type": "code",
   "execution_count": 12,
   "metadata": {},
   "outputs": [],
   "source": [
    "## For outlier column caclulate difference with the max non outlier:\n",
    "grid_df.loc[outlier_idx,'sale_outlier_diff']=grid_df.loc[outlier_idx,'sale_outlier_diff']-grid_df.loc[outlier_idx,'sales_cap_impute']"
   ]
  },
  {
   "cell_type": "markdown",
   "execution_count": null,
   "metadata": {},
   "source": [
    "# Gaps: Impute with flat mean"
   ]
  },
  {
   "cell_type": "code",
   "execution_count": 13,
   "metadata": {},
   "outputs": [],
   "source": [
    "# After ouliers are capped we can impute gaps with means:\n",
    "m = grid_df.groupby('id')['sales_cap_impute'].transform(np.nanmean)\n",
    "grid_df.loc[:,'imputed_gaps_1'] = m*(grid_df.imputed_gaps_1)\n",
    "grid_df.loc[:,'imputed_gaps_23'] = m*(grid_df.imputed_gaps_23)\n",
    "\n",
    "# Imupting store and network specific gaps:\n",
    "grid_df.loc[:,'sales_cap_impute'] = grid_df.sales +grid_df.imputed_gaps_1 +grid_df.imputed_gaps_23\n",
    "del m"
   ]
  },
  {
   "cell_type": "code",
   "execution_count": 14,
   "metadata": {},
   "outputs": [
    {
     "name": "stdout",
     "output_type": "stream",
     "text": [
      "Mem. usage decreased to 3248.72 Mb (24.8% reduction)\n"
     ]
    },
    {
     "data": {
      "text/plain": [
       "16"
      ]
     },
     "execution_count": 14,
     "metadata": {},
     "output_type": "execute_result"
    }
   ],
   "source": [
    "grid_df = reduce_mem_usage(grid_df)\n",
    "gc.collect()"
   ]
  },
  {
   "cell_type": "code",
   "execution_count": 15,
   "metadata": {},
   "outputs": [],
   "source": [
    "# Dump to pickle. :\n",
    "grid_df.to_pickle('grid_part_1_outlier.pkl')"
   ]
  },
  {
   "cell_type": "code",
   "execution_count": 16,
   "metadata": {},
   "outputs": [
    {
     "data": {
      "text/html": [
       "<div>\n",
       "<style scoped>\n",
       "    .dataframe tbody tr th:only-of-type {\n",
       "        vertical-align: middle;\n",
       "    }\n",
       "\n",
       "    .dataframe tbody tr th {\n",
       "        vertical-align: top;\n",
       "    }\n",
       "\n",
       "    .dataframe thead th {\n",
       "        text-align: right;\n",
       "    }\n",
       "</style>\n",
       "<table border=\"1\" class=\"dataframe\">\n",
       "  <thead>\n",
       "    <tr style=\"text-align: right;\">\n",
       "      <th></th>\n",
       "      <th>id</th>\n",
       "      <th>item_id</th>\n",
       "      <th>store_id</th>\n",
       "      <th>d</th>\n",
       "      <th>sales</th>\n",
       "      <th>level</th>\n",
       "      <th>imputed_sales</th>\n",
       "      <th>imputed_gaps_1</th>\n",
       "      <th>imputed_gaps_23</th>\n",
       "      <th>wm_yr_wk</th>\n",
       "      <th>sell_price</th>\n",
       "      <th>sale_outlier_diff</th>\n",
       "      <th>sales_cap_impute</th>\n",
       "    </tr>\n",
       "  </thead>\n",
       "  <tbody>\n",
       "    <tr>\n",
       "      <th>0</th>\n",
       "      <td>HOBBIES_1_008_CA_1_validation</td>\n",
       "      <td>HOBBIES_1_008</td>\n",
       "      <td>CA_1</td>\n",
       "      <td>1</td>\n",
       "      <td>12</td>\n",
       "      <td>11</td>\n",
       "      <td>0</td>\n",
       "      <td>0.0</td>\n",
       "      <td>0.0</td>\n",
       "      <td>11101</td>\n",
       "      <td>0.459961</td>\n",
       "      <td>0.0</td>\n",
       "      <td>12.0</td>\n",
       "    </tr>\n",
       "    <tr>\n",
       "      <th>1</th>\n",
       "      <td>HOBBIES_1_009_CA_1_validation</td>\n",
       "      <td>HOBBIES_1_009</td>\n",
       "      <td>CA_1</td>\n",
       "      <td>1</td>\n",
       "      <td>2</td>\n",
       "      <td>11</td>\n",
       "      <td>0</td>\n",
       "      <td>0.0</td>\n",
       "      <td>0.0</td>\n",
       "      <td>11101</td>\n",
       "      <td>1.559570</td>\n",
       "      <td>0.0</td>\n",
       "      <td>2.0</td>\n",
       "    </tr>\n",
       "    <tr>\n",
       "      <th>2</th>\n",
       "      <td>HOBBIES_1_010_CA_1_validation</td>\n",
       "      <td>HOBBIES_1_010</td>\n",
       "      <td>CA_1</td>\n",
       "      <td>1</td>\n",
       "      <td>0</td>\n",
       "      <td>11</td>\n",
       "      <td>0</td>\n",
       "      <td>0.0</td>\n",
       "      <td>0.0</td>\n",
       "      <td>11101</td>\n",
       "      <td>3.169922</td>\n",
       "      <td>0.0</td>\n",
       "      <td>0.0</td>\n",
       "    </tr>\n",
       "    <tr>\n",
       "      <th>3</th>\n",
       "      <td>HOBBIES_1_012_CA_1_validation</td>\n",
       "      <td>HOBBIES_1_012</td>\n",
       "      <td>CA_1</td>\n",
       "      <td>1</td>\n",
       "      <td>0</td>\n",
       "      <td>11</td>\n",
       "      <td>0</td>\n",
       "      <td>0.0</td>\n",
       "      <td>0.0</td>\n",
       "      <td>11101</td>\n",
       "      <td>5.980469</td>\n",
       "      <td>0.0</td>\n",
       "      <td>0.0</td>\n",
       "    </tr>\n",
       "    <tr>\n",
       "      <th>4</th>\n",
       "      <td>HOBBIES_1_015_CA_1_validation</td>\n",
       "      <td>HOBBIES_1_015</td>\n",
       "      <td>CA_1</td>\n",
       "      <td>1</td>\n",
       "      <td>4</td>\n",
       "      <td>11</td>\n",
       "      <td>0</td>\n",
       "      <td>0.0</td>\n",
       "      <td>0.0</td>\n",
       "      <td>11101</td>\n",
       "      <td>0.700195</td>\n",
       "      <td>0.0</td>\n",
       "      <td>4.0</td>\n",
       "    </tr>\n",
       "  </tbody>\n",
       "</table>\n",
       "</div>"
      ],
      "text/plain": [
       "                              id        item_id store_id  d  sales level  \\\n",
       "0  HOBBIES_1_008_CA_1_validation  HOBBIES_1_008     CA_1  1     12    11   \n",
       "1  HOBBIES_1_009_CA_1_validation  HOBBIES_1_009     CA_1  1      2    11   \n",
       "2  HOBBIES_1_010_CA_1_validation  HOBBIES_1_010     CA_1  1      0    11   \n",
       "3  HOBBIES_1_012_CA_1_validation  HOBBIES_1_012     CA_1  1      0    11   \n",
       "4  HOBBIES_1_015_CA_1_validation  HOBBIES_1_015     CA_1  1      4    11   \n",
       "\n",
       "   imputed_sales  imputed_gaps_1  imputed_gaps_23  wm_yr_wk  sell_price  \\\n",
       "0              0             0.0              0.0     11101    0.459961   \n",
       "1              0             0.0              0.0     11101    1.559570   \n",
       "2              0             0.0              0.0     11101    3.169922   \n",
       "3              0             0.0              0.0     11101    5.980469   \n",
       "4              0             0.0              0.0     11101    0.700195   \n",
       "\n",
       "   sale_outlier_diff  sales_cap_impute  \n",
       "0                0.0              12.0  \n",
       "1                0.0               2.0  \n",
       "2                0.0               0.0  \n",
       "3                0.0               0.0  \n",
       "4                0.0               4.0  "
      ]
     },
     "execution_count": 16,
     "metadata": {},
     "output_type": "execute_result"
    }
   ],
   "source": [
    "grid_df.head()"
   ]
  },
  {
   "cell_type": "markdown",
   "execution_count": null,
   "metadata": {},
   "source": [
    "# DANGER: np.float16\n",
    "\n",
    "The format should be changed to np.float32 before feature engineering or training."
   ]
  }
 ],
 "metadata": {
  "kernelspec": {
   "display_name": "Python 3",
   "language": "python",
   "name": "python3"
  },
  "language_info": {
   "codemirror_mode": {
    "name": "ipython",
    "version": 3
   },
   "file_extension": ".py",
   "mimetype": "text/x-python",
   "name": "python",
   "nbconvert_exporter": "python",
   "pygments_lexer": "ipython3",
   "version": "3.6.6"
  },
  "widgets": {
   "application/vnd.jupyter.widget-state+json": {
    "state": {
     "270f41c79e3a4887bd7cbd9b6ec75245": {
      "model_module": "@jupyter-widgets/controls",
      "model_module_version": "1.5.0",
      "model_name": "ProgressStyleModel",
      "state": {
       "_model_module": "@jupyter-widgets/controls",
       "_model_module_version": "1.5.0",
       "_model_name": "ProgressStyleModel",
       "_view_count": null,
       "_view_module": "@jupyter-widgets/base",
       "_view_module_version": "1.2.0",
       "_view_name": "StyleView",
       "bar_color": null,
       "description_width": "initial"
      }
     },
     "5f95d37555e8452b96fd834fd78cb1e6": {
      "model_module": "@jupyter-widgets/base",
      "model_module_version": "1.2.0",
      "model_name": "LayoutModel",
      "state": {
       "_model_module": "@jupyter-widgets/base",
       "_model_module_version": "1.2.0",
       "_model_name": "LayoutModel",
       "_view_count": null,
       "_view_module": "@jupyter-widgets/base",
       "_view_module_version": "1.2.0",
       "_view_name": "LayoutView",
       "align_content": null,
       "align_items": null,
       "align_self": null,
       "border": null,
       "bottom": null,
       "display": null,
       "flex": null,
       "flex_flow": null,
       "grid_area": null,
       "grid_auto_columns": null,
       "grid_auto_flow": null,
       "grid_auto_rows": null,
       "grid_column": null,
       "grid_gap": null,
       "grid_row": null,
       "grid_template_areas": null,
       "grid_template_columns": null,
       "grid_template_rows": null,
       "height": null,
       "justify_content": null,
       "justify_items": null,
       "left": null,
       "margin": null,
       "max_height": null,
       "max_width": null,
       "min_height": null,
       "min_width": null,
       "object_fit": null,
       "object_position": null,
       "order": null,
       "overflow": null,
       "overflow_x": null,
       "overflow_y": null,
       "padding": null,
       "right": null,
       "top": null,
       "visibility": null,
       "width": null
      }
     },
     "6317533fee464227a6da99362ea50176": {
      "model_module": "@jupyter-widgets/base",
      "model_module_version": "1.2.0",
      "model_name": "LayoutModel",
      "state": {
       "_model_module": "@jupyter-widgets/base",
       "_model_module_version": "1.2.0",
       "_model_name": "LayoutModel",
       "_view_count": null,
       "_view_module": "@jupyter-widgets/base",
       "_view_module_version": "1.2.0",
       "_view_name": "LayoutView",
       "align_content": null,
       "align_items": null,
       "align_self": null,
       "border": null,
       "bottom": null,
       "display": null,
       "flex": null,
       "flex_flow": null,
       "grid_area": null,
       "grid_auto_columns": null,
       "grid_auto_flow": null,
       "grid_auto_rows": null,
       "grid_column": null,
       "grid_gap": null,
       "grid_row": null,
       "grid_template_areas": null,
       "grid_template_columns": null,
       "grid_template_rows": null,
       "height": null,
       "justify_content": null,
       "justify_items": null,
       "left": null,
       "margin": null,
       "max_height": null,
       "max_width": null,
       "min_height": null,
       "min_width": null,
       "object_fit": null,
       "object_position": null,
       "order": null,
       "overflow": null,
       "overflow_x": null,
       "overflow_y": null,
       "padding": null,
       "right": null,
       "top": null,
       "visibility": null,
       "width": null
      }
     },
     "6ccb4e81f2f047339ce2790b81af7c76": {
      "model_module": "@jupyter-widgets/controls",
      "model_module_version": "1.5.0",
      "model_name": "DescriptionStyleModel",
      "state": {
       "_model_module": "@jupyter-widgets/controls",
       "_model_module_version": "1.5.0",
       "_model_name": "DescriptionStyleModel",
       "_view_count": null,
       "_view_module": "@jupyter-widgets/base",
       "_view_module_version": "1.2.0",
       "_view_name": "StyleView",
       "description_width": ""
      }
     },
     "d98de043933740faaae6cb289d570562": {
      "model_module": "@jupyter-widgets/controls",
      "model_module_version": "1.5.0",
      "model_name": "HTMLModel",
      "state": {
       "_dom_classes": [],
       "_model_module": "@jupyter-widgets/controls",
       "_model_module_version": "1.5.0",
       "_model_name": "HTMLModel",
       "_view_count": null,
       "_view_module": "@jupyter-widgets/controls",
       "_view_module_version": "1.5.0",
       "_view_name": "HTMLView",
       "description": "",
       "description_tooltip": null,
       "layout": "IPY_MODEL_6317533fee464227a6da99362ea50176",
       "placeholder": "​",
       "style": "IPY_MODEL_6ccb4e81f2f047339ce2790b81af7c76",
       "value": " 30490/30490 [01:54&lt;00:00, 266.23it/s]"
      }
     },
     "f5eabe6e18164a82a8c4d9b1545c9765": {
      "model_module": "@jupyter-widgets/base",
      "model_module_version": "1.2.0",
      "model_name": "LayoutModel",
      "state": {
       "_model_module": "@jupyter-widgets/base",
       "_model_module_version": "1.2.0",
       "_model_name": "LayoutModel",
       "_view_count": null,
       "_view_module": "@jupyter-widgets/base",
       "_view_module_version": "1.2.0",
       "_view_name": "LayoutView",
       "align_content": null,
       "align_items": null,
       "align_self": null,
       "border": null,
       "bottom": null,
       "display": null,
       "flex": null,
       "flex_flow": null,
       "grid_area": null,
       "grid_auto_columns": null,
       "grid_auto_flow": null,
       "grid_auto_rows": null,
       "grid_column": null,
       "grid_gap": null,
       "grid_row": null,
       "grid_template_areas": null,
       "grid_template_columns": null,
       "grid_template_rows": null,
       "height": null,
       "justify_content": null,
       "justify_items": null,
       "left": null,
       "margin": null,
       "max_height": null,
       "max_width": null,
       "min_height": null,
       "min_width": null,
       "object_fit": null,
       "object_position": null,
       "order": null,
       "overflow": null,
       "overflow_x": null,
       "overflow_y": null,
       "padding": null,
       "right": null,
       "top": null,
       "visibility": null,
       "width": null
      }
     },
     "f6e2ee9ae44e42c98fa30f1aff0822ae": {
      "model_module": "@jupyter-widgets/controls",
      "model_module_version": "1.5.0",
      "model_name": "HBoxModel",
      "state": {
       "_dom_classes": [],
       "_model_module": "@jupyter-widgets/controls",
       "_model_module_version": "1.5.0",
       "_model_name": "HBoxModel",
       "_view_count": null,
       "_view_module": "@jupyter-widgets/controls",
       "_view_module_version": "1.5.0",
       "_view_name": "HBoxView",
       "box_style": "",
       "children": [
        "IPY_MODEL_fd8df6ed866e4d8c81320d14a2992352",
        "IPY_MODEL_d98de043933740faaae6cb289d570562"
       ],
       "layout": "IPY_MODEL_5f95d37555e8452b96fd834fd78cb1e6"
      }
     },
     "fd8df6ed866e4d8c81320d14a2992352": {
      "model_module": "@jupyter-widgets/controls",
      "model_module_version": "1.5.0",
      "model_name": "FloatProgressModel",
      "state": {
       "_dom_classes": [],
       "_model_module": "@jupyter-widgets/controls",
       "_model_module_version": "1.5.0",
       "_model_name": "FloatProgressModel",
       "_view_count": null,
       "_view_module": "@jupyter-widgets/controls",
       "_view_module_version": "1.5.0",
       "_view_name": "ProgressView",
       "bar_style": "success",
       "description": "100%",
       "description_tooltip": null,
       "layout": "IPY_MODEL_f5eabe6e18164a82a8c4d9b1545c9765",
       "max": 30490.0,
       "min": 0.0,
       "orientation": "horizontal",
       "style": "IPY_MODEL_270f41c79e3a4887bd7cbd9b6ec75245",
       "value": 30490.0
      }
     }
    },
    "version_major": 2,
    "version_minor": 0
   }
  }
 },
 "nbformat": 4,
 "nbformat_minor": 4
}

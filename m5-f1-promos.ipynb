{
 "cells": [
  {
   "cell_type": "markdown",
   "execution_count": null,
   "metadata": {},
   "source": [
    "# M5 F1 - Promos\n",
    "\n",
    "* Flag one oe two weeks price changes\n",
    "* Scaled prices\n",
    "* Price pct change"
   ]
  },
  {
   "cell_type": "code",
   "execution_count": 1,
   "metadata": {
    "_cell_guid": "b1076dfc-b9ad-4769-8c92-a6c4dae69d19",
    "_uuid": "8f2839f25d086af736a60e9eeb907d3b93b6e0e5"
   },
   "outputs": [],
   "source": [
    "import numpy as np\n",
    "import pandas as pd\n",
    "from sklearn.metrics import mean_squared_error\n",
    "from scipy.sparse import csr_matrix\n",
    "import gc"
   ]
  },
  {
   "cell_type": "code",
   "execution_count": 2,
   "metadata": {
    "_cell_guid": "79c7e3d0-c299-4dcb-8224-4455121ee9b0",
    "_uuid": "d629ff2d2480ee46fbb7e2d37f6b5fab8052498a"
   },
   "outputs": [],
   "source": [
    "# Memory reduction helper function:\n",
    "def reduce_mem_usage(df, verbose=True):\n",
    "    numerics = ['int16', 'int32', 'int64', 'float16', 'float32', 'float64']\n",
    "    start_mem = df.memory_usage().sum() / 1024**2    \n",
    "    for col in df.columns: #columns\n",
    "        col_type = df[col].dtypes\n",
    "        if col_type in numerics: #numerics\n",
    "            c_min = df[col].min()\n",
    "            c_max = df[col].max()\n",
    "            if str(col_type)[:3] == 'int':\n",
    "                if c_min > np.iinfo(np.int8).min and c_max < np.iinfo(np.int8).max:\n",
    "                    df[col] = df[col].astype(np.int8)\n",
    "                elif c_min > np.iinfo(np.int16).min and c_max < np.iinfo(np.int16).max:\n",
    "                    df[col] = df[col].astype(np.int16)\n",
    "                elif c_min > np.iinfo(np.int32).min and c_max < np.iinfo(np.int32).max:\n",
    "                    df[col] = df[col].astype(np.int32)\n",
    "                elif c_min > np.iinfo(np.int64).min and c_max < np.iinfo(np.int64).max:\n",
    "                    df[col] = df[col].astype(np.int64)  \n",
    "            else:\n",
    "                if c_min > np.finfo(np.float16).min and c_max < np.finfo(np.float16).max:\n",
    "                    df[col] = df[col].astype(np.float16)\n",
    "                elif c_min > np.finfo(np.float32).min and c_max < np.finfo(np.float32).max:\n",
    "                    df[col] = df[col].astype(np.float32)\n",
    "                else:\n",
    "                    df[col] = df[col].astype(np.float64)    \n",
    "    end_mem = df.memory_usage().sum() / 1024**2\n",
    "    if verbose: print('Mem. usage decreased to {:5.2f} Mb ({:.1f}% reduction)'.format(end_mem, 100 * (start_mem - end_mem) / start_mem))\n",
    "    return df"
   ]
  },
  {
   "cell_type": "markdown",
   "execution_count": null,
   "metadata": {},
   "source": [
    "### Load Datasets\n",
    "All three datasets needed because we need to calculate sales in USD."
   ]
  },
  {
   "cell_type": "code",
   "execution_count": 3,
   "metadata": {},
   "outputs": [],
   "source": [
    "# Items with the most often promos:\n",
    "ids = ['FOODS_3_578',\n",
    "'FOODS_3_610',\n",
    "'FOODS_3_615',\n",
    "'FOODS_3_348',\n",
    "'FOODS_3_785']"
   ]
  },
  {
   "cell_type": "code",
   "execution_count": 4,
   "metadata": {},
   "outputs": [],
   "source": [
    "# Load grid with gaps and imputed sales:\n",
    "cols = ['id', 'item_id', 'store_id', 'level', 'wm_yr_wk_x', 'sell_price', 'sales']\n",
    "\n",
    "file_pass = '/kaggle/input/m5-s2-holidays/grid_s2.pkl'\n",
    "grid_df = pd.read_pickle(file_pass)[cols]\n",
    "grid_df.rename(columns={\"wm_yr_wk_x\": \"wm_yr_wk\"}, inplace=True)"
   ]
  },
  {
   "cell_type": "code",
   "execution_count": 5,
   "metadata": {},
   "outputs": [],
   "source": [
    "# Create week aggregations:\n",
    "sell_prices = grid_df.groupby(['id','wm_yr_wk']).mean().fillna(0)\n",
    "sell_prices.reset_index(inplace=True)"
   ]
  },
  {
   "cell_type": "markdown",
   "execution_count": null,
   "metadata": {},
   "source": [
    "# Sales features:"
   ]
  },
  {
   "cell_type": "code",
   "execution_count": 6,
   "metadata": {},
   "outputs": [],
   "source": [
    "# Shifted prices:\n",
    "sell_prices['price_after2'] = sell_prices.groupby(['id'])['sell_price'].shift(-2)\n",
    "sell_prices['price_after'] = sell_prices.groupby(['id'])['sell_price'].shift(-1)\n",
    "sell_prices['price_before'] = sell_prices.groupby(['id'])['sell_price'].shift(1)\n",
    "sell_prices['price_before2'] = sell_prices.groupby(['id'])['sell_price'].shift(2)\n",
    "\n",
    "# One week sale is when current price is not equal to the previous \n",
    "# but previous is equal to future:\n",
    "sell_prices['x1_week_sale'] = (\n",
    "        sell_prices.sell_price != sell_prices.price_before\n",
    "    ) & (\n",
    "        sell_prices.price_before == sell_prices.price_after\n",
    "    ) & (sell_prices.price_before > 0)\n",
    "\n",
    "\n",
    "# Two weeks sale is when current price is not equal to the previous, equal to next \n",
    "# and previous is equal to the one after next:\n",
    "sell_prices['x2_week_sale'] = (\n",
    "        sell_prices.sell_price != sell_prices.price_before\n",
    "    ) & (\n",
    "        sell_prices.sell_price == sell_prices.price_after\n",
    "    ) & (\n",
    "        sell_prices.price_before == sell_prices.price_after2\n",
    "    ) & (sell_prices.price_before > 0)\n",
    "\n",
    "sell_prices['x2_week_sale2'] = (\n",
    "        sell_prices.sell_price != sell_prices.price_before2\n",
    "    ) & (\n",
    "        sell_prices.sell_price == sell_prices.price_before\n",
    "    ) & (\n",
    "        sell_prices.price_before2 == sell_prices.price_after\n",
    "    ) & (sell_prices.price_before2 > 0)\n",
    "\n",
    "# Promo weeks flag:\n",
    "sell_prices['promo_weeks_flag'] = sell_prices.x1_week_sale|sell_prices.x2_week_sale|sell_prices.x2_week_sale2\n",
    "sell_prices['promo_weeks_revenue'] = sell_prices['promo_weeks_flag']*sell_prices['sales']*sell_prices['sell_price']"
   ]
  },
  {
   "cell_type": "code",
   "execution_count": 7,
   "metadata": {},
   "outputs": [],
   "source": [
    "# only useful columns:\n",
    "cols = ['id', 'wm_yr_wk', 'promo_weeks_flag','sell_price','promo_weeks_revenue']\n",
    "sell_prices = sell_prices[cols]"
   ]
  },
  {
   "cell_type": "markdown",
   "execution_count": null,
   "metadata": {},
   "source": [
    "# Rollup"
   ]
  },
  {
   "cell_type": "code",
   "execution_count": 8,
   "metadata": {},
   "outputs": [
    {
     "name": "stdout",
     "output_type": "stream",
     "text": [
      "Mem. usage decreased to 1247.46 Mb (0.0% reduction)\n"
     ]
    }
   ],
   "source": [
    "# 1. Load roll_up dataframe\n",
    "# Function to do quick rollups:\n",
    "def rollup(v):\n",
    "    '''\n",
    "    v - np.array of size (30490 rows, n day columns)\n",
    "    v_rolledup - array of size (n, 42840)\n",
    "    '''\n",
    "    return roll_mat_csr*v #(v.T*roll_mat_csr.T).T\n",
    "\n",
    "# Load CSR matrix for quick Rollups:\n",
    "## Define folder pass here:\n",
    "file_pass = '/kaggle/input/fast-clear-wrmsse-18ms/'# '/kaggle/input/fast-wrmsse-and-sw-frame/'\n",
    "\n",
    "## Load matrix and save rollup index:\n",
    "roll_mat_df = reduce_mem_usage(pd.read_pickle(file_pass+'roll_mat_df.pkl'))\n",
    "roll_index = roll_mat_df.index\n",
    "roll_mat_csr = csr_matrix(roll_mat_df.values)\n",
    "del roll_mat_df"
   ]
  },
  {
   "cell_type": "code",
   "execution_count": 9,
   "metadata": {},
   "outputs": [
    {
     "name": "stdout",
     "output_type": "stream",
     "text": [
      "Mem. usage decreased to 215.80 Mb (47.2% reduction)\n"
     ]
    },
    {
     "data": {
      "text/plain": [
       "0"
      ]
     },
     "execution_count": 9,
     "metadata": {},
     "output_type": "execute_result"
    }
   ],
   "source": [
    "# Grid_df and Csr_matrix indices should be sorted in the same way:\n",
    "sorted_idx = roll_index.to_frame().loc[11].id.index\n",
    "\n",
    "# Prepare for Rollup by making every row an ID:\n",
    "sell_prices = sell_prices.pivot(index='id', columns='wm_yr_wk').astype(np.float32).reindex(sorted_idx)\n",
    "\n",
    "# Save columns for future use:\n",
    "week_cols = sell_prices.columns\n",
    "\n",
    "# Rollup by multiplying by csr matrix:\n",
    "roll_week_df = pd.DataFrame(rollup(sell_prices.values), index = roll_index, columns = week_cols)\n",
    "\n",
    "# Return to long form:\n",
    "roll_week_df = roll_week_df.T.unstack(level=1).T.reset_index()\n",
    "\n",
    "# Reduce memory:\n",
    "roll_week_df = reduce_mem_usage(roll_week_df)\n",
    "\n",
    "del sell_prices, grid_df\n",
    "gc.collect()"
   ]
  },
  {
   "cell_type": "code",
   "execution_count": 10,
   "metadata": {},
   "outputs": [],
   "source": [
    "# Create price features:\n",
    "roll_week_df['price_pct_change'] = roll_week_df.groupby(['id'])['sell_price'].pct_change()\n",
    "roll_week_df['scaled_price'] = roll_week_df.groupby(['id'])['sell_price'].apply(lambda x: x/max(x))\n",
    "roll_week_df['promo_weeks_revenue'] = roll_week_df.groupby(['id'])['promo_weeks_revenue'].apply(lambda x: np.log(x+1))"
   ]
  },
  {
   "cell_type": "code",
   "execution_count": 11,
   "metadata": {},
   "outputs": [],
   "source": [
    "roll_week_df.to_pickle('m5_f1_promos.pkl')"
   ]
  },
  {
   "cell_type": "code",
   "execution_count": 12,
   "metadata": {},
   "outputs": [
    {
     "data": {
      "text/html": [
       "<div>\n",
       "<style scoped>\n",
       "    .dataframe tbody tr th:only-of-type {\n",
       "        vertical-align: middle;\n",
       "    }\n",
       "\n",
       "    .dataframe tbody tr th {\n",
       "        vertical-align: top;\n",
       "    }\n",
       "\n",
       "    .dataframe thead th {\n",
       "        text-align: right;\n",
       "    }\n",
       "</style>\n",
       "<table border=\"1\" class=\"dataframe\">\n",
       "  <thead>\n",
       "    <tr style=\"text-align: right;\">\n",
       "      <th></th>\n",
       "      <th>level</th>\n",
       "      <th>id</th>\n",
       "      <th>wm_yr_wk</th>\n",
       "      <th>promo_weeks_flag</th>\n",
       "      <th>sell_price</th>\n",
       "      <th>promo_weeks_revenue</th>\n",
       "      <th>price_pct_change</th>\n",
       "      <th>scaled_price</th>\n",
       "    </tr>\n",
       "  </thead>\n",
       "  <tbody>\n",
       "    <tr>\n",
       "      <th>0</th>\n",
       "      <td>0</td>\n",
       "      <td>all</td>\n",
       "      <td>11101</td>\n",
       "      <td>0.0</td>\n",
       "      <td>44506.437500</td>\n",
       "      <td>0.000000</td>\n",
       "      <td>NaN</td>\n",
       "      <td>0.325461</td>\n",
       "    </tr>\n",
       "    <tr>\n",
       "      <th>1</th>\n",
       "      <td>0</td>\n",
       "      <td>all</td>\n",
       "      <td>11102</td>\n",
       "      <td>2.0</td>\n",
       "      <td>49834.167969</td>\n",
       "      <td>1.411133</td>\n",
       "      <td>0.119707</td>\n",
       "      <td>0.364420</td>\n",
       "    </tr>\n",
       "    <tr>\n",
       "      <th>2</th>\n",
       "      <td>0</td>\n",
       "      <td>all</td>\n",
       "      <td>11103</td>\n",
       "      <td>4.0</td>\n",
       "      <td>52459.410156</td>\n",
       "      <td>1.109375</td>\n",
       "      <td>0.052680</td>\n",
       "      <td>0.383618</td>\n",
       "    </tr>\n",
       "    <tr>\n",
       "      <th>3</th>\n",
       "      <td>0</td>\n",
       "      <td>all</td>\n",
       "      <td>11104</td>\n",
       "      <td>9.0</td>\n",
       "      <td>53765.269531</td>\n",
       "      <td>3.416016</td>\n",
       "      <td>0.024893</td>\n",
       "      <td>0.393167</td>\n",
       "    </tr>\n",
       "    <tr>\n",
       "      <th>4</th>\n",
       "      <td>0</td>\n",
       "      <td>all</td>\n",
       "      <td>11105</td>\n",
       "      <td>6.0</td>\n",
       "      <td>54776.277344</td>\n",
       "      <td>2.617188</td>\n",
       "      <td>0.018804</td>\n",
       "      <td>0.400560</td>\n",
       "    </tr>\n",
       "  </tbody>\n",
       "</table>\n",
       "</div>"
      ],
      "text/plain": [
       "   level   id  wm_yr_wk  promo_weeks_flag    sell_price  promo_weeks_revenue  \\\n",
       "0      0  all     11101               0.0  44506.437500             0.000000   \n",
       "1      0  all     11102               2.0  49834.167969             1.411133   \n",
       "2      0  all     11103               4.0  52459.410156             1.109375   \n",
       "3      0  all     11104               9.0  53765.269531             3.416016   \n",
       "4      0  all     11105               6.0  54776.277344             2.617188   \n",
       "\n",
       "   price_pct_change  scaled_price  \n",
       "0               NaN      0.325461  \n",
       "1          0.119707      0.364420  \n",
       "2          0.052680      0.383618  \n",
       "3          0.024893      0.393167  \n",
       "4          0.018804      0.400560  "
      ]
     },
     "execution_count": 12,
     "metadata": {},
     "output_type": "execute_result"
    }
   ],
   "source": [
    "roll_week_df.head()"
   ]
  }
 ],
 "metadata": {
  "kernelspec": {
   "display_name": "Python 3",
   "language": "python",
   "name": "python3"
  },
  "language_info": {
   "codemirror_mode": {
    "name": "ipython",
    "version": 3
   },
   "file_extension": ".py",
   "mimetype": "text/x-python",
   "name": "python",
   "nbconvert_exporter": "python",
   "pygments_lexer": "ipython3",
   "version": "3.6.6"
  }
 },
 "nbformat": 4,
 "nbformat_minor": 4
}

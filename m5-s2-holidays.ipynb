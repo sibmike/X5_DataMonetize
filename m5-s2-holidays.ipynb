{
 "cells": [
  {
   "cell_type": "code",
   "execution_count": 1,
   "metadata": {},
   "outputs": [],
   "source": [
    "import numpy as np\n",
    "import pandas as pd\n",
    "from sklearn.preprocessing import RobustScaler\n",
    "from scipy.sparse import csr_matrix\n",
    "\n",
    "from sklearn.neighbors import LocalOutlierFactor\n",
    "from sklearn.impute import KNNImputer\n",
    "from scipy import stats\n",
    "from tqdm.notebook import tqdm\n",
    "\n",
    "import gc\n",
    "%matplotlib inline"
   ]
  },
  {
   "cell_type": "code",
   "execution_count": 2,
   "metadata": {
    "_cell_guid": "79c7e3d0-c299-4dcb-8224-4455121ee9b0",
    "_uuid": "d629ff2d2480ee46fbb7e2d37f6b5fab8052498a"
   },
   "outputs": [],
   "source": [
    "# Memory reduction helper function:\n",
    "def reduce_mem_usage(df, verbose=True):\n",
    "    numerics = ['int16', 'int32', 'int64', 'float16', 'float32', 'float64']\n",
    "    start_mem = df.memory_usage().sum() / 1024**2    \n",
    "    for col in df.columns: #columns\n",
    "        col_type = df[col].dtypes\n",
    "        if col_type in numerics: #numerics\n",
    "            c_min = df[col].min()\n",
    "            c_max = df[col].max()\n",
    "            if str(col_type)[:3] == 'int':\n",
    "                if c_min > np.iinfo(np.int8).min and c_max < np.iinfo(np.int8).max:\n",
    "                    df[col] = df[col].astype(np.int8)\n",
    "                elif c_min > np.iinfo(np.int16).min and c_max < np.iinfo(np.int16).max:\n",
    "                    df[col] = df[col].astype(np.int16)\n",
    "                elif c_min > np.iinfo(np.int32).min and c_max < np.iinfo(np.int32).max:\n",
    "                    df[col] = df[col].astype(np.int32)\n",
    "                elif c_min > np.iinfo(np.int64).min and c_max < np.iinfo(np.int64).max:\n",
    "                    df[col] = df[col].astype(np.int64)  \n",
    "            else:\n",
    "                if c_min > np.finfo(np.float16).min and c_max < np.finfo(np.float16).max:\n",
    "                    df[col] = df[col].astype(np.float16)\n",
    "                elif c_min > np.finfo(np.float32).min and c_max < np.finfo(np.float32).max:\n",
    "                    df[col] = df[col].astype(np.float32)\n",
    "                else:\n",
    "                    df[col] = df[col].astype(np.float64)    \n",
    "    end_mem = df.memory_usage().sum() / 1024**2\n",
    "    if verbose: print('Mem. usage decreased to {:5.2f} Mb ({:.1f}% reduction)'.format(end_mem, 100 * (start_mem - end_mem) / start_mem))\n",
    "    return df"
   ]
  },
  {
   "cell_type": "code",
   "execution_count": 3,
   "metadata": {},
   "outputs": [
    {
     "name": "stdout",
     "output_type": "stream",
     "text": [
      "Mem. usage decreased to  0.11 Mb (44.3% reduction)\n"
     ]
    }
   ],
   "source": [
    "# DEFAULT datasets\n",
    "data_pass = '/kaggle/input/m5-forecasting-accuracy/'\n",
    "\n",
    "# Calendar to get week number to join sell prices:\n",
    "calendar = pd.read_csv(data_pass+'calendar.csv')\n",
    "calendar.d = calendar.d.str.extract('(\\d+)').astype(np.int16)\n",
    "calendar = reduce_mem_usage(calendar)"
   ]
  },
  {
   "cell_type": "code",
   "execution_count": 4,
   "metadata": {},
   "outputs": [
    {
     "data": {
      "text/plain": [
       "array([11101, 11102, 11103, 11104, 11105, 11106, 11107, 11108, 11109,\n",
       "       11110, 11111, 11112, 11113, 11114, 11115, 11116, 11117, 11118,\n",
       "       11119, 11120, 11121, 11122, 11123, 11124, 11125, 11126, 11127,\n",
       "       11128, 11129, 11130, 11131, 11132, 11133, 11134, 11135, 11136,\n",
       "       11137, 11138, 11139, 11140, 11141, 11142, 11143, 11144, 11145,\n",
       "       11146, 11147, 11148, 11149, 11150, 11151, 11152, 11201, 11202,\n",
       "       11203, 11204, 11205, 11206, 11207, 11208, 11209, 11210, 11211,\n",
       "       11212, 11213, 11214, 11215, 11216, 11217, 11218, 11219, 11220,\n",
       "       11221, 11222, 11223, 11224, 11225, 11226, 11227, 11228, 11229,\n",
       "       11230, 11231, 11232, 11233, 11234, 11235, 11236, 11237, 11238,\n",
       "       11239, 11240, 11241, 11242, 11243, 11244, 11245, 11246, 11247,\n",
       "       11248, 11249, 11250, 11251, 11252, 11301, 11302, 11303, 11304,\n",
       "       11305, 11306, 11307, 11308, 11309, 11310, 11311, 11312, 11313,\n",
       "       11314, 11315, 11316, 11317, 11318, 11319, 11320, 11321, 11322,\n",
       "       11323, 11324, 11325, 11326, 11327, 11328, 11329, 11330, 11331,\n",
       "       11332, 11333, 11334, 11335, 11336, 11337, 11338, 11339, 11340,\n",
       "       11341, 11342, 11343, 11344, 11345, 11346, 11347, 11348, 11349,\n",
       "       11350, 11351, 11352, 11353, 11401, 11402, 11403, 11404, 11405,\n",
       "       11406, 11407, 11408, 11409, 11410, 11411, 11412, 11413, 11414,\n",
       "       11415, 11416, 11417, 11418, 11419, 11420, 11421, 11422, 11423,\n",
       "       11424, 11425, 11426, 11427, 11428, 11429, 11430, 11431, 11432,\n",
       "       11433, 11434, 11435, 11436, 11437, 11438, 11439, 11440, 11441,\n",
       "       11442, 11443, 11444, 11445, 11446, 11447, 11448, 11449, 11450,\n",
       "       11451, 11452, 11501, 11502, 11503, 11504, 11505, 11506, 11507,\n",
       "       11508, 11509, 11510, 11511, 11512, 11513, 11514, 11515, 11516,\n",
       "       11517, 11518, 11519, 11520, 11521, 11522, 11523, 11524, 11525,\n",
       "       11526, 11527, 11528, 11529, 11530, 11531, 11532, 11533, 11534,\n",
       "       11535, 11536, 11537, 11538, 11539, 11540, 11541, 11542, 11543,\n",
       "       11544, 11545, 11546, 11547, 11548, 11549, 11550, 11551, 11552,\n",
       "       11601, 11602, 11603, 11604, 11605, 11606, 11607, 11608, 11609,\n",
       "       11610, 11611, 11612, 11613, 11614, 11615, 11616, 11617, 11618,\n",
       "       11619, 11620, 11621])"
      ]
     },
     "execution_count": 4,
     "metadata": {},
     "output_type": "execute_result"
    }
   ],
   "source": [
    "calendar['wm_yr_wk'].unique()#[50:60]"
   ]
  },
  {
   "cell_type": "code",
   "execution_count": 5,
   "metadata": {},
   "outputs": [
    {
     "name": "stdout",
     "output_type": "stream",
     "text": [
      "Mem. usage decreased to 1967.47 Mb (0.0% reduction)\n"
     ]
    }
   ],
   "source": [
    "# Step 1 dataset:\n",
    "# Load grid with gaps and imputed sales:\n",
    "file_pass = '/kaggle/input/m5-s1-clean/grid_part_1_outlier.pkl'\n",
    "grid_df = reduce_mem_usage(pd.read_pickle(file_pass))"
   ]
  },
  {
   "cell_type": "markdown",
   "execution_count": null,
   "metadata": {},
   "source": [
    "# Step 2: Holidays\n",
    "\n",
    "We need to get rid of Holiday effects as it will affect weekly seasonalities. To do so we will **impute Holidays with roll_mean_l7_w7**. \n",
    "\n",
    "The ituition behind the imputatioin: weekly sales have **biweekly seasonality** as a lot of people are on payroll. As we are building weekly dataset we **do not care about daily seasonalities**. Therefore we impute holidays with a **weekly mean lagged by one week**. "
   ]
  },
  {
   "cell_type": "markdown",
   "execution_count": null,
   "metadata": {},
   "source": [
    "### Important Holidays with prelude and postlude:"
   ]
  },
  {
   "cell_type": "code",
   "execution_count": 6,
   "metadata": {},
   "outputs": [],
   "source": [
    "holiday_list = [(\"Christmas\", 2,4),\n",
    "(\"Easter\", 2,4),\n",
    "(\"Halloween\", 1,0),\n",
    "(\"IndependenceDay\", 3,0),\n",
    "(\"LaborDay\", 1,0),\n",
    "(\"MemorialDay\", 2,0),\n",
    "(\"Mother's day\", 0,0),\n",
    "(\"NewYear\", 1,0),\n",
    "(\"SuperBowl\", 1,0),\n",
    "(\"Thanksgiving\", 2,4),\n",
    "(\"ValentinesDay\", 2,0)]"
   ]
  },
  {
   "cell_type": "markdown",
   "execution_count": null,
   "metadata": {},
   "source": [
    "### Month start\n",
    "Month are not exactly 4 weeks and there is a noticable difference first week of the month as people get their paychecks."
   ]
  },
  {
   "cell_type": "code",
   "execution_count": 7,
   "metadata": {},
   "outputs": [],
   "source": [
    "calendar = calendar[['wm_yr_wk','event_name_1','date','d']]\n",
    "\n",
    "# Marker for the beginning of month:\n",
    "calendar.loc[:,'month_start'] = pd.to_datetime(calendar.loc[:,'date']).dt.day < 5"
   ]
  },
  {
   "cell_type": "code",
   "execution_count": 8,
   "metadata": {},
   "outputs": [],
   "source": [
    "# Holiday marker:\n",
    "day_list = []\n",
    "for holiday in holiday_list:\n",
    "    days = list(calendar[calendar.event_name_1 == holiday[0]]['d'])\n",
    "    for day in days:\n",
    "        day_list += list(range(day-holiday[1], day+(holiday[2]+1)))\n",
    "\n",
    "calendar.loc[:,'holiday'] = calendar.loc[:,'d'].isin(day_list)"
   ]
  },
  {
   "cell_type": "code",
   "execution_count": 9,
   "metadata": {},
   "outputs": [],
   "source": [
    "# Add Holiday column:\n",
    "grid_df = pd.merge(grid_df, calendar[['wm_yr_wk','d','month_start','holiday']], \n",
    "                   how = 'left', left_on = ['d'], right_on = ['d'])"
   ]
  },
  {
   "cell_type": "code",
   "execution_count": 10,
   "metadata": {},
   "outputs": [],
   "source": [
    "# Create features\n",
    "# Generate rolling lag features and control the memory usage\n",
    "\n",
    "df_grouped = grid_df.groupby([\"id\"])[\"sales_cap_impute\"]\n",
    "\n",
    "lag = 7\n",
    "w = 7\n",
    "col_name = f\"rolling_w{str(w)}_l{str(lag)}_mean\"\n",
    "grid_df[col_name] = df_grouped.transform(lambda x: x.shift(lag).rolling(w).mean()).astype(np.float16)"
   ]
  },
  {
   "cell_type": "code",
   "execution_count": 11,
   "metadata": {},
   "outputs": [
    {
     "data": {
      "text/html": [
       "<div>\n",
       "<style scoped>\n",
       "    .dataframe tbody tr th:only-of-type {\n",
       "        vertical-align: middle;\n",
       "    }\n",
       "\n",
       "    .dataframe tbody tr th {\n",
       "        vertical-align: top;\n",
       "    }\n",
       "\n",
       "    .dataframe thead th {\n",
       "        text-align: right;\n",
       "    }\n",
       "</style>\n",
       "<table border=\"1\" class=\"dataframe\">\n",
       "  <thead>\n",
       "    <tr style=\"text-align: right;\">\n",
       "      <th></th>\n",
       "      <th>id</th>\n",
       "      <th>item_id</th>\n",
       "      <th>store_id</th>\n",
       "      <th>d</th>\n",
       "      <th>sales</th>\n",
       "      <th>level</th>\n",
       "      <th>imputed_sales</th>\n",
       "      <th>imputed_gaps_1</th>\n",
       "      <th>imputed_gaps_23</th>\n",
       "      <th>wm_yr_wk_x</th>\n",
       "      <th>sell_price</th>\n",
       "      <th>sale_outlier_diff</th>\n",
       "      <th>sales_cap_impute</th>\n",
       "      <th>wm_yr_wk_y</th>\n",
       "      <th>month_start</th>\n",
       "      <th>holiday</th>\n",
       "      <th>rolling_w7_l7_mean</th>\n",
       "    </tr>\n",
       "  </thead>\n",
       "  <tbody>\n",
       "    <tr>\n",
       "      <th>0</th>\n",
       "      <td>HOBBIES_1_008_CA_1_validation</td>\n",
       "      <td>HOBBIES_1_008</td>\n",
       "      <td>CA_1</td>\n",
       "      <td>1</td>\n",
       "      <td>12</td>\n",
       "      <td>11</td>\n",
       "      <td>0</td>\n",
       "      <td>0.0</td>\n",
       "      <td>0.0</td>\n",
       "      <td>11101</td>\n",
       "      <td>0.459961</td>\n",
       "      <td>0.0</td>\n",
       "      <td>12.0</td>\n",
       "      <td>11101</td>\n",
       "      <td>False</td>\n",
       "      <td>False</td>\n",
       "      <td>NaN</td>\n",
       "    </tr>\n",
       "    <tr>\n",
       "      <th>1</th>\n",
       "      <td>HOBBIES_1_009_CA_1_validation</td>\n",
       "      <td>HOBBIES_1_009</td>\n",
       "      <td>CA_1</td>\n",
       "      <td>1</td>\n",
       "      <td>2</td>\n",
       "      <td>11</td>\n",
       "      <td>0</td>\n",
       "      <td>0.0</td>\n",
       "      <td>0.0</td>\n",
       "      <td>11101</td>\n",
       "      <td>1.559570</td>\n",
       "      <td>0.0</td>\n",
       "      <td>2.0</td>\n",
       "      <td>11101</td>\n",
       "      <td>False</td>\n",
       "      <td>False</td>\n",
       "      <td>NaN</td>\n",
       "    </tr>\n",
       "    <tr>\n",
       "      <th>2</th>\n",
       "      <td>HOBBIES_1_010_CA_1_validation</td>\n",
       "      <td>HOBBIES_1_010</td>\n",
       "      <td>CA_1</td>\n",
       "      <td>1</td>\n",
       "      <td>0</td>\n",
       "      <td>11</td>\n",
       "      <td>0</td>\n",
       "      <td>0.0</td>\n",
       "      <td>0.0</td>\n",
       "      <td>11101</td>\n",
       "      <td>3.169922</td>\n",
       "      <td>0.0</td>\n",
       "      <td>0.0</td>\n",
       "      <td>11101</td>\n",
       "      <td>False</td>\n",
       "      <td>False</td>\n",
       "      <td>NaN</td>\n",
       "    </tr>\n",
       "    <tr>\n",
       "      <th>3</th>\n",
       "      <td>HOBBIES_1_012_CA_1_validation</td>\n",
       "      <td>HOBBIES_1_012</td>\n",
       "      <td>CA_1</td>\n",
       "      <td>1</td>\n",
       "      <td>0</td>\n",
       "      <td>11</td>\n",
       "      <td>0</td>\n",
       "      <td>0.0</td>\n",
       "      <td>0.0</td>\n",
       "      <td>11101</td>\n",
       "      <td>5.980469</td>\n",
       "      <td>0.0</td>\n",
       "      <td>0.0</td>\n",
       "      <td>11101</td>\n",
       "      <td>False</td>\n",
       "      <td>False</td>\n",
       "      <td>NaN</td>\n",
       "    </tr>\n",
       "    <tr>\n",
       "      <th>4</th>\n",
       "      <td>HOBBIES_1_015_CA_1_validation</td>\n",
       "      <td>HOBBIES_1_015</td>\n",
       "      <td>CA_1</td>\n",
       "      <td>1</td>\n",
       "      <td>4</td>\n",
       "      <td>11</td>\n",
       "      <td>0</td>\n",
       "      <td>0.0</td>\n",
       "      <td>0.0</td>\n",
       "      <td>11101</td>\n",
       "      <td>0.700195</td>\n",
       "      <td>0.0</td>\n",
       "      <td>4.0</td>\n",
       "      <td>11101</td>\n",
       "      <td>False</td>\n",
       "      <td>False</td>\n",
       "      <td>NaN</td>\n",
       "    </tr>\n",
       "  </tbody>\n",
       "</table>\n",
       "</div>"
      ],
      "text/plain": [
       "                              id        item_id store_id  d  sales level  \\\n",
       "0  HOBBIES_1_008_CA_1_validation  HOBBIES_1_008     CA_1  1     12    11   \n",
       "1  HOBBIES_1_009_CA_1_validation  HOBBIES_1_009     CA_1  1      2    11   \n",
       "2  HOBBIES_1_010_CA_1_validation  HOBBIES_1_010     CA_1  1      0    11   \n",
       "3  HOBBIES_1_012_CA_1_validation  HOBBIES_1_012     CA_1  1      0    11   \n",
       "4  HOBBIES_1_015_CA_1_validation  HOBBIES_1_015     CA_1  1      4    11   \n",
       "\n",
       "   imputed_sales  imputed_gaps_1  imputed_gaps_23  wm_yr_wk_x  sell_price  \\\n",
       "0              0             0.0              0.0       11101    0.459961   \n",
       "1              0             0.0              0.0       11101    1.559570   \n",
       "2              0             0.0              0.0       11101    3.169922   \n",
       "3              0             0.0              0.0       11101    5.980469   \n",
       "4              0             0.0              0.0       11101    0.700195   \n",
       "\n",
       "   sale_outlier_diff  sales_cap_impute  wm_yr_wk_y  month_start  holiday  \\\n",
       "0                0.0              12.0       11101        False    False   \n",
       "1                0.0               2.0       11101        False    False   \n",
       "2                0.0               0.0       11101        False    False   \n",
       "3                0.0               0.0       11101        False    False   \n",
       "4                0.0               4.0       11101        False    False   \n",
       "\n",
       "   rolling_w7_l7_mean  \n",
       "0                 NaN  \n",
       "1                 NaN  \n",
       "2                 NaN  \n",
       "3                 NaN  \n",
       "4                 NaN  "
      ]
     },
     "execution_count": 11,
     "metadata": {},
     "output_type": "execute_result"
    }
   ],
   "source": [
    "grid_df.head()"
   ]
  },
  {
   "cell_type": "code",
   "execution_count": 12,
   "metadata": {},
   "outputs": [],
   "source": [
    "grid_df.loc[:,'holiday_lift'] = (grid_df.loc[:,\"sales_cap_impute\"]-grid_df.loc[:,col_name])*grid_df.loc[:,'holiday']\n",
    "grid_df.loc[:,'clean_sales'] = grid_df.loc[:,\"sales_cap_impute\"] - grid_df.loc[:,'holiday_lift']"
   ]
  },
  {
   "cell_type": "code",
   "execution_count": 13,
   "metadata": {},
   "outputs": [
    {
     "data": {
      "text/plain": [
       "<matplotlib.axes._subplots.AxesSubplot at 0x7fa94ec62390>"
      ]
     },
     "execution_count": 13,
     "metadata": {},
     "output_type": "execute_result"
    },
    {
     "data": {
      "image/png": "[encoded data removed]",
      "text/plain": [
       "<Figure size 432x288 with 1 Axes>"
      ]
     },
     "metadata": {
      "needs_background": "light"
     },
     "output_type": "display_data"
    },
    {
     "data": {
      "image/png": "[encoded data removed]",
      "text/plain": [
       "<Figure size 432x288 with 1 Axes>"
      ]
     },
     "metadata": {
      "needs_background": "light"
     },
     "output_type": "display_data"
    },
    {
     "data": {
      "image/png": "[encoded data removed]",
      "text/plain": [
       "<Figure size 432x288 with 1 Axes>"
      ]
     },
     "metadata": {
      "needs_background": "light"
     },
     "output_type": "display_data"
    }
   ],
   "source": [
    "col = 'HOUSEHOLD_1_331_WI_3_validation'\n",
    "grid_df.loc[grid_df.id==col,\n",
    "            ['sales']].plot.line()\n",
    "grid_df.loc[grid_df.id==col,\n",
    "            ['clean_sales']].plot.line()\n",
    "grid_df.loc[grid_df.id==col,\n",
    "            [\"sales_cap_impute\"]].plot.line()"
   ]
  },
  {
   "cell_type": "code",
   "execution_count": 14,
   "metadata": {},
   "outputs": [
    {
     "data": {
      "text/plain": [
       "10060    HOUSEHOLD_1_331_WI_3_validation\n",
       "10061    HOUSEHOLD_1_333_WI_3_validation\n",
       "10062    HOUSEHOLD_1_344_WI_3_validation\n",
       "10063    HOUSEHOLD_1_345_WI_3_validation\n",
       "10064    HOUSEHOLD_1_347_WI_3_validation\n",
       "10065    HOUSEHOLD_1_354_WI_3_validation\n",
       "10066    HOUSEHOLD_1_357_WI_3_validation\n",
       "10067    HOUSEHOLD_1_360_WI_3_validation\n",
       "10068    HOUSEHOLD_1_362_WI_3_validation\n",
       "10069    HOUSEHOLD_1_365_WI_3_validation\n",
       "10070    HOUSEHOLD_1_368_WI_3_validation\n",
       "10071    HOUSEHOLD_1_370_WI_3_validation\n",
       "10072    HOUSEHOLD_1_372_WI_3_validation\n",
       "10073    HOUSEHOLD_1_373_WI_3_validation\n",
       "10074    HOUSEHOLD_1_374_WI_3_validation\n",
       "10075    HOUSEHOLD_1_375_WI_3_validation\n",
       "10076    HOUSEHOLD_1_376_WI_3_validation\n",
       "10077    HOUSEHOLD_1_377_WI_3_validation\n",
       "10078    HOUSEHOLD_1_379_WI_3_validation\n",
       "10079    HOUSEHOLD_1_381_WI_3_validation\n",
       "Name: id, dtype: category\n",
       "Categories (30490, object): [FOODS_1_001_CA_1_validation, FOODS_1_001_CA_2_validation, FOODS_1_001_CA_3_validation, FOODS_1_001_CA_4_validation, ..., HOUSEHOLD_2_516_TX_3_validation, HOUSEHOLD_2_516_WI_1_validation, HOUSEHOLD_2_516_WI_2_validation, HOUSEHOLD_2_516_WI_3_validation]"
      ]
     },
     "execution_count": 14,
     "metadata": {},
     "output_type": "execute_result"
    }
   ],
   "source": [
    "grid_df.id[10060:10080]"
   ]
  },
  {
   "cell_type": "markdown",
   "execution_count": null,
   "metadata": {},
   "source": [
    "# DANGER: np.float16\n",
    "\n",
    "The format should be changed to np.float32 before feature engineering or training."
   ]
  },
  {
   "cell_type": "code",
   "execution_count": 15,
   "metadata": {},
   "outputs": [
    {
     "name": "stdout",
     "output_type": "stream",
     "text": [
      "Mem. usage decreased to 2415.81 Mb (0.0% reduction)\n"
     ]
    },
    {
     "data": {
      "text/plain": [
       "4859"
      ]
     },
     "execution_count": 15,
     "metadata": {},
     "output_type": "execute_result"
    }
   ],
   "source": [
    "grid_df = reduce_mem_usage(grid_df)\n",
    "gc.collect()"
   ]
  },
  {
   "cell_type": "code",
   "execution_count": 16,
   "metadata": {},
   "outputs": [],
   "source": [
    "# Dump to pickle. :\n",
    "grid_df.to_pickle('grid_s2.pkl')"
   ]
  }
 ],
 "metadata": {
  "kernelspec": {
   "display_name": "Python 3",
   "language": "python",
   "name": "python3"
  },
  "language_info": {
   "codemirror_mode": {
    "name": "ipython",
    "version": 3
   },
   "file_extension": ".py",
   "mimetype": "text/x-python",
   "name": "python",
   "nbconvert_exporter": "python",
   "pygments_lexer": "ipython3",
   "version": "3.6.6"
  }
 },
 "nbformat": 4,
 "nbformat_minor": 4
}

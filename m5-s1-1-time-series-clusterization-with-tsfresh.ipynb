{
 "cells": [
  {
   "cell_type": "markdown",
   "execution_count": null,
   "metadata": {},
   "source": [
    "# M5 Timeseries Clusterization with tsfresh\n",
    "## Using DBSCAN, Mean shift, k-mean\n",
    "\n",
    "This notebook is based on Alexander Alekseitsev [presentation](https://www.youtube.com/watch?v=WwNRRvYLGXI&t=1634s)\n",
    "and uses [this](https://www.kaggle.com/sibmike/m5-out-of-stock-feature-640x-faster) notebook to find M5 out-of-stocks. It also has two goals: \n",
    "* show an **easy way to generate time series features** with [tsfresh](https://tsfresh.readthedocs.io/en/latest/index.html)\n",
    "* use the generated features to **clusterize time-series**\n",
    "\n",
    "Th plan is as follows:\n",
    "### 0. Load datasets\n",
    "\n",
    "### 1. Preprocessing:\n",
    "* Cap 3 sigma outliers and then fill in stockouts with the mean sales in preceding 28 days.\n",
    "* Log scale timeseries to further lower the impact of outliers\n",
    "* Standardscaler to bring all time series to one scale\n",
    "* Aggregate to weekly-product_id\n",
    "\n",
    "### 2. Feature engineering (tsfresh):\n",
    "* Trends\n",
    "* Autocorrelcations\n",
    "* Skewness\n",
    "* Fourier transforms\n",
    "* Wavelet transforms\n",
    "* Holiday specific features\n",
    "\n",
    "### 3. DBSCAN + Mean shift to find the number of clusters -> k-mean, then stack predictions.\n",
    "* Some visualizations to see how the clusters differ & if they make sense.\n",
    "\n",
    "We will not try to use the new feature, but will export it so you can try it out on your own."
   ]
  },
  {
   "cell_type": "code",
   "execution_count": 1,
   "metadata": {},
   "outputs": [],
   "source": [
    "import numpy as np\n",
    "import pandas as pd\n",
    "from sklearn.preprocessing import RobustScaler\n",
    "from scipy.sparse import csr_matrix\n",
    "\n",
    "from sklearn.preprocessing import scale\n",
    "from sklearn.neighbors import LocalOutlierFactor\n",
    "from sklearn.impute import KNNImputer\n",
    "from scipy import stats\n",
    "from tqdm.notebook import tqdm\n",
    "\n",
    "import gc\n",
    "%matplotlib inline"
   ]
  },
  {
   "cell_type": "code",
   "execution_count": 2,
   "metadata": {
    "_cell_guid": "79c7e3d0-c299-4dcb-8224-4455121ee9b0",
    "_uuid": "d629ff2d2480ee46fbb7e2d37f6b5fab8052498a"
   },
   "outputs": [],
   "source": [
    "# Memory reduction helper function:\n",
    "def reduce_mem_usage(df, verbose=True):\n",
    "    numerics = ['int16', 'int32', 'int64', 'float16', 'float32', 'float64']\n",
    "    start_mem = df.memory_usage().sum() / 1024**2    \n",
    "    for col in df.columns: #columns\n",
    "        col_type = df[col].dtypes\n",
    "        if col_type in numerics: #numerics\n",
    "            c_min = df[col].min()\n",
    "            c_max = df[col].max()\n",
    "            if str(col_type)[:3] == 'int':\n",
    "                if c_min > np.iinfo(np.int8).min and c_max < np.iinfo(np.int8).max:\n",
    "                    df[col] = df[col].astype(np.int8)\n",
    "                elif c_min > np.iinfo(np.int16).min and c_max < np.iinfo(np.int16).max:\n",
    "                    df[col] = df[col].astype(np.int16)\n",
    "                elif c_min > np.iinfo(np.int32).min and c_max < np.iinfo(np.int32).max:\n",
    "                    df[col] = df[col].astype(np.int32)\n",
    "                elif c_min > np.iinfo(np.int64).min and c_max < np.iinfo(np.int64).max:\n",
    "                    df[col] = df[col].astype(np.int64)  \n",
    "            else:\n",
    "                if c_min > np.finfo(np.float16).min and c_max < np.finfo(np.float16).max:\n",
    "                    df[col] = df[col].astype(np.float16)\n",
    "                elif c_min > np.finfo(np.float32).min and c_max < np.finfo(np.float32).max:\n",
    "                    df[col] = df[col].astype(np.float32)\n",
    "                else:\n",
    "                    df[col] = df[col].astype(np.float64)    \n",
    "    end_mem = df.memory_usage().sum() / 1024**2\n",
    "    if verbose: print('Mem. usage decreased to {:5.2f} Mb ({:.1f}% reduction)'.format(end_mem, 100 * (start_mem - end_mem) / start_mem))\n",
    "    return df"
   ]
  },
  {
   "cell_type": "markdown",
   "execution_count": null,
   "metadata": {},
   "source": [
    "# M5 - Step 1: Clean\n",
    "\n",
    "## Clean: Impute Gaps & Cap Outliers\n",
    "#### Capping and imputing sales timeseries while preserving the target:\n",
    "\n",
    "Sales are noised with outliers and long zero gaps. We split target into three timeseries: \n",
    "\n",
    "* **sale_outlier_diff** - differnece between outlier and maximum non outlier value; outliers are flaged using z score.\n",
    "* **sale_cap_ipmuted** - Sales with capped outliers and imputed gap_days with last observed value.\n",
    "* **imputed_gaps_1** & **imputed_gaps_23** - Store/Satte specific gaps imputed with flat mean"
   ]
  },
  {
   "cell_type": "markdown",
   "execution_count": null,
   "metadata": {},
   "source": [
    "# 0. Load Datasets\n",
    "All three datasets needed because we need to calculate sales in USD."
   ]
  },
  {
   "cell_type": "code",
   "execution_count": 3,
   "metadata": {},
   "outputs": [
    {
     "name": "stdout",
     "output_type": "stream",
     "text": [
      "Mem. usage decreased to  0.11 Mb (44.3% reduction)\n",
      "Mem. usage decreased to 130.48 Mb (37.5% reduction)\n"
     ]
    }
   ],
   "source": [
    "# DEFAULT datasets\n",
    "data_pass = '/kaggle/input/m5-forecasting-accuracy/'\n",
    "\n",
    "# Sales quantities:\n",
    "\n",
    "# Calendar to get week number to join sell prices:\n",
    "calendar = pd.read_csv(data_pass+'calendar.csv')\n",
    "calendar.d = calendar.d.str.extract('(\\d+)').astype(np.int16)\n",
    "calendar = reduce_mem_usage(calendar)\n",
    "\n",
    "# Sell prices to calculate sales in USD:\n",
    "sell_prices = pd.read_csv(data_pass+'sell_prices.csv')\n",
    "sell_prices = reduce_mem_usage(sell_prices)"
   ]
  },
  {
   "cell_type": "markdown",
   "execution_count": null,
   "metadata": {},
   "source": [
    "### var explanation:\n",
    "For complete explanation of how we got the variables take a look at [\"M5 - 'out_of_stock' feature 640x faster\"](https://www.kaggle.com/sibmike/m5-out-of-stock-feature-640x-faster). Here is brief explanation of variables:\n",
    "* **release** - first time when product has been sold\n",
    "* **gaps** - int, zero or not flag\n",
    "* **gap_days** - int, number of days in sequence of consecutive zeroes\n",
    "* **gap_e** - how many years needed to observe a gap of length 'gap_days'\n",
    "* **sale_prob**[](http://) - probability of no sales"
   ]
  },
  {
   "cell_type": "code",
   "execution_count": 4,
   "metadata": {},
   "outputs": [
    {
     "name": "stdout",
     "output_type": "stream",
     "text": [
      "Mem. usage decreased to 1029.91 Mb (34.3% reduction)\n"
     ]
    }
   ],
   "source": [
    "# GAPS datasets\n",
    "gap_columns = ['id', 'item_id','store_id', 'dept_id', 'state_id', 'd', 'sales', 'release', 'gap_e', 'sale_prob']\n",
    "\n",
    "# Load grid with identified stockouts:\n",
    "file_pass = '../input/m5-out-of-stock-feature-640x-faster/grid_part_1_gaps.pkl'\n",
    "grid_df = reduce_mem_usage(pd.read_pickle(file_pass)[gap_columns])\n",
    "\n",
    "# Add week of year:\n",
    "grid_df = pd.merge(\n",
    "    grid_df, \n",
    "    calendar[['wm_yr_wk','event_name_1','d']], \n",
    "    how = 'left', \n",
    "    left_on = ['d'], \n",
    "    right_on = ['d']\n",
    ")\n",
    "\n",
    "# Add price:\n",
    "grid_df = grid_df.merge(\n",
    "    sell_prices, \n",
    "    on = ['store_id', 'item_id', 'wm_yr_wk'], \n",
    "    how = 'left'\n",
    ")\n",
    "\n",
    "grid_df.head()\n",
    "del sell_prices, calendar"
   ]
  },
  {
   "cell_type": "code",
   "execution_count": 5,
   "metadata": {},
   "outputs": [
    {
     "data": {
      "text/html": [
       "<div>\n",
       "<style scoped>\n",
       "    .dataframe tbody tr th:only-of-type {\n",
       "        vertical-align: middle;\n",
       "    }\n",
       "\n",
       "    .dataframe tbody tr th {\n",
       "        vertical-align: top;\n",
       "    }\n",
       "\n",
       "    .dataframe thead th {\n",
       "        text-align: right;\n",
       "    }\n",
       "</style>\n",
       "<table border=\"1\" class=\"dataframe\">\n",
       "  <thead>\n",
       "    <tr style=\"text-align: right;\">\n",
       "      <th></th>\n",
       "      <th>id</th>\n",
       "      <th>item_id</th>\n",
       "      <th>d</th>\n",
       "      <th>sales</th>\n",
       "      <th>release</th>\n",
       "      <th>gap_e</th>\n",
       "      <th>sale_prob</th>\n",
       "      <th>wm_yr_wk</th>\n",
       "      <th>event_name_1</th>\n",
       "      <th>sell_price</th>\n",
       "    </tr>\n",
       "  </thead>\n",
       "  <tbody>\n",
       "    <tr>\n",
       "      <th>0</th>\n",
       "      <td>HOBBIES_1_008_CA_1_validation</td>\n",
       "      <td>HOBBIES_1_008</td>\n",
       "      <td>1</td>\n",
       "      <td>12.0</td>\n",
       "      <td>0</td>\n",
       "      <td>0.000000e+00</td>\n",
       "      <td>0.133911</td>\n",
       "      <td>11101</td>\n",
       "      <td>NaN</td>\n",
       "      <td>0.459961</td>\n",
       "    </tr>\n",
       "    <tr>\n",
       "      <th>1</th>\n",
       "      <td>HOBBIES_1_009_CA_1_validation</td>\n",
       "      <td>HOBBIES_1_009</td>\n",
       "      <td>1</td>\n",
       "      <td>2.0</td>\n",
       "      <td>0</td>\n",
       "      <td>5.738430e-03</td>\n",
       "      <td>0.477539</td>\n",
       "      <td>11101</td>\n",
       "      <td>NaN</td>\n",
       "      <td>1.559570</td>\n",
       "    </tr>\n",
       "    <tr>\n",
       "      <th>2</th>\n",
       "      <td>HOBBIES_1_010_CA_1_validation</td>\n",
       "      <td>HOBBIES_1_010</td>\n",
       "      <td>1</td>\n",
       "      <td>0.0</td>\n",
       "      <td>0</td>\n",
       "      <td>1.798078e-02</td>\n",
       "      <td>0.473877</td>\n",
       "      <td>11101</td>\n",
       "      <td>NaN</td>\n",
       "      <td>3.169922</td>\n",
       "    </tr>\n",
       "    <tr>\n",
       "      <th>3</th>\n",
       "      <td>HOBBIES_1_012_CA_1_validation</td>\n",
       "      <td>HOBBIES_1_012</td>\n",
       "      <td>1</td>\n",
       "      <td>0.0</td>\n",
       "      <td>0</td>\n",
       "      <td>4.059916e-03</td>\n",
       "      <td>0.674805</td>\n",
       "      <td>11101</td>\n",
       "      <td>NaN</td>\n",
       "      <td>5.980469</td>\n",
       "    </tr>\n",
       "    <tr>\n",
       "      <th>4</th>\n",
       "      <td>HOBBIES_1_015_CA_1_validation</td>\n",
       "      <td>HOBBIES_1_015</td>\n",
       "      <td>1</td>\n",
       "      <td>4.0</td>\n",
       "      <td>0</td>\n",
       "      <td>1.298860e-01</td>\n",
       "      <td>0.156128</td>\n",
       "      <td>11101</td>\n",
       "      <td>NaN</td>\n",
       "      <td>0.700195</td>\n",
       "    </tr>\n",
       "    <tr>\n",
       "      <th>...</th>\n",
       "      <td>...</td>\n",
       "      <td>...</td>\n",
       "      <td>...</td>\n",
       "      <td>...</td>\n",
       "      <td>...</td>\n",
       "      <td>...</td>\n",
       "      <td>...</td>\n",
       "      <td>...</td>\n",
       "      <td>...</td>\n",
       "      <td>...</td>\n",
       "    </tr>\n",
       "    <tr>\n",
       "      <th>46881672</th>\n",
       "      <td>FOODS_3_823_WI_3_validation</td>\n",
       "      <td>FOODS_3_823</td>\n",
       "      <td>1941</td>\n",
       "      <td>NaN</td>\n",
       "      <td>0</td>\n",
       "      <td>2.645121e+06</td>\n",
       "      <td>0.489258</td>\n",
       "      <td>11617</td>\n",
       "      <td>NaN</td>\n",
       "      <td>2.980469</td>\n",
       "    </tr>\n",
       "    <tr>\n",
       "      <th>46881673</th>\n",
       "      <td>FOODS_3_824_WI_3_validation</td>\n",
       "      <td>FOODS_3_824</td>\n",
       "      <td>1941</td>\n",
       "      <td>NaN</td>\n",
       "      <td>0</td>\n",
       "      <td>1.210731e+04</td>\n",
       "      <td>0.609375</td>\n",
       "      <td>11617</td>\n",
       "      <td>NaN</td>\n",
       "      <td>2.480469</td>\n",
       "    </tr>\n",
       "    <tr>\n",
       "      <th>46881674</th>\n",
       "      <td>FOODS_3_825_WI_3_validation</td>\n",
       "      <td>FOODS_3_825</td>\n",
       "      <td>1941</td>\n",
       "      <td>NaN</td>\n",
       "      <td>0</td>\n",
       "      <td>1.354414e+11</td>\n",
       "      <td>0.342041</td>\n",
       "      <td>11617</td>\n",
       "      <td>NaN</td>\n",
       "      <td>3.980469</td>\n",
       "    </tr>\n",
       "    <tr>\n",
       "      <th>46881675</th>\n",
       "      <td>FOODS_3_826_WI_3_validation</td>\n",
       "      <td>FOODS_3_826</td>\n",
       "      <td>1941</td>\n",
       "      <td>NaN</td>\n",
       "      <td>230</td>\n",
       "      <td>8.217696e+20</td>\n",
       "      <td>0.145874</td>\n",
       "      <td>11617</td>\n",
       "      <td>NaN</td>\n",
       "      <td>1.280273</td>\n",
       "    </tr>\n",
       "    <tr>\n",
       "      <th>46881676</th>\n",
       "      <td>FOODS_3_827_WI_3_validation</td>\n",
       "      <td>FOODS_3_827</td>\n",
       "      <td>1941</td>\n",
       "      <td>NaN</td>\n",
       "      <td>304</td>\n",
       "      <td>9.460450e+39</td>\n",
       "      <td>0.102783</td>\n",
       "      <td>11617</td>\n",
       "      <td>NaN</td>\n",
       "      <td>1.000000</td>\n",
       "    </tr>\n",
       "  </tbody>\n",
       "</table>\n",
       "<p>46881677 rows × 10 columns</p>\n",
       "</div>"
      ],
      "text/plain": [
       "                                     id        item_id     d  sales  release  \\\n",
       "0         HOBBIES_1_008_CA_1_validation  HOBBIES_1_008     1   12.0        0   \n",
       "1         HOBBIES_1_009_CA_1_validation  HOBBIES_1_009     1    2.0        0   \n",
       "2         HOBBIES_1_010_CA_1_validation  HOBBIES_1_010     1    0.0        0   \n",
       "3         HOBBIES_1_012_CA_1_validation  HOBBIES_1_012     1    0.0        0   \n",
       "4         HOBBIES_1_015_CA_1_validation  HOBBIES_1_015     1    4.0        0   \n",
       "...                                 ...            ...   ...    ...      ...   \n",
       "46881672    FOODS_3_823_WI_3_validation    FOODS_3_823  1941    NaN        0   \n",
       "46881673    FOODS_3_824_WI_3_validation    FOODS_3_824  1941    NaN        0   \n",
       "46881674    FOODS_3_825_WI_3_validation    FOODS_3_825  1941    NaN        0   \n",
       "46881675    FOODS_3_826_WI_3_validation    FOODS_3_826  1941    NaN      230   \n",
       "46881676    FOODS_3_827_WI_3_validation    FOODS_3_827  1941    NaN      304   \n",
       "\n",
       "                 gap_e  sale_prob  wm_yr_wk event_name_1  sell_price  \n",
       "0         0.000000e+00   0.133911     11101          NaN    0.459961  \n",
       "1         5.738430e-03   0.477539     11101          NaN    1.559570  \n",
       "2         1.798078e-02   0.473877     11101          NaN    3.169922  \n",
       "3         4.059916e-03   0.674805     11101          NaN    5.980469  \n",
       "4         1.298860e-01   0.156128     11101          NaN    0.700195  \n",
       "...                ...        ...       ...          ...         ...  \n",
       "46881672  2.645121e+06   0.489258     11617          NaN    2.980469  \n",
       "46881673  1.210731e+04   0.609375     11617          NaN    2.480469  \n",
       "46881674  1.354414e+11   0.342041     11617          NaN    3.980469  \n",
       "46881675  8.217696e+20   0.145874     11617          NaN    1.280273  \n",
       "46881676  9.460450e+39   0.102783     11617          NaN    1.000000  \n",
       "\n",
       "[46881677 rows x 10 columns]"
      ]
     },
     "execution_count": 5,
     "metadata": {},
     "output_type": "execute_result"
    }
   ],
   "source": [
    "# To select timeseries features useful for clusterization we will need a set of 'targets' to split them in two classes.\n",
    "# We will use the 'store_id','dept_id','state_id' to do the splits:\n",
    "targets = list(grid_df.dept_id.unique())#+ list(grid_df.state_id.unique())+list(grid_df.store_id.unique())\n",
    "grid_df.drop(columns=['store_id','dept_id','state_id'])"
   ]
  },
  {
   "cell_type": "code",
   "execution_count": 6,
   "metadata": {},
   "outputs": [],
   "source": [
    "# I use 100 years as threshold for a stockout. If you feel it is too much, lower it.\n",
    "years_threshold = 100\n",
    "grid_df.loc[:,'stockout'] = (grid_df.gap_e >= years_threshold)*1"
   ]
  },
  {
   "cell_type": "markdown",
   "execution_count": null,
   "metadata": {},
   "source": [
    "# 1. Preprocessing:\n",
    "### Cap 3 sigma outliers:"
   ]
  },
  {
   "cell_type": "code",
   "execution_count": 7,
   "metadata": {},
   "outputs": [
    {
     "data": {
      "application/vnd.jupyter.widget-view+json": {
       "model_id": "417b1c469aad43f389dc7ff758e9566a",
       "version_major": 2,
       "version_minor": 0
      },
      "text/plain": [
       "HBox(children=(FloatProgress(value=0.0, max=30490.0), HTML(value='')))"
      ]
     },
     "metadata": {},
     "output_type": "display_data"
    },
    {
     "name": "stderr",
     "output_type": "stream",
     "text": [
      "/opt/conda/lib/python3.6/site-packages/numpy/core/_methods.py:199: RuntimeWarning: overflow encountered in reduce\n",
      "  ret = umr_sum(x, axis, dtype, out, keepdims)\n",
      "/opt/conda/lib/python3.6/site-packages/numpy/core/_methods.py:195: RuntimeWarning: overflow encountered in multiply\n",
      "  x = um.multiply(x, x, out=x)\n",
      "/opt/conda/lib/python3.6/site-packages/numpy/core/fromnumeric.py:90: RuntimeWarning: overflow encountered in reduce\n",
      "  return ufunc.reduce(obj, axis, dtype, out, **passkwargs)\n",
      "/opt/conda/lib/python3.6/site-packages/numpy/core/_methods.py:183: RuntimeWarning: overflow encountered in reduce\n",
      "  arrmean = umr_sum(arr, axis, dtype, keepdims=True)\n",
      "/opt/conda/lib/python3.6/site-packages/scipy/stats/stats.py:2419: RuntimeWarning: invalid value encountered in true_divide\n",
      "  return (a - mns) / sstd\n"
     ]
    },
    {
     "name": "stdout",
     "output_type": "stream",
     "text": [
      "\n"
     ]
    }
   ],
   "source": [
    "# Find outliers based on z score:\n",
    "## Filter out values more than 0 as otherwise all sales might be flagged as outliers:\n",
    "mask = grid_df.sales > 0\n",
    "\n",
    "## Group by 'id' as sales values have diffrenet mean from store to store: \n",
    "df_grouped = grid_df[mask].groupby(['id'])\n",
    "\n",
    "## Find indices of all outliers:\n",
    "outlier_idx = []\n",
    "for group_name, g in tqdm(df_grouped):\n",
    "    outlier_idx += list(g[stats.zscore(g.sales) > 3].index) \n",
    "    \n",
    "## Create separate column with outliers:\n",
    "grid_df.loc[:,'sale_outlier'] = 0\n",
    "grid_df.loc[outlier_idx,'sale_outlier']=grid_df.loc[outlier_idx,'sales']"
   ]
  },
  {
   "cell_type": "code",
   "execution_count": 8,
   "metadata": {},
   "outputs": [],
   "source": [
    "# Cap sales outliers with maximum non outlier value:\n",
    "grid_df['sales_clean'] = grid_df['sales']\n",
    "nan_idx = grid_df[~grid_df.sales.isna()].index\n",
    "grid_df.loc[outlier_idx,'sales_clean'] = np.nan\n",
    "\n",
    "grid_df.loc[nan_idx,'sales_clean'] = grid_df.loc[nan_idx,'sales_clean'].fillna(grid_df.groupby('id')['sales_clean'].transform('max'))"
   ]
  },
  {
   "cell_type": "markdown",
   "execution_count": null,
   "metadata": {},
   "source": [
    "### ... and then fill in stockouts with last seen sales."
   ]
  },
  {
   "cell_type": "code",
   "execution_count": 9,
   "metadata": {},
   "outputs": [],
   "source": [
    "# Group by id:\n",
    "df_grouped = grid_df.groupby([\"id\"])[\"sales_clean\"]\n",
    "\n",
    "# Generate rolling mean to fill in stockouts:\n",
    "lag = 1\n",
    "w = 28\n",
    "col_name = f\"rolling_w{str(w)}_l{str(lag)}_mean\"\n",
    "grid_df[col_name] = df_grouped.transform(lambda x: x.shift(lag).rolling(w).mean()).astype(np.float32)\n",
    "\n",
    "# Fill in stockouts: \n",
    "mask = grid_df.stockout>0\n",
    "grid_df.loc[mask, 'sales_clean'] = grid_df.loc[mask, col_name]"
   ]
  },
  {
   "cell_type": "markdown",
   "execution_count": null,
   "metadata": {},
   "source": [
    "### Holiday features:\n",
    "\n",
    "1. Calculate difference between rolling mean before and after the date.\n",
    "2. Group by item_id, holiday\n",
    "3. Use the differences adound different  holidays as features for item_ids.\n",
    "\n",
    "This will help to **cluster products by holiday** like flowers are valentines day products and turkey is thanksgiving product."
   ]
  },
  {
   "cell_type": "code",
   "execution_count": 10,
   "metadata": {},
   "outputs": [],
   "source": [
    "holiday_list = [\"Christmas\",\n",
    "\"Easter\",\n",
    "\"Halloween\",\n",
    "\"IndependenceDay\",\n",
    "\"LaborDay\",\n",
    "\"MemorialDay\",\n",
    "\"Mother's day\",\n",
    "\"NewYear\",\n",
    "\"SuperBowl\",\n",
    "\"Thanksgiving\",\n",
    "\"ValentinesDay\"]"
   ]
  },
  {
   "cell_type": "code",
   "execution_count": 11,
   "metadata": {},
   "outputs": [],
   "source": [
    "holiday_mask = grid_df.event_name_1.isin(holiday_list)"
   ]
  },
  {
   "cell_type": "code",
   "execution_count": 12,
   "metadata": {},
   "outputs": [],
   "source": [
    "# Creating Holiday lift feature:\n",
    "col_name = f\"holiday_lift\"\n",
    "grid_df[col_name] = df_grouped.transform(lambda x: \n",
    "                                         (x.shift(8).rolling(7).mean() \\\n",
    "                                          - x.shift(-1).rolling(7).mean())\\\n",
    "                                         >=0)*(holiday_mask*1)\n",
    "\n",
    "del df_grouped"
   ]
  },
  {
   "cell_type": "markdown",
   "execution_count": null,
   "metadata": {},
   "source": [
    "### Log scale timeseries to further lower the impact of outliers\n"
   ]
  },
  {
   "cell_type": "code",
   "execution_count": 13,
   "metadata": {},
   "outputs": [],
   "source": [
    "# Note we add 1 so that zeroes map to zeroes and small values map to small values.\n",
    "grid_df.loc[:, 'sales_clean'] = np.log(grid_df.sales_clean+1)"
   ]
  },
  {
   "cell_type": "markdown",
   "execution_count": null,
   "metadata": {},
   "source": [
    "### Standardscaler to bring all time series to one scale"
   ]
  },
  {
   "cell_type": "code",
   "execution_count": 14,
   "metadata": {},
   "outputs": [],
   "source": [
    "# Please, note that this is implementation is one-way there is no way to go back to unscaled version.\n",
    "grid_df['sales_clean'] = grid_df.groupby('id').sales_clean.transform(lambda x: scale(x.astype(float)))"
   ]
  },
  {
   "cell_type": "markdown",
   "execution_count": null,
   "metadata": {},
   "source": [
    "# Week_df"
   ]
  },
  {
   "cell_type": "code",
   "execution_count": 15,
   "metadata": {},
   "outputs": [],
   "source": [
    "# Create week-porduct_id aggregations:\n",
    "week_df = grid_df[['item_id','wm_yr_wk','sales_clean']].groupby(['item_id','wm_yr_wk']).mean().fillna(0).astype(np.float32)\n",
    "week_df.reset_index(inplace=True)"
   ]
  },
  {
   "cell_type": "code",
   "execution_count": 16,
   "metadata": {},
   "outputs": [],
   "source": [
    "del grid_df"
   ]
  },
  {
   "cell_type": "markdown",
   "execution_count": null,
   "metadata": {},
   "source": [
    "# 2. Feature engineering (tsfresh):\n",
    "* Trends\n",
    "* Autocorrelcations\n",
    "* Skewness\n",
    "* Fourier transforms\n",
    "* Wavelet transforms\n",
    "* Holiday specific features <- this in grid_df"
   ]
  },
  {
   "cell_type": "markdown",
   "execution_count": null,
   "metadata": {},
   "source": [
    "### Creating Targets for feature selection\n",
    "To pick meaningfull features we need meaningful targets"
   ]
  },
  {
   "cell_type": "code",
   "execution_count": 17,
   "metadata": {},
   "outputs": [
    {
     "ename": "NameError",
     "evalue": "name 'grid_df' is not defined",
     "output_type": "error",
     "traceback": [
      "\u001b[0;31m---------------------------------------------------------------------------\u001b[0m",
      "\u001b[0;31mNameError\u001b[0m                                 Traceback (most recent call last)",
      "\u001b[0;32m<ipython-input-17-cd12bf136050>\u001b[0m in \u001b[0;36m<module>\u001b[0;34m\u001b[0m\n\u001b[0;32m----> 1\u001b[0;31m lift_df = pd.pivot_table(grid_df.loc[holiday_mask,['item_id', 'event_name_1', 'holiday_lift']],\n\u001b[0m\u001b[1;32m      2\u001b[0m                \u001b[0mvalues\u001b[0m\u001b[0;34m=\u001b[0m\u001b[0;34m'holiday_lift'\u001b[0m\u001b[0;34m,\u001b[0m \u001b[0mindex\u001b[0m\u001b[0;34m=\u001b[0m\u001b[0;34m'item_id'\u001b[0m\u001b[0;34m,\u001b[0m \u001b[0mcolumns\u001b[0m\u001b[0;34m=\u001b[0m\u001b[0;34m'event_name_1'\u001b[0m\u001b[0;34m,\u001b[0m\u001b[0;34m\u001b[0m\u001b[0m\n\u001b[1;32m      3\u001b[0m                aggfunc=np.mean, fill_value=0)\n\u001b[1;32m      4\u001b[0m \u001b[0;34m\u001b[0m\u001b[0m\n\u001b[1;32m      5\u001b[0m \u001b[0mt\u001b[0m \u001b[0;34m=\u001b[0m \u001b[0;36m0.8\u001b[0m\u001b[0;34m\u001b[0m\u001b[0m\n",
      "\u001b[0;31mNameError\u001b[0m: name 'grid_df' is not defined"
     ]
    }
   ],
   "source": [
    "lift_df = pd.pivot_table(grid_df.loc[holiday_mask,['item_id', 'event_name_1', 'holiday_lift']],\n",
    "               values='holiday_lift', index='item_id', columns='event_name_1', \n",
    "               aggfunc=np.mean, fill_value=0)\n",
    "\n",
    "t = 0.8\n",
    "target_df = pd.DataFrame(week_df.index)\n",
    "for column in lift_df.columns:\n",
    "    idx = lift_df[lift_df[column] > t].index\n",
    "    target_df.loc[:, column] = week_df.item_id.isin(idx)"
   ]
  },
  {
   "cell_type": "code",
   "execution_count": 18,
   "metadata": {},
   "outputs": [],
   "source": [
    "%matplotlib inline\n",
    "import matplotlib.pylab as plt\n",
    "\n",
    "from tsfresh import extract_features, extract_relevant_features, select_features\n",
    "from tsfresh.utilities.dataframe_functions import impute\n",
    "\n",
    "from sklearn.tree import DecisionTreeClassifier\n",
    "from sklearn.model_selection import train_test_split\n",
    "from sklearn.metrics import classification_report"
   ]
  },
  {
   "cell_type": "code",
   "execution_count": 19,
   "metadata": {},
   "outputs": [
    {
     "name": "stderr",
     "output_type": "stream",
     "text": [
      "Feature Extraction: 100%|██████████| 10/10 [09:46<00:00, 58.68s/it]\n"
     ]
    },
    {
     "ename": "NameError",
     "evalue": "name 'target_df' is not defined",
     "output_type": "error",
     "traceback": [
      "\u001b[0;31m---------------------------------------------------------------------------\u001b[0m",
      "\u001b[0;31mNameError\u001b[0m                                 Traceback (most recent call last)",
      "\u001b[0;32m<ipython-input-19-2ebdd08457f7>\u001b[0m in \u001b[0;36m<module>\u001b[0;34m\u001b[0m\n\u001b[1;32m      1\u001b[0m \u001b[0;31m# only use the first 500 ids to speed up the processing\u001b[0m\u001b[0;34m\u001b[0m\u001b[0;34m\u001b[0m\u001b[0m\n\u001b[1;32m      2\u001b[0m \u001b[0mX\u001b[0m \u001b[0;34m=\u001b[0m \u001b[0mextract_features\u001b[0m\u001b[0;34m(\u001b[0m\u001b[0mweek_df\u001b[0m\u001b[0;34m,\u001b[0m \u001b[0mcolumn_id\u001b[0m\u001b[0;34m=\u001b[0m\u001b[0;34m\"item_id\"\u001b[0m\u001b[0;34m,\u001b[0m \u001b[0mcolumn_sort\u001b[0m\u001b[0;34m=\u001b[0m\u001b[0;34m'wm_yr_wk'\u001b[0m\u001b[0;34m,\u001b[0m \u001b[0mimpute_function\u001b[0m\u001b[0;34m=\u001b[0m\u001b[0mimpute\u001b[0m\u001b[0;34m)\u001b[0m\u001b[0;34m\u001b[0m\u001b[0m\n\u001b[0;32m----> 3\u001b[0;31m \u001b[0my\u001b[0m \u001b[0;34m=\u001b[0m \u001b[0mtarget_df\u001b[0m\u001b[0;34m.\u001b[0m\u001b[0mChristmas\u001b[0m\u001b[0;34m\u001b[0m\u001b[0m\n\u001b[0m\u001b[1;32m      4\u001b[0m \u001b[0;34m\u001b[0m\u001b[0m\n\u001b[1;32m      5\u001b[0m \u001b[0mX_train\u001b[0m\u001b[0;34m,\u001b[0m \u001b[0mX_test\u001b[0m\u001b[0;34m,\u001b[0m \u001b[0my_train\u001b[0m\u001b[0;34m,\u001b[0m \u001b[0my_test\u001b[0m \u001b[0;34m=\u001b[0m \u001b[0mtrain_test_split\u001b[0m\u001b[0;34m(\u001b[0m\u001b[0mX\u001b[0m\u001b[0;34m,\u001b[0m \u001b[0my\u001b[0m\u001b[0;34m,\u001b[0m \u001b[0mtest_size\u001b[0m\u001b[0;34m=\u001b[0m\u001b[0;36m.2\u001b[0m\u001b[0;34m)\u001b[0m\u001b[0;34m\u001b[0m\u001b[0m\n",
      "\u001b[0;31mNameError\u001b[0m: name 'target_df' is not defined"
     ]
    }
   ],
   "source": [
    "# only use the first 500 ids to speed up the processing\n",
    "X = extract_features(week_df, column_id=\"item_id\", column_sort='wm_yr_wk', impute_function=impute)\n",
    "y = target_df.Christmas\n",
    "\n",
    "X_train, X_test, y_train, y_test = train_test_split(X, y, test_size=.2)\n",
    "classifier_full = DecisionTreeClassifier()\n",
    "classifier_full.fit(X_train, y_train)\n",
    "print(classification_report(y_test, classifier_full.predict(X_test)))"
   ]
  },
  {
   "cell_type": "code",
   "execution_count": 20,
   "metadata": {},
   "outputs": [
    {
     "ename": "NameError",
     "evalue": "name 'y' is not defined",
     "output_type": "error",
     "traceback": [
      "\u001b[0;31m---------------------------------------------------------------------------\u001b[0m",
      "\u001b[0;31mNameError\u001b[0m                                 Traceback (most recent call last)",
      "\u001b[0;32m<ipython-input-20-074e276eded1>\u001b[0m in \u001b[0;36m<module>\u001b[0;34m\u001b[0m\n\u001b[1;32m      1\u001b[0m \u001b[0mrelevant_features\u001b[0m \u001b[0;34m=\u001b[0m \u001b[0mset\u001b[0m\u001b[0;34m(\u001b[0m\u001b[0;34m)\u001b[0m\u001b[0;34m\u001b[0m\u001b[0m\n\u001b[1;32m      2\u001b[0m \u001b[0;34m\u001b[0m\u001b[0m\n\u001b[0;32m----> 3\u001b[0;31m \u001b[0;32mfor\u001b[0m \u001b[0mlabel\u001b[0m \u001b[0;32min\u001b[0m \u001b[0my\u001b[0m\u001b[0;34m.\u001b[0m\u001b[0munique\u001b[0m\u001b[0;34m(\u001b[0m\u001b[0;34m)\u001b[0m\u001b[0;34m:\u001b[0m\u001b[0;34m\u001b[0m\u001b[0m\n\u001b[0m\u001b[1;32m      4\u001b[0m     \u001b[0my_train_binary\u001b[0m \u001b[0;34m=\u001b[0m \u001b[0my_train\u001b[0m \u001b[0;34m==\u001b[0m \u001b[0mlabel\u001b[0m\u001b[0;34m\u001b[0m\u001b[0m\n\u001b[1;32m      5\u001b[0m     \u001b[0mX_train_filtered\u001b[0m \u001b[0;34m=\u001b[0m \u001b[0mselect_features\u001b[0m\u001b[0;34m(\u001b[0m\u001b[0mX_train\u001b[0m\u001b[0;34m,\u001b[0m \u001b[0my_train_binary\u001b[0m\u001b[0;34m)\u001b[0m\u001b[0;34m\u001b[0m\u001b[0m\n",
      "\u001b[0;31mNameError\u001b[0m: name 'y' is not defined"
     ]
    }
   ],
   "source": [
    "relevant_features = set()\n",
    "\n",
    "for label in y.unique():\n",
    "    y_train_binary = y_train == label\n",
    "    X_train_filtered = select_features(X_train, y_train_binary)\n",
    "    print(\"Number of relevant features for class {}: {}/{}\".format(label, X_train_filtered.shape[1], X_train.shape[1]))\n",
    "    relevant_features = relevant_features.union(set(X_train_filtered.columns))\n",
    "\n",
    "len(relevant_features)"
   ]
  },
  {
   "cell_type": "code",
   "execution_count": 21,
   "metadata": {},
   "outputs": [
    {
     "ename": "NameError",
     "evalue": "name 'X_train' is not defined",
     "output_type": "error",
     "traceback": [
      "\u001b[0;31m---------------------------------------------------------------------------\u001b[0m",
      "\u001b[0;31mNameError\u001b[0m                                 Traceback (most recent call last)",
      "\u001b[0;32m<ipython-input-21-ba04b070f2f3>\u001b[0m in \u001b[0;36m<module>\u001b[0;34m\u001b[0m\n\u001b[0;32m----> 1\u001b[0;31m \u001b[0mX_train_filtered\u001b[0m \u001b[0;34m=\u001b[0m \u001b[0mX_train\u001b[0m\u001b[0;34m[\u001b[0m\u001b[0mlist\u001b[0m\u001b[0;34m(\u001b[0m\u001b[0mrelevant_features\u001b[0m\u001b[0;34m)\u001b[0m\u001b[0;34m]\u001b[0m\u001b[0;34m\u001b[0m\u001b[0m\n\u001b[0m\u001b[1;32m      2\u001b[0m \u001b[0mX_test_filtered\u001b[0m \u001b[0;34m=\u001b[0m \u001b[0mX_test\u001b[0m\u001b[0;34m[\u001b[0m\u001b[0mlist\u001b[0m\u001b[0;34m(\u001b[0m\u001b[0mrelevant_features\u001b[0m\u001b[0;34m)\u001b[0m\u001b[0;34m]\u001b[0m\u001b[0;34m\u001b[0m\u001b[0m\n",
      "\u001b[0;31mNameError\u001b[0m: name 'X_train' is not defined"
     ]
    }
   ],
   "source": [
    "X_train_filtered = X_train[list(relevant_features)]\n",
    "X_test_filtered = X_test[list(relevant_features)]"
   ]
  },
  {
   "cell_type": "code",
   "execution_count": 22,
   "metadata": {},
   "outputs": [
    {
     "ename": "NameError",
     "evalue": "name 'X_train_filtered' is not defined",
     "output_type": "error",
     "traceback": [
      "\u001b[0;31m---------------------------------------------------------------------------\u001b[0m",
      "\u001b[0;31mNameError\u001b[0m                                 Traceback (most recent call last)",
      "\u001b[0;32m<ipython-input-22-ea967a62d4c3>\u001b[0m in \u001b[0;36m<module>\u001b[0;34m\u001b[0m\n\u001b[1;32m      1\u001b[0m \u001b[0mclassifier_selected\u001b[0m \u001b[0;34m=\u001b[0m \u001b[0mDecisionTreeClassifier\u001b[0m\u001b[0;34m(\u001b[0m\u001b[0;34m)\u001b[0m\u001b[0;34m\u001b[0m\u001b[0m\n\u001b[0;32m----> 2\u001b[0;31m \u001b[0mclassifier_selected\u001b[0m\u001b[0;34m.\u001b[0m\u001b[0mfit\u001b[0m\u001b[0;34m(\u001b[0m\u001b[0mX_train_filtered\u001b[0m\u001b[0;34m,\u001b[0m \u001b[0my_train\u001b[0m\u001b[0;34m)\u001b[0m\u001b[0;34m\u001b[0m\u001b[0m\n\u001b[0m\u001b[1;32m      3\u001b[0m \u001b[0mprint\u001b[0m\u001b[0;34m(\u001b[0m\u001b[0mclassification_report\u001b[0m\u001b[0;34m(\u001b[0m\u001b[0my_test\u001b[0m\u001b[0;34m,\u001b[0m \u001b[0mclassifier_selected\u001b[0m\u001b[0;34m.\u001b[0m\u001b[0mpredict\u001b[0m\u001b[0;34m(\u001b[0m\u001b[0mX_test_filtered\u001b[0m\u001b[0;34m)\u001b[0m\u001b[0;34m)\u001b[0m\u001b[0;34m)\u001b[0m\u001b[0;34m\u001b[0m\u001b[0m\n",
      "\u001b[0;31mNameError\u001b[0m: name 'X_train_filtered' is not defined"
     ]
    }
   ],
   "source": [
    "classifier_selected = DecisionTreeClassifier()\n",
    "classifier_selected.fit(X_train_filtered, y_train)\n",
    "print(classification_report(y_test, classifier_selected.predict(X_test_filtered)))"
   ]
  },
  {
   "cell_type": "code",
   "execution_count": 23,
   "metadata": {},
   "outputs": [
    {
     "data": {
      "text/html": [
       "<div>\n",
       "<style scoped>\n",
       "    .dataframe tbody tr th:only-of-type {\n",
       "        vertical-align: middle;\n",
       "    }\n",
       "\n",
       "    .dataframe tbody tr th {\n",
       "        vertical-align: top;\n",
       "    }\n",
       "\n",
       "    .dataframe thead th {\n",
       "        text-align: right;\n",
       "    }\n",
       "</style>\n",
       "<table border=\"1\" class=\"dataframe\">\n",
       "  <thead>\n",
       "    <tr style=\"text-align: right;\">\n",
       "      <th></th>\n",
       "      <th>item_id</th>\n",
       "      <th>wm_yr_wk</th>\n",
       "      <th>sales_clean</th>\n",
       "    </tr>\n",
       "    <tr>\n",
       "      <th>_temporary_index_column</th>\n",
       "      <th></th>\n",
       "      <th></th>\n",
       "      <th></th>\n",
       "    </tr>\n",
       "  </thead>\n",
       "  <tbody>\n",
       "    <tr>\n",
       "      <th>0</th>\n",
       "      <td>FOODS_1_001</td>\n",
       "      <td>11101</td>\n",
       "      <td>0.216919</td>\n",
       "    </tr>\n",
       "    <tr>\n",
       "      <th>1</th>\n",
       "      <td>FOODS_1_001</td>\n",
       "      <td>11102</td>\n",
       "      <td>0.336914</td>\n",
       "    </tr>\n",
       "    <tr>\n",
       "      <th>2</th>\n",
       "      <td>FOODS_1_001</td>\n",
       "      <td>11103</td>\n",
       "      <td>0.590820</td>\n",
       "    </tr>\n",
       "    <tr>\n",
       "      <th>3</th>\n",
       "      <td>FOODS_1_001</td>\n",
       "      <td>11104</td>\n",
       "      <td>0.447754</td>\n",
       "    </tr>\n",
       "    <tr>\n",
       "      <th>4</th>\n",
       "      <td>FOODS_1_001</td>\n",
       "      <td>11105</td>\n",
       "      <td>0.499268</td>\n",
       "    </tr>\n",
       "  </tbody>\n",
       "</table>\n",
       "</div>"
      ],
      "text/plain": [
       "                             item_id  wm_yr_wk  sales_clean\n",
       "_temporary_index_column                                    \n",
       "0                        FOODS_1_001     11101     0.216919\n",
       "1                        FOODS_1_001     11102     0.336914\n",
       "2                        FOODS_1_001     11103     0.590820\n",
       "3                        FOODS_1_001     11104     0.447754\n",
       "4                        FOODS_1_001     11105     0.499268"
      ]
     },
     "execution_count": 23,
     "metadata": {},
     "output_type": "execute_result"
    }
   ],
   "source": [
    "week_df.head()"
   ]
  },
  {
   "cell_type": "code",
   "execution_count": 24,
   "metadata": {},
   "outputs": [],
   "source": [
    "#y = week_df[['item_id','wm_yr_wk']].copy()\n",
    "#y = (week_df.groupby(['item_id'])['sales_clean'].transform(lambda x: x.shift(-1))).astype(np.float32)\n",
    "y = week_df.sales_clean"
   ]
  },
  {
   "cell_type": "code",
   "execution_count": 25,
   "metadata": {},
   "outputs": [
    {
     "ename": "ValueError",
     "evalue": "The following ids are in the time series container but are missing in y: {'HOBBIES_1_183', 'HOUSEHOLD_1_274', 'HOUSEHOLD_2_117', 'HOUSEHOLD_2_129', 'FOODS_3_149', 'HOUSEHOLD_1_216', 'HOUSEHOLD_1_321', 'HOUSEHOLD_2_155', 'FOODS_3_396', 'HOUSEHOLD_2_432', 'FOODS_3_775', 'HOUSEHOLD_2_410', 'FOODS_2_194', 'FOODS_3_039', 'HOBBIES_2_112', 'HOUSEHOLD_2_179', 'HOBBIES_1_070', 'FOODS_2_089', 'HOUSEHOLD_1_048', 'HOUSEHOLD_1_328', 'HOBBIES_1_284', 'FOODS_1_043', 'FOODS_2_173', 'FOODS_2_341', 'HOBBIES_1_180', 'HOBBIES_1_099', 'HOBBIES_1_110', 'HOBBIES_1_206', 'FOODS_1_121', 'FOODS_3_436', 'HOBBIES_1_229', 'FOODS_3_033', 'FOODS_3_418', 'HOUSEHOLD_1_086', 'FOODS_2_129', 'FOODS_3_567', 'FOODS_1_210', 'FOODS_3_710', 'HOBBIES_1_308', 'FOODS_3_749', 'HOUSEHOLD_1_447', 'HOUSEHOLD_2_478', 'FOODS_2_367', 'HOBBIES_1_283', 'HOUSEHOLD_1_331', 'HOUSEHOLD_1_474', 'HOUSEHOLD_1_534', 'HOUSEHOLD_1_153', 'FOODS_3_231', 'FOODS_1_031', 'FOODS_3_473', 'HOUSEHOLD_1_279', 'HOUSEHOLD_1_365', 'HOUSEHOLD_2_411', 'HOUSEHOLD_2_288', 'HOUSEHOLD_2_425', 'FOODS_1_061', 'HOBBIES_2_009', 'HOUSEHOLD_2_187', 'HOBBIES_2_011', 'HOUSEHOLD_2_491', 'FOODS_1_128', 'FOODS_2_132', 'HOBBIES_2_052', 'FOODS_2_271', 'HOUSEHOLD_1_364', 'FOODS_2_281', 'HOBBIES_1_257', 'FOODS_1_190', 'HOBBIES_1_120', 'HOUSEHOLD_1_245', 'HOUSEHOLD_1_005', 'FOODS_2_390', 'HOBBIES_1_138', 'HOUSEHOLD_1_235', 'FOODS_2_121', 'HOBBIES_2_039', 'HOUSEHOLD_1_259', 'HOUSEHOLD_1_238', 'FOODS_1_114', 'HOUSEHOLD_1_006', 'HOUSEHOLD_1_125', 'HOBBIES_1_248', 'FOODS_1_025', 'FOODS_3_643', 'HOUSEHOLD_2_458', 'HOBBIES_1_149', 'HOBBIES_2_116', 'FOODS_3_446', 'FOODS_3_773', 'FOODS_1_120', 'FOODS_2_316', 'FOODS_3_642', 'HOBBIES_1_137', 'HOUSEHOLD_1_090', 'FOODS_3_099', 'FOODS_3_692', 'FOODS_3_620', 'HOUSEHOLD_1_354', 'HOUSEHOLD_1_130', 'FOODS_3_073', 'FOODS_3_445', 'HOUSEHOLD_1_226', 'FOODS_3_042', 'HOUSEHOLD_1_495', 'HOBBIES_1_049', 'HOUSEHOLD_1_170', 'HOBBIES_1_423', 'FOODS_3_581', 'HOBBIES_1_297', 'HOUSEHOLD_1_351', 'FOODS_3_502', 'HOUSEHOLD_1_032', 'FOODS_1_194', 'HOBBIES_1_314', 'HOBBIES_1_263', 'FOODS_3_719', 'HOUSEHOLD_1_198', 'HOUSEHOLD_1_432', 'FOODS_3_576', 'HOUSEHOLD_2_292', 'FOODS_3_058', 'FOODS_3_428', 'HOUSEHOLD_1_394', 'FOODS_3_730', 'HOUSEHOLD_2_195', 'HOUSEHOLD_1_109', 'FOODS_3_578', 'FOODS_3_501', 'FOODS_3_800', 'HOBBIES_1_146', 'HOUSEHOLD_1_247', 'FOODS_2_202', 'HOUSEHOLD_2_437', 'HOUSEHOLD_1_285', 'FOODS_3_006', 'FOODS_3_293', 'HOUSEHOLD_2_184', 'HOBBIES_1_128', 'FOODS_3_059', 'FOODS_2_158', 'HOBBIES_1_218', 'FOODS_1_058', 'FOODS_2_225', 'FOODS_3_799', 'FOODS_1_097', 'FOODS_2_388', 'HOBBIES_2_068', 'HOBBIES_2_117', 'FOODS_3_167', 'FOODS_3_750', 'HOBBIES_2_148', 'FOODS_3_118', 'FOODS_3_274', 'FOODS_3_147', 'HOBBIES_1_136', 'FOODS_3_361', 'HOUSEHOLD_1_311', 'FOODS_3_069', 'FOODS_2_030', 'HOUSEHOLD_2_250', 'HOUSEHOLD_2_006', 'HOBBIES_2_041', 'FOODS_2_378', 'HOBBIES_1_024', 'FOODS_2_275', 'FOODS_3_468', 'FOODS_3_570', 'HOBBIES_1_127', 'FOODS_3_627', 'HOUSEHOLD_2_368', 'FOODS_3_540', 'FOODS_3_779', 'HOBBIES_1_300', 'HOUSEHOLD_2_309', 'FOODS_3_304', 'HOBBIES_1_249', 'FOODS_3_179', 'HOUSEHOLD_2_223', 'HOUSEHOLD_2_061', 'HOUSEHOLD_1_421', 'FOODS_1_053', 'HOBBIES_1_420', 'FOODS_3_434', 'HOUSEHOLD_1_458', 'HOBBIES_2_127', 'FOODS_3_048', 'HOBBIES_1_117', 'HOUSEHOLD_2_240', 'HOBBIES_1_375', 'FOODS_1_049', 'FOODS_3_195', 'HOUSEHOLD_2_393', 'HOBBIES_1_113', 'HOBBIES_1_121', 'HOBBIES_1_045', 'HOBBIES_2_139', 'FOODS_2_134', 'FOODS_2_332', 'FOODS_3_547', 'FOODS_3_331', 'FOODS_3_660', 'FOODS_3_066', 'FOODS_3_609', 'FOODS_1_117', 'FOODS_2_094', 'HOUSEHOLD_1_339', 'HOBBIES_2_089', 'HOUSEHOLD_1_070', 'HOUSEHOLD_1_126', 'FOODS_3_539', 'FOODS_3_433', 'FOODS_3_671', 'FOODS_1_157', 'FOODS_2_131', 'FOODS_2_253', 'HOBBIES_1_213', 'FOODS_1_090', 'HOUSEHOLD_2_166', 'FOODS_3_522', 'FOODS_2_096', 'FOODS_2_258', 'FOODS_3_172', 'FOODS_1_047', 'HOUSEHOLD_2_034', 'HOUSEHOLD_1_188', 'HOUSEHOLD_1_482', 'HOUSEHOLD_2_426', 'HOBBIES_1_309', 'FOODS_1_077', 'HOBBIES_2_141', 'HOUSEHOLD_1_515', 'FOODS_3_235', 'HOBBIES_1_119', 'HOUSEHOLD_1_026', 'FOODS_3_815', 'FOODS_3_527', 'HOBBIES_1_266', 'FOODS_3_672', 'HOUSEHOLD_1_144', 'HOUSEHOLD_1_446', 'FOODS_3_136', 'HOUSEHOLD_1_518', 'HOUSEHOLD_2_192', 'HOUSEHOLD_2_193', 'FOODS_3_225', 'FOODS_3_548', 'FOODS_2_222', 'HOUSEHOLD_1_506', 'FOODS_3_624', 'FOODS_3_011', 'FOODS_3_008', 'HOBBIES_1_084', 'HOUSEHOLD_2_104', 'HOBBIES_1_306', 'FOODS_3_684', 'HOBBIES_1_412', 'HOUSEHOLD_1_488', 'FOODS_2_307', 'HOUSEHOLD_1_471', 'FOODS_2_071', 'HOUSEHOLD_1_028', 'FOODS_2_340', 'FOODS_3_386', 'FOODS_3_706', 'FOODS_3_786', 'HOUSEHOLD_2_330', 'HOUSEHOLD_2_415', 'FOODS_3_424', 'HOBBIES_1_398', 'FOODS_3_380', 'FOODS_3_310', 'HOUSEHOLD_2_107', 'FOODS_1_149', 'FOODS_1_154', 'HOUSEHOLD_1_318', 'HOBBIES_1_328', 'FOODS_3_778', 'FOODS_2_342', 'HOBBIES_1_010', 'HOUSEHOLD_2_251', 'HOBBIES_1_304', 'HOUSEHOLD_2_428', 'FOODS_3_440', 'FOODS_2_069', 'FOODS_3_556', 'FOODS_3_144', 'FOODS_1_012', 'HOUSEHOLD_1_426', 'HOUSEHOLD_2_416', 'HOBBIES_1_338', 'HOBBIES_1_087', 'HOBBIES_1_187', 'HOUSEHOLD_2_335', 'HOUSEHOLD_2_160', 'HOBBIES_2_095', 'HOUSEHOLD_2_339', 'HOUSEHOLD_2_310', 'HOUSEHOLD_1_156', 'FOODS_2_393', 'HOBBIES_1_311', 'HOBBIES_1_188', 'HOBBIES_2_065', 'FOODS_1_145', 'HOUSEHOLD_1_129', 'FOODS_3_306', 'FOODS_3_727', 'HOBBIES_1_154', 'HOUSEHOLD_1_530', 'FOODS_3_653', 'HOBBIES_1_193', 'FOODS_2_257', 'HOBBIES_1_141', 'HOBBIES_1_162', 'HOBBIES_1_301', 'HOUSEHOLD_1_437', 'HOUSEHOLD_2_376', 'HOUSEHOLD_2_471', 'FOODS_3_634', 'FOODS_3_691', 'FOODS_3_336', 'HOBBIES_1_245', 'FOODS_2_311', 'HOBBIES_2_023', 'HOBBIES_1_034', 'HOBBIES_2_128', 'HOBBIES_2_079', 'FOODS_3_368', 'FOODS_1_045', 'HOUSEHOLD_1_264', 'HOUSEHOLD_2_361', 'FOODS_3_560', 'FOODS_3_032', 'FOODS_3_391', 'FOODS_3_618', 'HOUSEHOLD_1_309', 'HOUSEHOLD_1_267', 'HOUSEHOLD_2_293', 'HOBBIES_1_118', 'HOUSEHOLD_2_338', 'FOODS_3_630', 'FOODS_2_263', 'FOODS_3_484', 'HOUSEHOLD_2_235', 'HOUSEHOLD_1_138', 'FOODS_2_353', 'FOODS_3_741', 'HOBBIES_1_352', 'FOODS_2_027', 'FOODS_3_148', 'FOODS_1_055', 'FOODS_3_308', 'HOBBIES_2_082', 'HOUSEHOLD_1_425', 'FOODS_3_565', 'FOODS_2_231', 'HOUSEHOLD_1_161', 'FOODS_3_460', 'HOUSEHOLD_2_350', 'HOUSEHOLD_1_062', 'FOODS_3_062', 'FOODS_1_115', 'FOODS_2_026', 'FOODS_2_224', 'FOODS_3_019', 'HOUSEHOLD_1_348', 'FOODS_3_270', 'FOODS_1_038', 'FOODS_2_328', 'FOODS_2_399', 'FOODS_3_312', 'FOODS_3_284', 'HOUSEHOLD_2_087', 'HOUSEHOLD_1_142', 'FOODS_1_175', 'FOODS_1_174', 'FOODS_3_477', 'HOBBIES_2_051', 'HOUSEHOLD_1_350', 'HOBBIES_2_032', 'HOUSEHOLD_1_152', 'HOUSEHOLD_2_270', 'HOBBIES_1_046', 'FOODS_3_248', 'HOUSEHOLD_2_333', 'FOODS_1_033', 'HOUSEHOLD_2_486', 'FOODS_3_592', 'FOODS_2_326', 'FOODS_2_330', 'FOODS_3_784', 'FOODS_3_157', 'FOODS_3_733', 'FOODS_2_352', 'HOBBIES_2_075', 'FOODS_2_189', 'FOODS_3_345', 'HOUSEHOLD_2_424', 'HOUSEHOLD_1_116', 'HOUSEHOLD_2_348', 'HOUSEHOLD_2_247', 'HOBBIES_2_076', 'HOUSEHOLD_2_225', 'FOODS_3_178', 'HOBBIES_1_107', 'FOODS_1_070', 'FOODS_3_001', 'FOODS_3_417', 'HOUSEHOLD_1_229', 'FOODS_3_568', 'HOUSEHOLD_1_254', 'HOUSEHOLD_1_356', 'HOBBIES_1_295', 'HOUSEHOLD_1_442', 'HOUSEHOLD_2_013', 'HOUSEHOLD_2_064', 'HOUSEHOLD_2_427', 'FOODS_1_178', 'HOBBIES_1_239', 'HOUSEHOLD_2_375', 'FOODS_3_686', 'HOBBIES_1_186', 'FOODS_3_622', 'HOUSEHOLD_1_091', 'HOUSEHOLD_2_137', 'HOUSEHOLD_1_242', 'FOODS_1_039', 'FOODS_3_737', 'FOODS_3_247', 'HOUSEHOLD_2_442', 'FOODS_2_032', 'FOODS_3_072', 'FOODS_3_498', 'FOODS_3_229', 'HOBBIES_2_109', 'FOODS_1_044', 'FOODS_2_002', 'HOUSEHOLD_2_399', 'HOUSEHOLD_1_478', 'HOBBIES_1_343', 'FOODS_1_193', 'FOODS_3_819', 'FOODS_2_060', 'HOBBIES_1_389', 'FOODS_3_697', 'HOUSEHOLD_1_456', 'HOUSEHOLD_1_537', 'FOODS_3_283', 'HOBBIES_2_016', 'FOODS_3_602', 'HOBBIES_1_225', 'HOUSEHOLD_2_090', 'HOUSEHOLD_2_453', 'HOBBIES_1_124', 'HOBBIES_1_210', 'FOODS_3_053', 'HOUSEHOLD_1_176', 'FOODS_3_091', 'HOUSEHOLD_2_443', 'HOBBIES_1_012', 'FOODS_3_112', 'HOUSEHOLD_1_051', 'FOODS_3_261', 'FOODS_2_188', 'HOBBIES_2_019', 'HOUSEHOLD_1_059', 'HOUSEHOLD_1_308', 'FOODS_3_384', 'HOUSEHOLD_2_051', 'FOODS_2_267', 'HOUSEHOLD_1_222', 'HOUSEHOLD_2_115', 'HOUSEHOLD_1_230', 'HOUSEHOLD_2_328', 'HOBBIES_1_169', 'HOBBIES_1_041', 'FOODS_1_116', 'FOODS_3_290', 'FOODS_3_212', 'FOODS_2_124', 'HOUSEHOLD_1_179', 'FOODS_3_113', 'HOUSEHOLD_2_504', 'FOODS_3_082', 'HOUSEHOLD_2_444', 'FOODS_1_169', 'HOUSEHOLD_1_133', 'HOBBIES_2_053', 'HOBBIES_1_274', 'FOODS_2_057', 'HOBBIES_1_009', 'FOODS_1_143', 'HOBBIES_1_151', 'FOODS_2_297', 'HOUSEHOLD_1_136', 'FOODS_3_160', 'HOUSEHOLD_2_462', 'HOBBIES_1_362', 'HOUSEHOLD_1_430', 'HOBBIES_2_028', 'HOBBIES_1_317', 'FOODS_3_183', 'FOODS_1_046', 'HOBBIES_1_114', 'FOODS_2_212', 'HOUSEHOLD_1_438', 'FOODS_2_318', 'HOUSEHOLD_2_378', 'FOODS_2_004', 'HOBBIES_2_077', 'HOUSEHOLD_1_236', 'HOUSEHOLD_1_508', 'HOUSEHOLD_2_091', 'FOODS_3_205', 'FOODS_3_640', 'HOBBIES_1_171', 'FOODS_3_234', 'HOUSEHOLD_1_397', 'HOBBIES_1_413', 'FOODS_2_300', 'HOBBIES_2_012', 'HOBBIES_2_092', 'FOODS_1_181', 'FOODS_2_376', 'FOODS_3_563', 'FOODS_2_360', 'FOODS_3_486', 'FOODS_3_689', 'HOBBIES_1_205', 'HOUSEHOLD_1_378', 'HOUSEHOLD_2_134', 'HOUSEHOLD_2_128', 'HOUSEHOLD_1_393', 'HOBBIES_1_258', 'HOUSEHOLD_2_265', 'FOODS_2_177', 'HOBBIES_1_281', 'HOUSEHOLD_2_354', 'FOODS_1_026', 'HOBBIES_1_017', 'HOUSEHOLD_1_122', 'FOODS_2_323', 'FOODS_2_165', 'HOBBIES_1_377', 'HOBBIES_1_419', 'HOUSEHOLD_1_262', 'FOODS_2_160', 'FOODS_2_192', 'FOODS_1_015', 'FOODS_3_221', 'FOODS_3_459', 'HOUSEHOLD_1_338', 'HOUSEHOLD_2_175', 'HOUSEHOLD_1_290', 'HOUSEHOLD_1_303', 'HOUSEHOLD_1_405', 'FOODS_2_072', 'FOODS_3_492', 'HOBBIES_2_124', 'HOUSEHOLD_2_382', 'FOODS_3_401', 'FOODS_1_197', 'HOUSEHOLD_1_054', 'HOUSEHOLD_2_054', 'HOUSEHOLD_2_307', 'HOBBIES_1_232', 'FOODS_1_095', 'FOODS_3_587', 'FOODS_3_742', 'FOODS_1_059', 'HOBBIES_1_152', 'FOODS_3_267', 'FOODS_2_205', 'FOODS_2_043', 'FOODS_3_327', 'HOUSEHOLD_2_420', 'FOODS_2_238', 'HOUSEHOLD_2_321', 'FOODS_2_217', 'FOODS_3_661', 'FOODS_2_336', 'FOODS_2_248', 'FOODS_3_313', 'HOUSEHOLD_2_394', 'FOODS_3_286', 'HOBBIES_2_045', 'FOODS_1_082', 'FOODS_2_003', 'HOUSEHOLD_1_208', 'HOBBIES_1_369', 'HOUSEHOLD_2_142', 'FOODS_2_008', 'HOUSEHOLD_1_124', 'FOODS_3_214', 'FOODS_3_360', 'FOODS_3_318', 'HOBBIES_1_326', 'FOODS_2_154', 'FOODS_3_280', 'FOODS_3_554', 'HOUSEHOLD_2_431', 'HOBBIES_1_321', 'HOUSEHOLD_1_187', 'HOUSEHOLD_1_292', 'HOUSEHOLD_1_060', 'HOBBIES_1_349', 'FOODS_2_295', 'HOBBIES_1_104', 'FOODS_3_747', 'HOUSEHOLD_1_428', 'FOODS_3_243', 'FOODS_2_075', 'HOBBIES_2_035', 'HOUSEHOLD_2_441', 'FOODS_1_176', 'FOODS_3_500', 'FOODS_2_087', 'HOUSEHOLD_2_332', 'FOODS_3_588', 'FOODS_2_228', 'HOBBIES_1_386', 'FOODS_3_365', 'FOODS_3_372', 'FOODS_3_447', 'HOBBIES_1_038', 'HOUSEHOLD_1_316', 'HOUSEHOLD_2_493', 'FOODS_2_207', 'HOBBIES_2_087', 'FOODS_3_051', 'HOBBIES_1_250', 'FOODS_1_215', 'HOBBIES_1_090', 'FOODS_2_042', 'FOODS_2_102', 'HOUSEHOLD_2_226', 'HOUSEHOLD_2_318', 'FOODS_1_156', 'FOODS_3_111', 'FOODS_2_170', 'HOUSEHOLD_2_036', 'HOBBIES_1_243', 'HOUSEHOLD_1_501', 'HOUSEHOLD_2_069', 'FOODS_2_197', 'HOBBIES_1_226', 'HOBBIES_1_347', 'HOUSEHOLD_1_248', 'FOODS_3_030', 'HOUSEHOLD_2_111', 'HOUSEHOLD_1_539', 'HOUSEHOLD_2_011', 'FOODS_3_348', 'FOODS_3_339', 'HOUSEHOLD_1_008', 'HOUSEHOLD_1_536', 'HOUSEHOLD_2_439', 'FOODS_1_006', 'FOODS_3_164', 'FOODS_1_014', 'FOODS_3_612', 'FOODS_2_344', 'HOBBIES_1_408', 'HOUSEHOLD_2_487', 'HOUSEHOLD_2_173', 'FOODS_2_251', 'FOODS_3_105', 'FOODS_1_205', 'HOUSEHOLD_1_205', 'HOUSEHOLD_2_294', 'FOODS_3_018', 'HOUSEHOLD_1_415', 'FOODS_3_296', 'FOODS_3_814', 'FOODS_2_299', 'FOODS_3_398', 'FOODS_2_266', 'HOUSEHOLD_2_228', 'FOODS_3_483', 'FOODS_1_098', 'HOBBIES_1_007', 'FOODS_3_078', 'HOBBIES_2_007', 'FOODS_3_108', 'FOODS_1_150', 'FOODS_3_185', 'HOBBIES_1_145', 'HOBBIES_1_176', 'FOODS_1_050', 'HOUSEHOLD_2_501', 'HOUSEHOLD_2_204', 'FOODS_1_016', 'FOODS_3_140', 'HOUSEHOLD_2_284', 'FOODS_3_508', 'HOUSEHOLD_2_095', 'HOUSEHOLD_2_206', 'HOUSEHOLD_1_449', 'HOUSEHOLD_2_078', 'HOBBIES_1_072', 'HOBBIES_1_155', 'FOODS_1_067', 'FOODS_3_350', 'FOODS_1_035', 'HOBBIES_1_319', 'FOODS_3_597', 'HOBBIES_1_179', 'FOODS_2_333', 'FOODS_3_662', 'FOODS_2_322', 'FOODS_3_636', 'FOODS_2_012', 'HOUSEHOLD_1_466', 'FOODS_2_198', 'HOUSEHOLD_2_081', 'HOUSEHOLD_2_327', 'HOUSEHOLD_2_325', 'FOODS_1_209', 'HOUSEHOLD_1_192', 'HOUSEHOLD_2_366', 'FOODS_3_362', 'HOUSEHOLD_1_305', 'FOODS_2_058', 'HOUSEHOLD_2_440', 'FOODS_3_329', 'FOODS_3_426', 'HOBBIES_1_134', 'HOUSEHOLD_2_271', 'HOUSEHOLD_2_463', 'HOUSEHOLD_2_157', 'HOUSEHOLD_2_484', 'HOUSEHOLD_2_505', 'HOUSEHOLD_1_500', 'HOUSEHOLD_1_440', 'HOBBIES_2_046', 'HOUSEHOLD_1_281', 'HOUSEHOLD_2_299', 'HOUSEHOLD_1_344', 'HOBBIES_1_200', 'FOODS_2_036', 'HOUSEHOLD_1_371', 'HOUSEHOLD_1_387', 'FOODS_1_134', 'FOODS_3_772', 'FOODS_3_803', 'HOUSEHOLD_1_011', 'HOUSEHOLD_2_385', 'FOODS_3_285', 'FOODS_1_085', 'HOUSEHOLD_2_419', 'HOBBIES_1_094', 'HOBBIES_1_203', 'HOUSEHOLD_1_225', 'HOUSEHOLD_1_073', 'HOUSEHOLD_1_075', 'HOUSEHOLD_1_061', 'HOBBIES_1_290', 'HOUSEHOLD_1_094', 'HOUSEHOLD_2_506', 'FOODS_3_344', 'HOBBIES_1_055', 'HOBBIES_2_078', 'HOUSEHOLD_1_325', 'FOODS_2_103', 'HOUSEHOLD_1_035', 'FOODS_2_356', 'FOODS_3_510', 'FOODS_2_144', 'FOODS_3_463', 'FOODS_2_249', 'FOODS_3_158', 'HOUSEHOLD_2_200', 'FOODS_3_475', 'FOODS_2_178', 'HOUSEHOLD_2_132', 'HOUSEHOLD_2_388', 'FOODS_2_200', 'FOODS_3_768', 'FOODS_3_575', 'HOUSEHOLD_1_093', 'HOUSEHOLD_2_199', 'HOUSEHOLD_1_502', 'FOODS_1_192', 'HOBBIES_2_086', 'HOUSEHOLD_1_381', 'FOODS_2_363', 'HOBBIES_2_003', 'FOODS_3_551', 'FOODS_1_013', 'HOUSEHOLD_2_041', 'HOBBIES_1_032', 'FOODS_2_221', 'HOBBIES_2_063', 'FOODS_3_103', 'HOUSEHOLD_2_124', 'HOBBIES_1_088', 'FOODS_2_166', 'FOODS_1_129', 'HOUSEHOLD_2_245', 'FOODS_3_259', 'HOBBIES_1_313', 'HOUSEHOLD_2_267', 'FOODS_1_041', 'FOODS_3_213', 'HOUSEHOLD_2_174', 'FOODS_3_571', 'HOUSEHOLD_2_409', 'HOUSEHOLD_2_252', 'FOODS_2_078', 'FOODS_3_818', 'HOUSEHOLD_1_118', 'FOODS_3_330', 'HOUSEHOLD_1_175', 'FOODS_3_619', 'HOBBIES_1_411', 'FOODS_3_405', 'FOODS_3_408', 'HOUSEHOLD_2_171', 'HOBBIES_2_100', 'HOUSEHOLD_2_341', 'HOUSEHOLD_1_204', 'FOODS_3_223', 'HOUSEHOLD_2_215', 'FOODS_1_072', 'FOODS_3_555', 'HOBBIES_2_090', 'HOBBIES_1_418', 'FOODS_2_397', 'FOODS_3_724', 'FOODS_3_046', 'HOBBIES_1_023', 'HOUSEHOLD_1_081', 'HOUSEHOLD_1_159', 'FOODS_2_133', 'HOUSEHOLD_2_343', 'FOODS_3_482', 'FOODS_3_085', 'FOODS_2_351', 'HOBBIES_1_135', 'FOODS_2_348', 'FOODS_2_368', 'HOUSEHOLD_2_266', 'FOODS_2_023', 'HOBBIES_2_033', 'FOODS_3_704', 'HOBBIES_1_194', 'HOUSEHOLD_2_311', 'FOODS_3_415', 'FOODS_3_216', 'HOUSEHOLD_1_487', 'FOODS_3_250', 'HOUSEHOLD_1_347', 'HOBBIES_2_108', 'FOODS_3_107', 'HOUSEHOLD_1_134', 'FOODS_2_137', 'HOUSEHOLD_1_301', 'HOUSEHOLD_1_517', 'HOUSEHOLD_2_025', 'HOUSEHOLD_1_034', 'HOUSEHOLD_1_080', 'FOODS_3_736', 'HOBBIES_1_050', 'HOUSEHOLD_1_044', 'FOODS_1_021', 'HOBBIES_1_260', 'HOBBIES_1_082', 'HOBBIES_2_054', 'HOUSEHOLD_1_160', 'FOODS_2_112', 'FOODS_2_280', 'FOODS_2_181', 'HOBBIES_1_327', 'HOUSEHOLD_1_531', 'FOODS_3_723', 'HOUSEHOLD_1_172', 'HOBBIES_2_010', 'FOODS_3_089', 'FOODS_1_030', 'FOODS_3_129', 'HOUSEHOLD_1_123', 'HOUSEHOLD_1_150', 'HOUSEHOLD_1_533', 'HOUSEHOLD_2_227', 'FOODS_2_081', 'HOUSEHOLD_1_520', 'HOUSEHOLD_2_446', 'FOODS_2_014', 'FOODS_3_448', 'HOBBIES_1_372', 'HOUSEHOLD_2_480', 'HOUSEHOLD_2_297', 'HOUSEHOLD_2_136', 'HOUSEHOLD_2_123', 'HOBBIES_1_189', 'HOUSEHOLD_1_220', 'HOUSEHOLD_1_286', 'HOUSEHOLD_2_214', 'FOODS_2_111', 'HOUSEHOLD_1_369', 'FOODS_1_125', 'FOODS_3_194', 'FOODS_3_092', 'FOODS_3_534', 'HOBBIES_1_021', 'HOUSEHOLD_1_181', 'HOUSEHOLD_1_194', 'HOUSEHOLD_2_422', 'HOBBIES_1_042', 'FOODS_3_717', 'HOBBIES_1_027', 'FOODS_3_320', 'HOUSEHOLD_1_291', 'HOBBIES_1_406', 'HOUSEHOLD_1_322', 'HOUSEHOLD_1_390', 'HOUSEHOLD_2_448', 'HOUSEHOLD_2_510', 'HOUSEHOLD_2_507', 'HOBBIES_1_268', 'HOUSEHOLD_2_248', 'FOODS_3_233', 'FOODS_1_136', 'HOUSEHOLD_2_092', 'HOUSEHOLD_2_397', 'FOODS_2_325', 'HOUSEHOLD_2_276', 'HOBBIES_1_020', 'FOODS_3_169', 'FOODS_3_309', 'HOBBIES_1_181', 'FOODS_2_276', 'FOODS_2_054', 'HOBBIES_1_060', 'HOUSEHOLD_1_448', 'FOODS_1_057', 'HOBBIES_2_034', 'HOUSEHOLD_1_444', 'HOUSEHOLD_1_461', 'HOUSEHOLD_2_035', 'FOODS_3_657', 'HOUSEHOLD_2_182', 'HOBBIES_1_228', 'FOODS_2_244', 'FOODS_2_161', 'FOODS_1_036', 'HOUSEHOLD_2_494', 'HOBBIES_2_042', 'FOODS_1_034', 'HOBBIES_1_131', 'FOODS_2_079', 'HOBBIES_1_074', 'FOODS_2_355', 'FOODS_2_306', 'HOUSEHOLD_1_027', 'HOUSEHOLD_2_153', 'HOUSEHOLD_2_509', 'HOUSEHOLD_2_033', 'HOBBIES_1_018', 'HOUSEHOLD_1_452', 'HOUSEHOLD_1_509', 'FOODS_2_386', 'HOBBIES_1_387', 'FOODS_2_193', 'FOODS_3_767', 'FOODS_3_101', 'HOUSEHOLD_1_169', 'HOBBIES_1_052', 'HOUSEHOLD_1_373', 'FOODS_1_051', 'FOODS_2_395', 'FOODS_3_411', 'HOBBIES_1_022', 'FOODS_2_157', 'HOBBIES_1_388', 'FOODS_2_369', 'FOODS_2_315', 'HOBBIES_1_221', 'HOUSEHOLD_1_355', 'HOUSEHOLD_2_212', 'FOODS_3_817', 'HOBBIES_1_269', 'HOUSEHOLD_1_477', 'HOUSEHOLD_2_285', 'HOUSEHOLD_2_088', 'HOBBIES_1_416', 'FOODS_3_439', 'HOBBIES_1_346', 'HOUSEHOLD_1_055', 'HOUSEHOLD_2_005', 'FOODS_3_367', 'FOODS_3_026', 'FOODS_1_004', 'FOODS_3_603', 'HOUSEHOLD_1_468', 'FOODS_3_127', 'HOUSEHOLD_2_019', 'FOODS_2_290', 'HOUSEHOLD_1_295', 'FOODS_1_080', 'FOODS_3_276', 'HOUSEHOLD_1_412', 'FOODS_1_068', 'FOODS_3_024', 'HOUSEHOLD_1_277', 'HOUSEHOLD_1_148', 'HOBBIES_1_359', 'FOODS_3_453', 'HOUSEHOLD_2_434', 'FOODS_3_373', 'FOODS_3_096', 'FOODS_3_465', 'HOUSEHOLD_2_476', 'FOODS_2_028', 'HOUSEHOLD_1_258', 'HOUSEHOLD_2_243', 'HOBBIES_2_073', 'FOODS_1_019', 'FOODS_2_167', 'FOODS_2_106', 'HOBBIES_1_367', 'HOUSEHOLD_1_386', 'FOODS_3_192', 'FOODS_3_224', 'HOUSEHOLD_2_008', 'HOUSEHOLD_2_222', 'HOUSEHOLD_1_241', 'FOODS_1_161', 'FOODS_3_504', 'FOODS_3_700', 'HOBBIES_2_062', 'HOUSEHOLD_1_112', 'HOUSEHOLD_2_106', 'HOUSEHOLD_2_150', 'HOUSEHOLD_2_256', 'HOBBIES_1_374', 'FOODS_3_126', 'HOUSEHOLD_1_332', 'FOODS_3_263', 'FOODS_3_607', 'FOODS_3_682', 'HOUSEHOLD_1_377', 'HOUSEHOLD_2_359', 'FOODS_3_746', 'FOODS_3_188', 'HOBBIES_1_190', 'FOODS_1_073', 'FOODS_1_167', 'FOODS_3_196', 'HOUSEHOLD_1_280', 'HOBBIES_1_105', 'FOODS_3_821', 'HOUSEHOLD_2_133', 'FOODS_3_155', 'FOODS_3_029', 'HOUSEHOLD_2_364', 'FOODS_3_253', 'FOODS_1_159', 'FOODS_2_169', 'FOODS_2_303', 'FOODS_1_024', 'FOODS_3_326', 'HOBBIES_1_305', 'HOUSEHOLD_2_158', 'FOODS_3_094', 'HOUSEHOLD_1_389', 'HOUSEHOLD_2_152', 'FOODS_2_187', 'FOODS_3_743', 'FOODS_3_193', 'FOODS_2_291', 'FOODS_2_358', 'HOUSEHOLD_1_141', 'HOUSEHOLD_1_282', 'HOUSEHOLD_1_246', 'FOODS_3_098', 'FOODS_2_064', 'FOODS_2_148', 'FOODS_2_082', 'FOODS_2_119', 'FOODS_2_279', 'HOUSEHOLD_2_306', 'FOODS_1_188', 'HOUSEHOLD_2_162', 'FOODS_3_146', 'FOODS_3_451', 'HOUSEHOLD_2_237', 'FOODS_2_236', 'FOODS_3_262', 'FOODS_2_040', 'FOODS_3_471', 'HOBBIES_1_253', 'FOODS_3_442', 'HOBBIES_1_364', 'HOUSEHOLD_2_165', 'HOUSEHOLD_2_406', 'FOODS_2_110', 'HOBBIES_1_365', 'HOBBIES_1_184', 'FOODS_2_021', 'HOUSEHOLD_2_172', 'FOODS_3_009', 'HOUSEHOLD_2_355', 'HOUSEHOLD_1_021', 'HOUSEHOLD_1_489', 'FOODS_1_084', 'HOUSEHOLD_1_382', 'HOUSEHOLD_2_138', 'HOUSEHOLD_2_503', 'FOODS_3_319', 'HOBBIES_1_280', 'FOODS_2_099', 'HOUSEHOLD_1_013', 'FOODS_2_001', 'HOBBIES_1_195', 'FOODS_2_277', 'HOBBIES_2_132', 'HOUSEHOLD_1_375', 'FOODS_3_174', 'FOODS_1_091', 'FOODS_3_461', 'FOODS_3_533', 'FOODS_3_061', 'FOODS_2_016', 'HOUSEHOLD_2_452', 'HOUSEHOLD_1_076', 'HOUSEHOLD_1_512', 'HOUSEHOLD_1_464', 'HOUSEHOLD_1_362', 'FOODS_3_515', 'FOODS_2_088', 'HOUSEHOLD_2_121', 'FOODS_2_305', 'HOBBIES_1_165', 'FOODS_3_425', 'HOUSEHOLD_1_524', 'FOODS_3_791', 'HOUSEHOLD_2_202', 'FOODS_2_109', 'HOUSEHOLD_2_249', 'FOODS_2_037', 'HOUSEHOLD_1_445', 'FOODS_3_409', 'FOODS_1_201', 'FOODS_3_564', 'FOODS_3_060', 'FOODS_2_085', 'FOODS_3_294', 'FOODS_1_141', 'HOUSEHOLD_2_515', 'FOODS_3_065', 'FOODS_2_015', 'FOODS_2_347', 'FOODS_3_810', 'FOODS_3_175', 'HOBBIES_1_422', 'FOODS_2_246', 'HOBBIES_2_101', 'FOODS_2_254', 'HOBBIES_2_036', 'FOODS_2_171', 'FOODS_3_249', 'HOUSEHOLD_1_491', 'HOUSEHOLD_2_459', 'FOODS_1_011', 'FOODS_2_282', 'HOBBIES_2_050', 'HOBBIES_1_215', 'FOODS_3_110', 'HOBBIES_2_055', 'HOUSEHOLD_1_217', 'HOUSEHOLD_2_191', 'FOODS_1_099', 'FOODS_2_383', 'FOODS_2_044', 'HOUSEHOLD_2_127', 'FOODS_3_745', 'FOODS_3_240', 'FOODS_2_343', 'HOUSEHOLD_2_031', 'HOUSEHOLD_2_336', 'FOODS_3_034', 'HOBBIES_1_264', 'HOBBIES_1_013', 'FOODS_3_071', 'FOODS_3_407', 'HOUSEHOLD_1_329', 'HOUSEHOLD_2_003', 'HOUSEHOLD_1_251', 'HOUSEHOLD_1_414', 'HOUSEHOLD_1_472', 'FOODS_1_219', 'FOODS_1_087', 'FOODS_3_393', 'FOODS_3_825', 'FOODS_1_071', 'HOBBIES_1_030', 'HOUSEHOLD_1_164', 'HOUSEHOLD_2_380', 'HOUSEHOLD_1_178', 'HOBBIES_1_288', 'FOODS_2_247', 'HOUSEHOLD_1_385', 'HOUSEHOLD_1_023', 'HOUSEHOLD_1_197', 'FOODS_3_544', 'FOODS_3_086', 'HOUSEHOLD_2_109', 'FOODS_3_641', 'HOUSEHOLD_1_346', 'FOODS_3_670', 'HOUSEHOLD_1_266', 'FOODS_1_148', 'HOUSEHOLD_1_221', 'FOODS_3_281', 'HOBBIES_1_339', 'HOUSEHOLD_2_201', 'FOODS_1_142', 'HOUSEHOLD_2_027', 'HOUSEHOLD_2_371', 'FOODS_1_001', 'FOODS_2_176', 'FOODS_1_064', 'FOODS_1_094', 'HOBBIES_2_091', 'HOUSEHOLD_1_113', 'HOUSEHOLD_2_080', 'FOODS_3_479', 'FOODS_3_694', 'HOBBIES_1_204', 'FOODS_2_107', 'HOBBIES_1_081', 'HOUSEHOLD_2_408', 'HOUSEHOLD_2_186', 'FOODS_3_674', 'HOUSEHOLD_1_361', 'FOODS_2_159', 'HOUSEHOLD_2_404', 'FOODS_2_298', 'HOBBIES_2_111', 'HOUSEHOLD_1_368', 'HOUSEHOLD_1_045', 'FOODS_3_489', 'FOODS_1_113', 'FOODS_3_012', 'HOUSEHOLD_1_140', 'HOBBIES_1_405', 'HOBBIES_2_040', 'FOODS_3_410', 'FOODS_2_283', 'HOBBIES_1_177', 'HOBBIES_2_030', 'FOODS_3_295', 'FOODS_3_364', 'HOBBIES_1_302', 'HOUSEHOLD_2_122', 'FOODS_2_047', 'FOODS_3_562', 'FOODS_2_033', 'FOODS_2_382', 'HOUSEHOLD_1_359', 'HOUSEHOLD_2_141', 'FOODS_2_357', 'HOUSEHOLD_1_151', 'HOUSEHOLD_2_258', 'HOUSEHOLD_1_249', 'FOODS_3_359', 'HOBBIES_1_336', 'HOUSEHOLD_1_097', 'HOBBIES_2_144', 'FOODS_3_269', 'FOODS_3_720', 'HOUSEHOLD_1_317', 'FOODS_3_665', 'HOBBIES_1_255', 'FOODS_3_782', 'FOODS_1_123', 'FOODS_2_055', 'FOODS_3_769', 'HOBBIES_1_344', 'HOUSEHOLD_1_250', 'HOUSEHOLD_2_414', 'HOUSEHOLD_2_488', 'FOODS_3_629', 'HOUSEHOLD_1_128', 'HOBBIES_1_277', 'FOODS_3_801', 'FOODS_3_651', 'HOBBIES_2_014', 'HOUSEHOLD_1_353', 'FOODS_3_427', 'HOUSEHOLD_2_238', 'HOBBIES_1_262', 'HOUSEHOLD_1_410', 'FOODS_2_068', 'HOUSEHOLD_1_036', 'HOUSEHOLD_2_163', 'HOUSEHOLD_2_273', 'HOBBIES_1_108', 'HOBBIES_1_382', 'HOUSEHOLD_2_473', 'HOUSEHOLD_2_241', 'FOODS_3_802', 'FOODS_1_005', 'HOUSEHOLD_1_481', 'HOBBIES_2_094', 'HOUSEHOLD_1_493', 'FOODS_3_370', 'FOODS_1_202', 'FOODS_3_302', 'HOUSEHOLD_1_476', 'FOODS_2_125', 'FOODS_3_271', 'HOBBIES_1_068', 'FOODS_3_040', 'FOODS_2_186', 'FOODS_2_292', 'FOODS_2_319', 'FOODS_3_067', 'HOBBIES_1_330', 'FOODS_1_069', 'FOODS_3_652', 'HOBBIES_1_373', 'HOUSEHOLD_2_042', 'FOODS_3_625', 'FOODS_1_089', 'HOUSEHOLD_1_298', 'HOUSEHOLD_1_319', 'HOUSEHOLD_2_024', 'HOUSEHOLD_2_449', 'HOUSEHOLD_1_016', 'FOODS_3_206', 'HOBBIES_2_060', 'HOUSEHOLD_2_074', 'FOODS_1_101', 'FOODS_3_288', 'HOUSEHOLD_1_210', 'HOUSEHOLD_1_119', 'FOODS_3_181', 'FOODS_2_097', 'HOUSEHOLD_1_475', 'HOUSEHOLD_2_457', 'HOUSEHOLD_1_039', 'HOBBIES_2_126', 'FOODS_3_715', 'HOUSEHOLD_1_404', 'FOODS_3_197', 'HOUSEHOLD_1_232', 'HOUSEHOLD_2_381', 'FOODS_1_020', 'FOODS_2_076', 'HOUSEHOLD_2_099', 'FOODS_2_220', 'FOODS_3_163', 'HOBBIES_1_066', 'HOBBIES_2_105', 'HOBBIES_2_138', 'HOUSEHOLD_1_201', 'HOBBIES_1_039', 'HOBBIES_1_380', 'HOUSEHOLD_1_228', 'FOODS_1_162', 'FOODS_2_334', 'FOODS_3_186', 'FOODS_3_464', 'HOUSEHOLD_2_015', 'HOBBIES_1_064', 'FOODS_3_537', 'FOODS_2_317', 'HOUSEHOLD_1_009', 'HOUSEHOLD_1_384', 'FOODS_2_250', 'FOODS_3_375', 'FOODS_3_659', 'FOODS_3_291', 'HOBBIES_1_251', 'FOODS_2_211', 'HOUSEHOLD_2_317', 'FOODS_3_321', 'HOUSEHOLD_2_020', 'FOODS_1_137', 'HOUSEHOLD_2_060', 'HOUSEHOLD_1_012', 'FOODS_3_357', 'HOUSEHOLD_1_168', 'FOODS_3_377', 'HOBBIES_1_185', 'HOBBIES_1_325', 'HOUSEHOLD_1_071', 'HOUSEHOLD_1_149', 'HOBBIES_1_103', 'FOODS_3_299', 'FOODS_3_589', 'HOBBIES_1_065', 'HOUSEHOLD_2_169', 'FOODS_2_214', 'FOODS_3_049', 'FOODS_3_257', 'HOBBIES_1_015', 'HOBBIES_1_282', 'HOUSEHOLD_1_088', 'FOODS_1_108', 'FOODS_3_314', 'FOODS_3_638', 'HOUSEHOLD_2_454', 'FOODS_3_506', 'HOBBIES_1_292', 'HOBBIES_2_135', 'HOUSEHOLD_1_374', 'HOUSEHOLD_2_451', 'HOUSEHOLD_2_168', 'HOBBIES_1_265', 'FOODS_3_337', 'HOUSEHOLD_1_261', 'HOUSEHOLD_1_047', 'HOUSEHOLD_1_535', 'HOUSEHOLD_2_412', 'FOODS_3_028', 'HOBBIES_1_092', 'FOODS_1_119', 'HOUSEHOLD_1_158', 'FOODS_2_331', 'HOUSEHOLD_2_500', 'HOUSEHOLD_1_165', 'FOODS_3_429', 'FOODS_1_088', 'HOBBIES_1_318', 'FOODS_1_198', 'FOODS_1_063', 'FOODS_3_056', 'FOODS_3_204', 'HOBBIES_1_236', 'HOBBIES_2_097', 'FOODS_1_135', 'HOUSEHOLD_1_463', 'FOODS_3_679', 'FOODS_2_141', 'HOUSEHOLD_1_139', 'HOUSEHOLD_1_486', 'HOUSEHOLD_2_068', 'FOODS_3_383', 'HOUSEHOLD_2_490', 'HOUSEHOLD_2_177', 'HOBBIES_1_247', 'FOODS_2_056', 'HOUSEHOLD_2_298', 'FOODS_3_648', 'HOUSEHOLD_1_089', 'FOODS_3_102', 'FOODS_2_061', 'FOODS_3_003', 'HOUSEHOLD_1_398', 'FOODS_3_311', 'HOUSEHOLD_2_053', 'HOUSEHOLD_2_161', 'HOUSEHOLD_2_055', 'HOUSEHOLD_2_262', 'FOODS_2_048', 'FOODS_2_320', 'FOODS_2_337', 'HOBBIES_2_085', 'HOUSEHOLD_2_400', 'HOUSEHOLD_1_433', 'HOBBIES_1_235', 'HOBBIES_2_110', 'HOUSEHOLD_1_095', 'HOUSEHOLD_1_450', 'HOBBIES_1_199', 'HOUSEHOLD_2_135', 'HOUSEHOLD_1_234', 'FOODS_1_066', 'FOODS_1_151', 'FOODS_3_084', 'HOBBIES_1_322', 'FOODS_2_256', 'HOUSEHOLD_1_227', 'HOBBIES_2_096', 'HOBBIES_1_397', 'HOUSEHOLD_2_242', 'HOUSEHOLD_2_363', 'HOUSEHOLD_1_092', 'HOBBIES_1_158', 'FOODS_3_437', 'FOODS_3_490', 'FOODS_3_744', 'HOBBIES_1_361', 'HOUSEHOLD_1_494', 'HOBBIES_1_123', 'FOODS_3_470', 'FOODS_3_395', 'FOODS_2_243', 'HOUSEHOLD_2_209', 'FOODS_2_313', 'HOUSEHOLD_2_145', 'FOODS_3_191', 'HOUSEHOLD_2_492', 'FOODS_2_146', 'HOBBIES_1_312', 'HOBBIES_1_067', 'FOODS_3_608', 'HOUSEHOLD_1_496', 'HOBBIES_2_027', 'HOUSEHOLD_2_342', 'HOUSEHOLD_2_417', 'FOODS_1_009', 'HOUSEHOLD_2_131', 'HOUSEHOLD_1_182', 'HOUSEHOLD_1_284', 'FOODS_3_574', 'HOUSEHOLD_2_210', 'FOODS_2_152', 'HOUSEHOLD_1_030', 'FOODS_3_322', 'HOBBIES_1_393', 'FOODS_2_182', 'FOODS_3_210', 'FOODS_3_095', 'FOODS_3_628', 'FOODS_3_128', 'FOODS_3_649', 'FOODS_3_705', 'HOBBIES_1_043', 'HOBBIES_2_140', 'HOUSEHOLD_2_052', 'HOUSEHOLD_2_295', 'HOUSEHOLD_1_470', 'FOODS_3_520', 'FOODS_3_789', 'FOODS_3_702', 'FOODS_3_823', 'FOODS_3_100', 'FOODS_2_239', 'FOODS_3_675', 'FOODS_3_709', 'FOODS_1_118', 'HOUSEHOLD_2_185', 'HOBBIES_1_028', 'HOUSEHOLD_2_062', 'FOODS_1_140', 'HOBBIES_1_340', 'HOUSEHOLD_1_349', 'FOODS_2_209', 'FOODS_3_806', 'HOBBIES_1_241', 'HOBBIES_1_415', 'HOUSEHOLD_1_064', 'FOODS_3_753', 'HOUSEHOLD_2_147', 'HOBBIES_1_417', 'HOUSEHOLD_2_268', 'FOODS_3_266', 'HOUSEHOLD_1_522', 'HOUSEHOLD_2_239', 'FOODS_3_481', 'HOBBIES_2_048', 'FOODS_2_289', 'HOUSEHOLD_2_352', 'HOUSEHOLD_2_118', 'HOUSEHOLD_1_131', 'HOUSEHOLD_2_119', 'FOODS_2_035', 'FOODS_3_080', 'HOBBIES_2_061', 'FOODS_3_389', 'FOODS_3_530', 'HOUSEHOLD_1_443', 'FOODS_3_752', 'HOUSEHOLD_2_360', 'HOBBIES_1_166', 'HOBBIES_2_119', 'HOBBIES_1_363', 'HOBBIES_1_315', 'HOUSEHOLD_1_516', 'HOUSEHOLD_1_293', 'FOODS_2_163', 'HOUSEHOLD_1_057', 'FOODS_3_145', 'HOUSEHOLD_1_326', 'FOODS_2_066', 'HOUSEHOLD_1_252', 'HOUSEHOLD_2_377', 'FOODS_3_708', 'FOODS_3_552', 'FOODS_2_104', 'HOUSEHOLD_2_383', 'HOUSEHOLD_2_156', 'HOUSEHOLD_2_438', 'FOODS_1_204', 'HOUSEHOLD_1_100', 'FOODS_3_676', 'FOODS_3_788', 'FOODS_2_260', 'FOODS_2_286', 'HOUSEHOLD_2_401', 'FOODS_2_020', 'HOUSEHOLD_1_330', 'HOUSEHOLD_1_514', 'FOODS_2_370', 'HOUSEHOLD_2_278', 'FOODS_1_189', 'HOUSEHOLD_1_007', 'FOODS_2_045', 'FOODS_1_191', 'FOODS_3_611', 'FOODS_2_009', 'FOODS_3_765', 'HOBBIES_2_037', 'HOUSEHOLD_2_429', 'FOODS_3_341', 'HOBBIES_1_286', 'FOODS_2_029', 'HOBBIES_1_097', 'FOODS_2_206', 'FOODS_1_216', 'FOODS_3_385', 'HOBBIES_1_192', 'FOODS_3_805', 'HOUSEHOLD_2_346', 'HOBBIES_1_246', 'FOODS_2_366', 'FOODS_3_382', 'HOBBIES_1_237', 'FOODS_1_122', 'FOODS_2_229', 'FOODS_3_251', 'FOODS_3_335', 'HOUSEHOLD_1_174', 'HOUSEHOLD_2_313', 'FOODS_2_050', 'HOUSEHOLD_1_042', 'HOBBIES_1_354', 'FOODS_2_031', 'HOBBIES_1_390', 'HOBBIES_2_071', 'FOODS_2_022', 'FOODS_3_485', 'HOBBIES_2_137', 'FOODS_3_198', 'FOODS_3_199', 'HOUSEHOLD_2_315', 'FOODS_2_301', 'HOUSEHOLD_2_230', 'HOUSEHOLD_1_299', 'FOODS_3_549', 'FOODS_1_029', 'HOBBIES_1_040', 'FOODS_2_237', 'FOODS_3_241', 'FOODS_2_091', 'HOBBIES_2_104', 'HOUSEHOLD_1_014', 'FOODS_3_516', 'HOUSEHOLD_1_106', 'HOUSEHOLD_2_021', 'FOODS_3_526', 'FOODS_3_514', 'HOBBIES_1_100', 'HOUSEHOLD_1_525', 'HOBBIES_1_392', 'FOODS_2_172', 'HOUSEHOLD_1_324', 'HOBBIES_1_370', 'FOODS_3_466', 'HOBBIES_1_201', 'HOUSEHOLD_2_316', 'FOODS_3_623', 'FOODS_3_015', 'FOODS_2_210', 'HOUSEHOLD_1_072', 'FOODS_3_593', 'HOUSEHOLD_1_145', 'FOODS_2_138', 'HOBBIES_1_102', 'FOODS_3_260', 'HOBBIES_2_026', 'HOUSEHOLD_1_306', 'HOUSEHOLD_2_146', 'HOBBIES_1_324', 'FOODS_2_365', 'FOODS_3_075', 'HOBBIES_1_115', 'FOODS_3_610', 'HOUSEHOLD_1_052', 'FOODS_3_499', 'FOODS_3_755', 'FOODS_1_164', 'HOUSEHOLD_2_038', 'HOBBIES_2_066', 'HOUSEHOLD_1_083', 'FOODS_3_104', 'FOODS_1_018', 'FOODS_2_394', 'FOODS_3_412', 'HOUSEHOLD_1_403', 'HOUSEHOLD_2_264', 'FOODS_3_739', 'FOODS_3_207', 'HOUSEHOLD_2_194', 'FOODS_2_308', 'FOODS_1_075', 'FOODS_3_680', 'HOBBIES_1_029', 'FOODS_3_301', 'FOODS_3_256', 'HOUSEHOLD_1_297', 'HOUSEHOLD_2_100', 'HOUSEHOLD_1_263', 'FOODS_3_325', 'HOUSEHOLD_2_260', 'HOUSEHOLD_2_072', 'FOODS_3_751', 'FOODS_3_491', 'FOODS_3_690', 'HOUSEHOLD_1_271', 'FOODS_3_353', 'HOBBIES_2_098', 'FOODS_3_252', 'HOBBIES_1_004', 'FOODS_1_185', 'FOODS_3_480', 'HOUSEHOLD_1_434', 'FOODS_2_380', 'FOODS_3_584', 'HOBBIES_1_037', 'HOUSEHOLD_2_066', 'HOBBIES_2_114', 'FOODS_3_524', 'FOODS_2_120', 'FOODS_3_431', 'FOODS_3_156', 'HOUSEHOLD_2_269', 'HOBBIES_2_133', 'HOBBIES_1_331', 'FOODS_1_153', 'FOODS_2_261', 'HOUSEHOLD_2_236', 'HOUSEHOLD_1_056', 'FOODS_2_273', 'FOODS_3_054', 'HOUSEHOLD_2_076', 'HOUSEHOLD_1_498', 'HOBBIES_1_174', 'HOBBIES_2_074', 'HOUSEHOLD_2_469', 'HOUSEHOLD_1_157', 'HOUSEHOLD_1_239', 'FOODS_3_088', 'FOODS_1_110', 'FOODS_2_364', 'FOODS_3_119', 'HOUSEHOLD_2_246', 'FOODS_1_109', 'HOUSEHOLD_2_208', 'HOUSEHOLD_2_018', 'FOODS_3_226', 'HOUSEHOLD_1_067', 'FOODS_2_284', 'FOODS_1_170', 'FOODS_3_356', 'FOODS_3_298', 'FOODS_1_062', 'FOODS_1_076', 'FOODS_3_297', 'FOODS_3_237', 'HOUSEHOLD_2_016', 'FOODS_3_456', 'FOODS_1_186', 'FOODS_2_147', 'HOBBIES_1_396', 'HOUSEHOLD_2_301', 'FOODS_3_495', 'FOODS_3_550', 'FOODS_3_681', 'HOUSEHOLD_2_387', 'FOODS_2_073', 'FOODS_1_028', 'FOODS_3_355', 'HOUSEHOLD_2_046', 'FOODS_2_183', 'HOUSEHOLD_2_502', 'HOUSEHOLD_2_047', 'FOODS_2_379', 'FOODS_3_246', 'FOODS_3_081', 'FOODS_3_131', 'HOBBIES_2_043', 'FOODS_3_315', 'HOBBIES_2_136', 'FOODS_3_076', 'FOODS_2_227', 'FOODS_3_792', 'FOODS_3_090', 'HOUSEHOLD_1_029', 'HOUSEHOLD_2_097', 'HOUSEHOLD_1_276', 'FOODS_3_258', 'HOUSEHOLD_2_326', 'FOODS_3_626', 'HOBBIES_1_323', 'FOODS_1_132', 'HOUSEHOLD_1_521', 'FOODS_2_233', 'FOODS_2_345', 'FOODS_2_270', 'FOODS_3_735', 'HOBBIES_1_008', 'HOUSEHOLD_2_056', 'HOUSEHOLD_2_390', 'FOODS_3_722', 'HOUSEHOLD_2_154', 'FOODS_3_057', 'HOBBIES_1_211', 'FOODS_3_097', 'FOODS_3_601', 'FOODS_1_139', 'HOBBIES_1_011', 'HOUSEHOLD_1_020', 'HOUSEHOLD_2_362', 'HOUSEHOLD_1_454', 'HOUSEHOLD_1_436', 'FOODS_1_171', 'HOUSEHOLD_1_223', 'FOODS_3_513', 'HOUSEHOLD_1_455', 'FOODS_3_673', 'FOODS_3_572', 'HOUSEHOLD_1_327', 'FOODS_2_034', 'HOBBIES_1_077', 'FOODS_3_007', 'FOODS_2_371', 'HOUSEHOLD_2_120', 'FOODS_2_362', 'HOUSEHOLD_2_077', 'FOODS_2_118', 'HOBBIES_2_047', 'HOUSEHOLD_2_167', 'HOUSEHOLD_1_110', 'HOUSEHOLD_1_337', 'FOODS_3_536', 'HOBBIES_1_334', 'HOBBIES_1_208', 'FOODS_3_763', 'FOODS_2_155', 'FOODS_3_303', 'HOUSEHOLD_2_485', 'FOODS_3_826', 'HOBBIES_1_332', 'HOUSEHOLD_1_511', 'FOODS_3_566', 'HOUSEHOLD_2_144', 'FOODS_2_218', 'HOUSEHOLD_1_395', 'HOUSEHOLD_1_484', 'HOUSEHOLD_2_423', 'HOBBIES_1_126', 'HOUSEHOLD_1_215', 'HOUSEHOLD_2_004', 'HOBBIES_1_385', 'FOODS_1_081', 'HOUSEHOLD_2_305', 'HOUSEHOLD_2_398', 'FOODS_3_639', 'FOODS_1_144', 'HOUSEHOLD_2_067', 'HOBBIES_1_026', 'HOUSEHOLD_2_300', 'HOUSEHOLD_2_044', 'HOBBIES_1_244', 'FOODS_3_781', 'FOODS_3_277', 'HOUSEHOLD_2_433', 'FOODS_2_184', 'HOUSEHOLD_2_349', 'FOODS_3_150', 'FOODS_3_239', 'FOODS_3_170', 'FOODS_3_696', 'FOODS_2_006', 'HOUSEHOLD_1_082', 'HOBBIES_1_384', 'HOBBIES_1_111', 'HOUSEHOLD_1_300', 'FOODS_1_138', 'HOUSEHOLD_2_032', 'HOUSEHOLD_1_166', 'HOUSEHOLD_2_263', 'FOODS_1_096', 'HOBBIES_2_131', 'FOODS_2_392', 'FOODS_3_422', 'FOODS_1_146', 'FOODS_3_631', 'HOBBIES_2_083', 'HOBBIES_2_080', 'FOODS_2_180', 'FOODS_3_416', 'FOODS_2_115', 'HOUSEHOLD_2_370', 'HOBBIES_2_001', 'HOBBIES_1_231', 'FOODS_3_469', 'HOUSEHOLD_2_023', 'FOODS_3_493', 'FOODS_3_176', 'FOODS_3_488', 'FOODS_2_354', 'HOUSEHOLD_2_022', 'FOODS_3_435', 'FOODS_3_343', 'FOODS_3_783', 'FOODS_3_242', 'FOODS_2_116', 'HOBBIES_1_345', 'FOODS_1_032', 'FOODS_2_011', 'FOODS_3_721', 'FOODS_3_055', 'FOODS_3_070', 'FOODS_3_273', 'FOODS_3_698', 'FOODS_2_143', 'HOUSEHOLD_2_180', 'FOODS_3_614', 'HOUSEHOLD_1_416', 'FOODS_3_458', 'HOUSEHOLD_1_105', 'HOBBIES_1_337', 'HOUSEHOLD_1_370', 'HOUSEHOLD_2_367', 'FOODS_3_173', 'FOODS_3_346', 'HOBBIES_1_016', 'HOBBIES_1_278', 'HOBBIES_1_296', 'HOUSEHOLD_2_475', 'FOODS_1_211', 'FOODS_3_037', 'HOBBIES_1_089', 'FOODS_3_338', 'FOODS_2_310', 'FOODS_3_766', 'FOODS_3_650', 'HOUSEHOLD_2_007', 'HOUSEHOLD_1_423', 'HOUSEHOLD_2_102', 'HOUSEHOLD_1_313', 'FOODS_2_038', 'HOUSEHOLD_1_184', 'HOUSEHOLD_1_453', 'HOUSEHOLD_1_523', 'HOBBIES_1_307', 'HOBBIES_1_157', 'HOBBIES_1_310', 'FOODS_3_796', 'HOUSEHOLD_1_294', 'FOODS_3_785', 'HOBBIES_1_175', 'FOODS_2_274', 'FOODS_2_080', 'FOODS_3_531', 'FOODS_3_014', 'FOODS_3_245', 'FOODS_1_106', 'HOUSEHOLD_1_163', 'FOODS_3_132', 'FOODS_3_729', 'HOUSEHOLD_2_369', 'FOODS_2_375', 'HOUSEHOLD_2_014', 'FOODS_1_126', 'FOODS_3_138', 'FOODS_3_187', 'FOODS_1_052', 'HOUSEHOLD_1_117', 'HOBBIES_1_148', 'HOBBIES_2_118', 'FOODS_3_599', 'HOBBIES_1_144', 'HOBBIES_1_031', 'HOUSEHOLD_2_010', 'HOBBIES_2_015', 'HOUSEHOLD_2_405', 'HOUSEHOLD_2_043', 'HOBBIES_1_230', 'HOBBIES_1_005', 'HOUSEHOLD_1_323', 'HOBBIES_1_001', 'HOUSEHOLD_1_268', 'HOUSEHOLD_2_499', 'HOUSEHOLD_2_244', 'FOODS_3_289', 'FOODS_3_038', 'FOODS_3_371', 'HOUSEHOLD_2_049', 'FOODS_2_010', 'HOBBIES_1_122', 'HOUSEHOLD_1_360', 'FOODS_1_040', 'FOODS_3_208', 'HOBBIES_1_379', 'HOBBIES_1_080', 'FOODS_3_707', 'FOODS_3_124', 'HOUSEHOLD_1_218', 'FOODS_2_108', 'HOUSEHOLD_1_237', 'FOODS_3_507', 'FOODS_2_235', 'HOUSEHOLD_1_336', 'FOODS_2_262', 'FOODS_2_113', 'FOODS_3_734', 'FOODS_2_092', 'HOUSEHOLD_2_407', 'FOODS_2_139', 'FOODS_3_279', 'HOBBIES_1_227', 'FOODS_3_811', 'HOBBIES_2_002', 'HOUSEHOLD_2_233', 'HOUSEHOLD_2_497', 'FOODS_3_354', 'FOODS_2_070', 'FOODS_3_215', 'HOUSEHOLD_1_485', 'FOODS_2_372', 'HOUSEHOLD_2_324', 'HOBBIES_2_057', 'FOODS_3_450', 'FOODS_1_206', 'FOODS_1_107', 'FOODS_3_400', 'HOBBIES_1_409', 'FOODS_3_083', 'HOUSEHOLD_2_320', 'FOODS_3_655', 'HOUSEHOLD_2_340', 'FOODS_3_392', 'HOUSEHOLD_2_511', 'HOUSEHOLD_2_190', 'FOODS_1_130', 'HOUSEHOLD_1_015', 'FOODS_2_059', 'HOUSEHOLD_2_217', 'HOUSEHOLD_2_323', 'HOUSEHOLD_1_376', 'FOODS_3_606', 'FOODS_1_010', 'HOUSEHOLD_1_460', 'HOUSEHOLD_1_085', 'HOUSEHOLD_1_120', 'FOODS_3_133', 'HOUSEHOLD_2_189', 'HOBBIES_1_056', 'FOODS_1_008', 'HOUSEHOLD_1_065', 'HOUSEHOLD_2_220', 'FOODS_1_212', 'FOODS_3_063', 'HOUSEHOLD_1_244', 'HOUSEHOLD_2_479', 'FOODS_3_020', 'FOODS_2_156', 'HOBBIES_1_275', 'FOODS_3_822', 'HOBBIES_1_139', 'FOODS_3_180', 'HOUSEHOLD_2_314', 'FOODS_2_130', 'HOBBIES_2_059', 'HOUSEHOLD_1_186', 'HOBBIES_1_299', 'HOUSEHOLD_2_057', 'FOODS_3_523', 'FOODS_1_124', 'FOODS_1_133', 'HOUSEHOLD_1_103', 'FOODS_3_152', 'HOUSEHOLD_1_388', 'HOUSEHOLD_1_185', 'HOBBIES_1_233', 'HOUSEHOLD_2_289', 'HOUSEHOLD_2_254', 'HOUSEHOLD_1_366', 'HOBBIES_1_164', 'FOODS_3_669', 'HOBBIES_1_053', 'HOUSEHOLD_1_513', 'HOBBIES_1_140', 'FOODS_3_117', 'FOODS_3_687', 'HOUSEHOLD_1_121', 'HOBBIES_1_214', 'FOODS_2_039', 'FOODS_1_017', 'HOBBIES_1_224', 'FOODS_3_031', 'FOODS_3_184', 'HOUSEHOLD_1_046', 'FOODS_1_200', 'HOBBIES_1_147', 'FOODS_3_220', 'HOUSEHOLD_1_010', 'FOODS_2_084', 'HOBBIES_1_404', 'HOBBIES_1_357', 'HOUSEHOLD_2_286', 'HOUSEHOLD_1_033', 'FOODS_3_264', 'FOODS_3_605', 'HOUSEHOLD_1_127', 'HOUSEHOLD_1_257', 'HOBBIES_2_120', 'HOUSEHOLD_1_078', 'HOUSEHOLD_1_173', 'HOUSEHOLD_2_344', 'FOODS_3_227', 'HOBBIES_1_402', 'HOBBIES_1_143', 'HOBBIES_1_091', 'HOUSEHOLD_2_188', 'FOODS_2_346', 'FOODS_3_713', 'HOBBIES_1_242', 'HOBBIES_2_081', 'FOODS_2_304', 'FOODS_3_598', 'FOODS_2_105', 'FOODS_1_023', 'FOODS_3_349', 'HOUSEHOLD_1_077', 'HOUSEHOLD_1_401', 'HOUSEHOLD_1_402', 'FOODS_3_678', 'HOBBIES_1_383', 'HOBBIES_2_145', 'HOUSEHOLD_1_507', 'FOODS_2_049', 'HOBBIES_1_085', 'HOUSEHOLD_1_497', 'HOBBIES_1_173', 'FOODS_3_476', 'HOUSEHOLD_1_358', 'FOODS_3_254', 'HOUSEHOLD_2_125', 'HOUSEHOLD_2_498', 'FOODS_3_272', 'FOODS_2_324', 'HOUSEHOLD_1_505', 'HOUSEHOLD_1_429', 'FOODS_2_195', 'HOBBIES_1_014', 'FOODS_3_159', 'FOODS_3_688', 'HOUSEHOLD_2_391', 'HOBBIES_1_106', 'FOODS_3_141', 'FOODS_3_559', 'HOUSEHOLD_2_045', 'HOUSEHOLD_2_436', 'HOUSEHOLD_1_304', 'FOODS_3_027', 'FOODS_3_121', 'HOUSEHOLD_1_334', 'HOUSEHOLD_1_380', 'HOUSEHOLD_2_374', 'HOUSEHOLD_1_490', 'HOBBIES_1_240', 'FOODS_3_130', 'HOUSEHOLD_2_012', 'FOODS_3_545', 'HOBBIES_1_051', 'HOBBIES_1_394', 'HOUSEHOLD_1_363', 'FOODS_3_503', 'HOBBIES_2_084', 'HOUSEHOLD_1_479', 'HOBBIES_1_109', 'HOBBIES_2_018', 'FOODS_3_664', 'HOUSEHOLD_2_358', 'HOUSEHOLD_1_200', 'FOODS_1_056', 'HOUSEHOLD_2_465', 'FOODS_3_305', 'FOODS_2_234', 'FOODS_3_569', 'HOUSEHOLD_1_341', 'HOUSEHOLD_2_094', 'FOODS_2_149', 'FOODS_3_794', 'HOUSEHOLD_2_002', 'HOUSEHOLD_2_093', 'HOBBIES_1_267', 'HOUSEHOLD_2_224', 'FOODS_3_658', 'HOUSEHOLD_1_053', 'FOODS_2_090', 'HOBBIES_2_113', 'HOBBIES_1_172', 'FOODS_3_171', 'FOODS_3_762', 'FOODS_3_583', 'HOBBIES_1_270', 'FOODS_3_390', 'FOODS_3_666', 'FOODS_3_328', 'FOODS_3_275', 'FOODS_3_387', 'HOUSEHOLD_1_214', 'FOODS_3_182', 'HOUSEHOLD_1_469', 'FOODS_3_366', 'FOODS_3_087', 'FOODS_3_430', 'FOODS_1_163', 'FOODS_3_543', 'HOBBIES_1_414', 'FOODS_3_074', 'FOODS_3_519', 'HOBBIES_1_083', 'FOODS_3_758', 'FOODS_3_712', 'FOODS_1_078', 'HOBBIES_1_150', 'FOODS_3_143', 'HOUSEHOLD_1_050', 'HOUSEHOLD_2_205', 'HOUSEHOLD_2_365', 'FOODS_3_798', 'FOODS_2_164', 'HOUSEHOLD_1_302', 'FOODS_3_756', 'FOODS_3_561', 'FOODS_3_363', 'HOBBIES_1_289', 'FOODS_3_016', 'FOODS_3_334', 'FOODS_2_025', 'HOBBIES_1_133', 'FOODS_1_111', 'HOUSEHOLD_1_372', 'HOBBIES_1_234', 'FOODS_1_182', 'HOUSEHOLD_1_098', 'FOODS_1_173', 'HOUSEHOLD_1_314', 'HOUSEHOLD_2_178', 'HOUSEHOLD_2_114', 'FOODS_3_494', 'HOBBIES_1_191', 'HOUSEHOLD_1_199', 'FOODS_2_385', 'HOBBIES_1_112', 'HOBBIES_1_407', 'HOUSEHOLD_2_257', 'FOODS_2_086', 'FOODS_3_165', 'FOODS_3_509', 'FOODS_2_287', 'FOODS_3_333', 'HOUSEHOLD_1_343', 'FOODS_3_813', 'HOBBIES_1_341', 'FOODS_3_695', 'HOBBIES_1_355', 'HOUSEHOLD_2_229', 'FOODS_3_505', 'HOUSEHOLD_1_135', 'HOBBIES_2_025', 'HOUSEHOLD_1_038', 'FOODS_3_478', 'FOODS_3_596', 'HOUSEHOLD_1_137', 'HOUSEHOLD_1_202', 'HOUSEHOLD_2_196', 'HOUSEHOLD_1_413', 'HOUSEHOLD_1_400', 'FOODS_1_022', 'FOODS_3_635', 'HOUSEHOLD_1_102', 'FOODS_2_114', 'HOBBIES_1_217', 'FOODS_3_820', 'HOUSEHOLD_2_466', 'FOODS_3_168', 'FOODS_1_104', 'HOBBIES_1_293', 'FOODS_3_218', 'HOBBIES_2_134', 'HOUSEHOLD_2_048', 'FOODS_3_759', 'FOODS_3_045', 'HOUSEHOLD_1_541', 'FOODS_3_585', 'FOODS_2_272', 'FOODS_3_374', 'FOODS_3_586', 'HOUSEHOLD_1_480', 'FOODS_1_065', 'FOODS_2_024', 'FOODS_2_381', 'FOODS_3_287', 'HOBBIES_1_129', 'HOUSEHOLD_2_450', 'HOUSEHOLD_2_319', 'FOODS_3_379', 'HOBBIES_1_073', 'FOODS_2_321', 'FOODS_3_232', 'FOODS_3_582', 'HOUSEHOLD_2_291', 'HOUSEHOLD_2_496', 'HOUSEHOLD_1_269', 'FOODS_2_093', 'HOBBIES_1_254', 'HOUSEHOLD_1_288', 'HOUSEHOLD_2_308', 'FOODS_2_232', 'HOBBIES_1_360', 'FOODS_3_646', 'FOODS_3_005', 'HOUSEHOLD_2_030', 'HOUSEHOLD_1_504', 'FOODS_3_222', 'FOODS_3_558', 'HOBBIES_2_038', 'HOBBIES_2_121', 'HOUSEHOLD_2_477', 'FOODS_3_013', 'HOBBIES_1_371', 'FOODS_3_068', 'FOODS_1_180', 'FOODS_2_208', 'FOODS_2_199', 'HOUSEHOLD_1_146', 'FOODS_3_777', 'FOODS_1_086', 'HOBBIES_1_079', 'HOUSEHOLD_2_231', 'FOODS_3_340', 'HOUSEHOLD_1_143', 'HOUSEHOLD_2_290', 'HOUSEHOLD_1_203', 'HOUSEHOLD_2_103', 'FOODS_2_373', 'FOODS_1_158', 'FOODS_3_776', 'HOBBIES_1_335', 'HOUSEHOLD_1_345', 'FOODS_3_795', 'FOODS_3_300', 'FOODS_3_394', 'HOUSEHOLD_2_464', 'HOUSEHOLD_2_039', 'FOODS_3_580', 'FOODS_1_092', 'HOBBIES_1_320', 'FOODS_3_036', 'HOBBIES_1_130', 'HOUSEHOLD_1_419', 'FOODS_1_207', 'FOODS_3_268', 'FOODS_1_105', 'FOODS_3_413', 'HOUSEHOLD_2_281', 'FOODS_3_656', 'FOODS_2_140', 'HOUSEHOLD_2_312', 'FOODS_2_168', 'FOODS_1_152', 'FOODS_2_019', 'HOUSEHOLD_2_456', 'FOODS_3_538', 'HOBBIES_1_168', 'FOODS_2_223', 'FOODS_3_200', 'HOBBIES_2_006', 'FOODS_2_135', 'HOUSEHOLD_1_367', 'FOODS_3_487', 'HOUSEHOLD_2_183', 'HOBBIES_2_107', 'HOBBIES_1_252', 'HOBBIES_1_381', 'HOUSEHOLD_2_009', 'HOBBIES_1_048', 'HOUSEHOLD_2_089', 'HOUSEHOLD_1_022', 'FOODS_3_787', 'HOUSEHOLD_2_345', 'FOODS_3_002', 'HOBBIES_2_064', 'HOUSEHOLD_1_037', 'HOBBIES_1_075', 'FOODS_2_350', 'FOODS_3_203', 'FOODS_3_827', 'FOODS_3_017', 'FOODS_3_443', 'FOODS_3_177', 'FOODS_3_754', 'HOUSEHOLD_1_439', 'HOBBIES_1_198', 'HOUSEHOLD_2_283', 'HOBBIES_1_036', 'HOBBIES_1_116', 'FOODS_3_352', 'FOODS_2_150', 'HOBBIES_1_160', 'HOUSEHOLD_2_396', 'FOODS_1_177', 'FOODS_3_116', 'HOBBIES_1_399', 'HOUSEHOLD_1_255', 'HOUSEHOLD_2_384', 'FOODS_3_457', 'HOBBIES_1_003', 'HOUSEHOLD_1_424', 'FOODS_3_115', 'HOUSEHOLD_1_224', 'HOUSEHOLD_1_307', 'HOUSEHOLD_1_435', 'HOUSEHOLD_2_395', 'HOUSEHOLD_1_540', 'FOODS_3_511', 'HOUSEHOLD_2_071', 'FOODS_3_573', 'HOBBIES_1_271', 'HOUSEHOLD_1_289', 'HOUSEHOLD_2_489', 'HOUSEHOLD_2_329', 'FOODS_3_201', 'HOBBIES_1_421', 'FOODS_1_213', 'FOODS_3_077', 'FOODS_3_748', 'FOODS_2_216', 'HOUSEHOLD_1_147', 'HOUSEHOLD_1_459', 'HOBBIES_2_103', 'FOODS_3_725', 'HOBBIES_1_329', 'FOODS_3_323', 'HOUSEHOLD_2_402', 'HOUSEHOLD_2_356', 'HOBBIES_2_142', 'FOODS_3_050', 'FOODS_1_195', 'FOODS_3_044', 'HOUSEHOLD_1_162', 'HOUSEHOLD_2_303', 'HOUSEHOLD_2_495', 'HOUSEHOLD_1_310', 'FOODS_2_278', 'HOBBIES_1_035', 'FOODS_2_051', 'FOODS_3_663', 'FOODS_3_790', 'FOODS_1_093', 'HOUSEHOLD_2_347', 'FOODS_3_594', 'FOODS_2_398', 'FOODS_3_244', 'HOUSEHOLD_1_019', 'HOUSEHOLD_2_159', 'FOODS_2_151', 'HOUSEHOLD_1_189', 'HOUSEHOLD_1_212', 'FOODS_3_497', 'FOODS_2_359', 'HOBBIES_2_115', 'HOUSEHOLD_2_082', 'HOUSEHOLD_1_002', 'FOODS_1_155', 'FOODS_3_190', 'HOUSEHOLD_2_059', 'HOBBIES_2_069', 'FOODS_2_349', 'FOODS_2_005', 'HOUSEHOLD_1_296', 'FOODS_3_441', 'FOODS_2_017', 'HOBBIES_1_272', 'HOBBIES_1_076', 'HOUSEHOLD_2_083', 'HOBBIES_1_142', 'FOODS_3_166', 'FOODS_3_677', 'HOUSEHOLD_2_418', 'FOODS_3_716', 'FOODS_2_185', 'HOUSEHOLD_2_029', 'HOUSEHOLD_1_087', 'FOODS_1_112', 'HOUSEHOLD_2_017', 'HOUSEHOLD_2_112', 'HOUSEHOLD_1_528', 'FOODS_3_423', 'FOODS_3_093', 'FOODS_3_731', 'FOODS_1_003', 'FOODS_3_307', 'FOODS_3_517', 'FOODS_2_285', 'FOODS_1_102', 'FOODS_2_142', 'FOODS_3_381', 'HOBBIES_1_202', 'FOODS_2_201', 'HOBBIES_2_020', 'FOODS_2_302', 'HOUSEHOLD_2_353', 'HOUSEHOLD_2_461', 'HOUSEHOLD_2_430', 'HOBBIES_1_353', 'HOUSEHOLD_1_191', 'FOODS_3_161', 'FOODS_3_025', 'FOODS_1_196', 'FOODS_3_209', 'FOODS_1_172', 'FOODS_2_046', 'FOODS_3_139', 'FOODS_3_142', 'HOUSEHOLD_1_049', 'FOODS_2_309', 'HOBBIES_1_019', 'HOBBIES_1_170', 'HOBBIES_2_149', 'FOODS_3_041', 'HOUSEHOLD_2_508', 'FOODS_3_668', 'HOBBIES_2_024', 'FOODS_3_404', 'HOBBIES_1_069', 'HOUSEHOLD_2_447', 'HOUSEHOLD_2_421', 'FOODS_3_378', 'HOBBIES_1_303', 'FOODS_3_162', 'HOUSEHOLD_2_040', 'FOODS_3_211', 'HOUSEHOLD_2_275', 'HOUSEHOLD_2_148', 'HOUSEHOLD_2_482', 'HOUSEHOLD_2_512', 'HOBBIES_2_004', 'HOUSEHOLD_1_068', 'FOODS_3_793', 'FOODS_1_060', 'HOBBIES_1_093', 'FOODS_3_760', 'HOUSEHOLD_1_096', 'HOUSEHOLD_1_420', 'HOBBIES_2_031', 'HOBBIES_2_146', 'FOODS_3_595', 'HOBBIES_1_220', 'FOODS_3_403', 'FOODS_3_022', 'HOBBIES_2_102', 'FOODS_3_265', 'FOODS_2_288', 'FOODS_3_647', 'HOUSEHOLD_1_074', 'HOUSEHOLD_1_492', 'HOUSEHOLD_1_155', 'HOUSEHOLD_1_396', 'FOODS_1_002', 'FOODS_1_187', 'HOUSEHOLD_1_206', 'HOUSEHOLD_1_278', 'HOUSEHOLD_2_079', 'HOUSEHOLD_2_234', 'FOODS_3_154', 'HOBBIES_1_358', 'HOUSEHOLD_1_499', 'FOODS_3_317', 'HOUSEHOLD_1_260', 'HOUSEHOLD_2_296', 'FOODS_3_535', 'FOODS_3_292', 'FOODS_3_079', 'FOODS_2_126', 'HOUSEHOLD_1_063', 'HOUSEHOLD_2_164', 'FOODS_3_711', 'FOODS_3_542', 'HOUSEHOLD_1_527', 'FOODS_2_018', 'HOUSEHOLD_1_190', 'HOUSEHOLD_2_470', 'FOODS_2_255', 'FOODS_3_812', 'FOODS_2_339', 'FOODS_3_474', 'HOUSEHOLD_1_180', 'FOODS_3_238', 'HOUSEHOLD_1_532', 'HOUSEHOLD_2_302', 'HOUSEHOLD_1_001', 'FOODS_3_153', 'FOODS_1_208', 'HOUSEHOLD_1_503', 'HOUSEHOLD_2_481', 'HOBBIES_2_072', 'HOBBIES_2_070', 'FOODS_1_074', 'FOODS_3_757', 'HOBBIES_1_153', 'HOBBIES_1_350', 'HOUSEHOLD_1_340', 'FOODS_3_455', 'FOODS_3_809', 'FOODS_2_162', 'FOODS_3_316', 'HOUSEHOLD_2_386', 'HOUSEHOLD_2_455', 'FOODS_3_120', 'FOODS_3_134', 'HOBBIES_1_047', 'FOODS_3_645', 'FOODS_3_010', 'HOBBIES_2_017', 'FOODS_3_114', 'FOODS_1_042', 'HOBBIES_1_058', 'FOODS_2_127', 'FOODS_2_196', 'HOBBIES_1_044', 'HOBBIES_1_401', 'FOODS_3_557', 'HOUSEHOLD_1_431', 'FOODS_1_184', 'FOODS_2_241', 'FOODS_3_236', 'FOODS_3_579', 'FOODS_3_532', 'FOODS_2_204', 'FOODS_3_591', 'HOUSEHOLD_1_108', 'HOBBIES_1_061', 'FOODS_2_203', 'HOUSEHOLD_2_460', 'HOUSEHOLD_2_073', 'HOUSEHOLD_1_399', 'HOBBIES_2_049', 'FOODS_1_083', 'HOBBIES_1_159', 'HOUSEHOLD_2_075', 'FOODS_2_312', 'FOODS_2_361', 'HOUSEHOLD_1_418', 'HOBBIES_2_123', 'FOODS_3_600', 'HOUSEHOLD_2_151', 'FOODS_1_203', 'HOUSEHOLD_2_170', 'FOODS_2_190', 'FOODS_2_095', 'HOUSEHOLD_1_025', 'FOODS_3_421', 'FOODS_2_314', 'FOODS_3_797', 'HOUSEHOLD_2_143', 'FOODS_3_816', 'FOODS_3_452', 'HOBBIES_1_207', 'HOUSEHOLD_1_411', 'FOODS_1_217', 'FOODS_2_175', 'FOODS_3_496', 'FOODS_2_391', 'FOODS_3_043', 'HOUSEHOLD_2_232', 'FOODS_3_047', 'HOUSEHOLD_2_218', 'FOODS_2_335', 'FOODS_2_377', 'HOBBIES_2_122', 'HOUSEHOLD_2_197', 'FOODS_1_218', 'HOBBIES_1_333', 'HOUSEHOLD_2_337', 'FOODS_2_041', 'FOODS_3_613', 'HOUSEHOLD_1_040', 'HOUSEHOLD_2_253', 'FOODS_2_268', 'HOUSEHOLD_1_272', 'HOBBIES_1_167', 'FOODS_3_683', 'FOODS_3_438', 'HOUSEHOLD_1_483', 'HOBBIES_2_125', 'HOUSEHOLD_2_445', 'HOUSEHOLD_2_028', 'HOBBIES_1_376', 'HOBBIES_1_378', 'HOUSEHOLD_1_003', 'HOUSEHOLD_2_113', 'HOBBIES_1_348', 'HOUSEHOLD_1_196', 'FOODS_2_062', 'HOUSEHOLD_1_099', 'HOUSEHOLD_2_373', 'FOODS_3_590', 'HOUSEHOLD_1_406', 'FOODS_1_199', 'HOBBIES_2_088', 'FOODS_3_342', 'HOUSEHOLD_1_409', 'FOODS_2_338', 'FOODS_2_296', 'FOODS_3_714', 'HOUSEHOLD_1_315', 'FOODS_3_808', 'FOODS_2_245', 'FOODS_1_131', 'HOBBIES_1_212', 'FOODS_3_358', 'HOUSEHOLD_1_335', 'HOUSEHOLD_2_255', 'HOBBIES_1_163', 'HOUSEHOLD_1_408', 'HOUSEHOLD_2_413', 'HOUSEHOLD_2_514', 'FOODS_3_632', 'FOODS_2_007', 'HOUSEHOLD_2_176', 'HOUSEHOLD_1_024', 'HOUSEHOLD_1_043', 'HOUSEHOLD_1_107', 'HOUSEHOLD_1_275', 'HOBBIES_1_285', 'HOUSEHOLD_2_001', 'FOODS_3_467', 'FOODS_3_449', 'HOUSEHOLD_2_065', 'HOBBIES_1_294', 'FOODS_2_174', 'HOBBIES_1_197', 'HOUSEHOLD_1_427', 'FOODS_2_053', 'HOBBIES_2_147', 'HOUSEHOLD_2_274', 'FOODS_3_644', 'FOODS_2_128', 'HOBBIES_2_143', 'FOODS_3_637', 'HOBBIES_1_219', 'FOODS_3_604', 'HOUSEHOLD_2_351', 'HOUSEHOLD_2_435', 'FOODS_3_512', 'FOODS_3_701', 'HOUSEHOLD_1_058', 'HOUSEHOLD_1_270', 'FOODS_1_147', 'HOUSEHOLD_1_265', 'HOBBIES_1_400', 'FOODS_2_213', 'HOBBIES_1_156', 'HOBBIES_1_209', 'FOODS_3_402', 'FOODS_2_327', 'HOBBIES_2_021', 'FOODS_3_347', 'FOODS_3_219', 'FOODS_3_774', 'FOODS_3_577', 'FOODS_3_397', 'FOODS_3_780', 'HOUSEHOLD_2_483', 'FOODS_1_179', 'FOODS_3_376', 'FOODS_3_123', 'FOODS_3_541', 'HOUSEHOLD_2_063', 'FOODS_3_414', 'HOBBIES_1_424', 'FOODS_1_166', 'FOODS_3_217', 'FOODS_2_389', 'HOBBIES_2_008', 'HOUSEHOLD_1_004', 'FOODS_3_388', 'HOBBIES_2_093', 'FOODS_3_109', 'HOBBIES_1_223', 'FOODS_2_153', 'FOODS_3_633', 'FOODS_1_079', 'FOODS_3_406', 'FOODS_3_324', 'FOODS_2_259', 'HOUSEHOLD_2_198', 'HOUSEHOLD_2_070', 'FOODS_2_374', 'HOUSEHOLD_1_018', 'FOODS_2_083', 'HOBBIES_1_395', 'FOODS_1_127', 'FOODS_3_667', 'FOODS_1_214', 'HOUSEHOLD_1_213', 'HOBBIES_1_054', 'HOUSEHOLD_1_473', 'HOUSEHOLD_2_058', 'FOODS_2_384', 'HOUSEHOLD_2_468', 'HOUSEHOLD_1_441', 'HOUSEHOLD_1_211', 'HOBBIES_1_259', 'FOODS_3_004', 'HOUSEHOLD_2_516', 'HOBBIES_1_006', 'HOUSEHOLD_2_279', 'FOODS_3_351', 'HOBBIES_2_130', 'FOODS_3_462', 'FOODS_3_726', 'HOUSEHOLD_1_017', 'HOUSEHOLD_2_086', 'HOUSEHOLD_2_149', 'HOBBIES_1_161', 'FOODS_3_021', 'FOODS_2_396', 'FOODS_3_617', 'HOBBIES_1_279', 'HOBBIES_1_287', 'HOUSEHOLD_1_177', 'FOODS_3_332', 'HOUSEHOLD_2_379', 'HOUSEHOLD_1_231', 'HOUSEHOLD_1_167', 'HOUSEHOLD_1_069', 'FOODS_3_518', 'HOUSEHOLD_1_342', 'HOUSEHOLD_2_108', 'HOBBIES_1_095', 'HOBBIES_2_099', 'HOUSEHOLD_2_105', 'FOODS_2_123', 'HOUSEHOLD_2_403', 'FOODS_2_387', 'FOODS_1_048', 'HOBBIES_1_256', 'HOUSEHOLD_1_101', 'FOODS_3_685', 'FOODS_3_137', 'HOUSEHOLD_2_392', 'HOUSEHOLD_1_519', 'FOODS_2_065', 'FOODS_3_718', 'FOODS_2_063', 'FOODS_3_771', 'HOUSEHOLD_2_467', 'FOODS_2_252', 'HOUSEHOLD_2_357', 'FOODS_2_215', 'HOUSEHOLD_2_207', 'FOODS_3_654', 'HOUSEHOLD_2_389', 'HOUSEHOLD_1_219', 'FOODS_3_125', 'FOODS_3_761', 'FOODS_1_183', 'FOODS_2_077', 'FOODS_2_269', 'HOUSEHOLD_1_312', 'FOODS_3_807', 'HOUSEHOLD_1_114', 'FOODS_3_528', 'HOBBIES_1_078', 'FOODS_3_399', 'HOUSEHOLD_2_272', 'HOUSEHOLD_2_084', 'FOODS_3_230', 'HOUSEHOLD_2_221', 'HOUSEHOLD_2_331', 'HOUSEHOLD_2_026', 'FOODS_1_054', 'HOUSEHOLD_2_513', 'HOUSEHOLD_2_139', 'FOODS_3_703', 'HOUSEHOLD_1_171', 'HOUSEHOLD_1_417', 'HOUSEHOLD_1_256', 'HOUSEHOLD_1_154', 'FOODS_2_052', 'HOBBIES_1_063', 'HOBBIES_1_178', 'FOODS_2_329', 'FOODS_3_804', 'HOUSEHOLD_2_372', 'FOODS_3_615', 'HOBBIES_1_356', 'HOUSEHOLD_1_207', 'HOBBIES_2_029', 'HOUSEHOLD_1_407', 'HOUSEHOLD_1_526', 'FOODS_2_226', 'HOBBIES_1_025', 'HOBBIES_1_351', 'HOUSEHOLD_1_465', 'FOODS_2_219', 'FOODS_3_824', 'HOUSEHOLD_2_304', 'FOODS_3_135', 'FOODS_3_432', 'FOODS_3_255', 'FOODS_3_621', 'HOBBIES_1_238', 'HOBBIES_2_056', 'HOBBIES_1_276', 'FOODS_3_553', 'HOUSEHOLD_1_510', 'HOUSEHOLD_1_529', 'HOUSEHOLD_2_050', 'HOUSEHOLD_1_422', 'FOODS_2_240', 'HOUSEHOLD_2_219', 'HOUSEHOLD_2_282', 'HOUSEHOLD_1_183', 'HOBBIES_1_098', 'HOUSEHOLD_2_261', 'FOODS_3_525', 'HOBBIES_1_366', 'HOBBIES_1_125', 'FOODS_3_189', 'HOBBIES_1_062', 'FOODS_3_693', 'HOUSEHOLD_2_203', 'HOBBIES_1_403', 'FOODS_3_616', 'FOODS_2_074', 'HOBBIES_1_057', 'FOODS_1_037', 'FOODS_3_454', 'FOODS_1_168', 'FOODS_2_100', 'FOODS_2_136', 'FOODS_3_529', 'FOODS_3_764', 'FOODS_3_770', 'FOODS_2_067', 'FOODS_2_013', 'HOUSEHOLD_1_195', 'FOODS_2_179', 'HOUSEHOLD_2_140', 'HOBBIES_1_342', 'HOUSEHOLD_2_085', 'FOODS_3_420', 'HOBBIES_1_216', 'HOUSEHOLD_1_357', 'HOUSEHOLD_1_451', 'HOUSEHOLD_1_467', 'HOUSEHOLD_2_098', 'HOBBIES_1_316', 'HOUSEHOLD_2_213', 'HOUSEHOLD_1_243', 'FOODS_3_106', 'FOODS_3_035', 'FOODS_2_101', 'HOBBIES_1_273', 'FOODS_3_732', 'HOBBIES_1_033', 'HOBBIES_1_391', 'FOODS_3_151', 'HOUSEHOLD_1_193', 'HOUSEHOLD_1_379', 'HOBBIES_2_044', 'HOUSEHOLD_1_462', 'FOODS_3_369', 'HOBBIES_2_013', 'FOODS_2_122', 'HOUSEHOLD_2_037', 'HOUSEHOLD_2_130', 'FOODS_3_023', 'HOBBIES_1_261', 'HOUSEHOLD_1_457', 'HOUSEHOLD_1_333', 'HOUSEHOLD_2_287', 'HOUSEHOLD_1_066', 'HOUSEHOLD_2_211', 'FOODS_3_444', 'FOODS_1_103', 'HOBBIES_1_298', 'FOODS_2_265', 'HOUSEHOLD_2_110', 'FOODS_3_546', 'FOODS_2_264', 'FOODS_3_419', 'HOUSEHOLD_2_096', 'HOUSEHOLD_2_101', 'FOODS_2_294', 'HOUSEHOLD_2_277', 'FOODS_3_228', 'HOBBIES_2_129', 'HOBBIES_2_106', 'FOODS_2_230', 'HOUSEHOLD_1_115', 'FOODS_1_160', 'FOODS_3_202', 'FOODS_2_293', 'HOUSEHOLD_2_334', 'HOUSEHOLD_2_322', 'HOUSEHOLD_1_079', 'FOODS_2_242', 'HOUSEHOLD_2_259', 'HOUSEHOLD_2_216', 'FOODS_3_122', 'FOODS_3_282', 'FOODS_2_117', 'HOBBIES_1_002', 'HOUSEHOLD_1_104', 'HOBBIES_2_005', 'HOBBIES_1_410', 'HOBBIES_2_022', 'HOUSEHOLD_1_287', 'HOBBIES_1_132', 'HOUSEHOLD_1_233', 'FOODS_2_191', 'HOUSEHOLD_1_253', 'HOUSEHOLD_2_116', 'FOODS_3_278', 'HOBBIES_1_368', 'HOBBIES_2_067', 'HOUSEHOLD_1_320', 'HOUSEHOLD_2_472', 'FOODS_2_145', 'HOBBIES_2_058', 'FOODS_3_521', 'HOUSEHOLD_1_283', 'HOUSEHOLD_1_538', 'FOODS_3_064', 'HOUSEHOLD_2_126', 'HOUSEHOLD_2_280', 'FOODS_3_738', 'HOUSEHOLD_1_383', 'HOUSEHOLD_1_209', 'FOODS_3_472', 'HOUSEHOLD_2_474', 'HOBBIES_1_086', 'FOODS_1_027', 'HOUSEHOLD_1_132'}",
     "output_type": "error",
     "traceback": [
      "\u001b[0;31m---------------------------------------------------------------------------\u001b[0m",
      "\u001b[0;31mValueError\u001b[0m                                Traceback (most recent call last)",
      "\u001b[0;32m<ipython-input-25-f1f87a5b1ffe>\u001b[0m in \u001b[0;36m<module>\u001b[0;34m\u001b[0m\n\u001b[1;32m      1\u001b[0m \u001b[0;32mfrom\u001b[0m \u001b[0mtsfresh\u001b[0m \u001b[0;32mimport\u001b[0m \u001b[0mextract_relevant_features\u001b[0m\u001b[0;34m\u001b[0m\u001b[0m\n\u001b[1;32m      2\u001b[0m \u001b[0;34m\u001b[0m\u001b[0m\n\u001b[0;32m----> 3\u001b[0;31m \u001b[0mfeatures_filtered_direct\u001b[0m \u001b[0;34m=\u001b[0m \u001b[0mextract_relevant_features\u001b[0m\u001b[0;34m(\u001b[0m\u001b[0mweek_df\u001b[0m\u001b[0;34m,\u001b[0m \u001b[0my\u001b[0m\u001b[0;34m,\u001b[0m \u001b[0mcolumn_id\u001b[0m\u001b[0;34m=\u001b[0m\u001b[0;34m'item_id'\u001b[0m\u001b[0;34m,\u001b[0m \u001b[0mcolumn_sort\u001b[0m\u001b[0;34m=\u001b[0m\u001b[0;34m'wm_yr_wk'\u001b[0m\u001b[0;34m)\u001b[0m\u001b[0;34m\u001b[0m\u001b[0m\n\u001b[0m",
      "\u001b[0;32m/opt/conda/lib/python3.6/site-packages/tsfresh/convenience/relevant_extraction.py\u001b[0m in \u001b[0;36mextract_relevant_features\u001b[0;34m(timeseries_container, y, X, default_fc_parameters, kind_to_fc_parameters, column_id, column_sort, column_kind, column_value, show_warnings, disable_progressbar, profile, profiling_filename, profiling_sorting, test_for_binary_target_binary_feature, test_for_binary_target_real_feature, test_for_real_target_binary_feature, test_for_real_target_real_feature, fdr_level, hypotheses_independent, n_jobs, distributor, chunksize, ml_task)\u001b[0m\n\u001b[1;32m    152\u001b[0m         \u001b[0;32mif\u001b[0m \u001b[0mlen\u001b[0m\u001b[0;34m(\u001b[0m\u001b[0mids_container\u001b[0m \u001b[0;34m-\u001b[0m \u001b[0mids_y\u001b[0m\u001b[0;34m)\u001b[0m \u001b[0;34m>\u001b[0m \u001b[0;36m0\u001b[0m\u001b[0;34m:\u001b[0m\u001b[0;34m\u001b[0m\u001b[0m\n\u001b[1;32m    153\u001b[0m             raise ValueError(\"The following ids are in the time series container but are missing in y: \"\n\u001b[0;32m--> 154\u001b[0;31m                              \"{}\".format(ids_container - ids_y))\n\u001b[0m\u001b[1;32m    155\u001b[0m         \u001b[0;32mif\u001b[0m \u001b[0mlen\u001b[0m\u001b[0;34m(\u001b[0m\u001b[0mids_y\u001b[0m \u001b[0;34m-\u001b[0m \u001b[0mids_container\u001b[0m\u001b[0;34m)\u001b[0m \u001b[0;34m>\u001b[0m \u001b[0;36m0\u001b[0m\u001b[0;34m:\u001b[0m\u001b[0;34m\u001b[0m\u001b[0m\n\u001b[1;32m    156\u001b[0m             raise ValueError(\"The following ids are in y but are missing inside the time series container: \"\n",
      "\u001b[0;31mValueError\u001b[0m: The following ids are in the time series container but are missing in y: {'HOBBIES_1_183', 'HOUSEHOLD_1_274', 'HOUSEHOLD_2_117', 'HOUSEHOLD_2_129', 'FOODS_3_149', 'HOUSEHOLD_1_216', 'HOUSEHOLD_1_321', 'HOUSEHOLD_2_155', 'FOODS_3_396', 'HOUSEHOLD_2_432', 'FOODS_3_775', 'HOUSEHOLD_2_410', 'FOODS_2_194', 'FOODS_3_039', 'HOBBIES_2_112', 'HOUSEHOLD_2_179', 'HOBBIES_1_070', 'FOODS_2_089', 'HOUSEHOLD_1_048', 'HOUSEHOLD_1_328', 'HOBBIES_1_284', 'FOODS_1_043', 'FOODS_2_173', 'FOODS_2_341', 'HOBBIES_1_180', 'HOBBIES_1_099', 'HOBBIES_1_110', 'HOBBIES_1_206', 'FOODS_1_121', 'FOODS_3_436', 'HOBBIES_1_229', 'FOODS_3_033', 'FOODS_3_418', 'HOUSEHOLD_1_086', 'FOODS_2_129', 'FOODS_3_567', 'FOODS_1_210', 'FOODS_3_710', 'HOBBIES_1_308', 'FOODS_3_749', 'HOUSEHOLD_1_447', 'HOUSEHOLD_2_478', 'FOODS_2_367', 'HOBBIES_1_283', 'HOUSEHOLD_1_331', 'HOUSEHOLD_1_474', 'HOUSEHOLD_1_534', 'HOUSEHOLD_1_153', 'FOODS_3_231', 'FOODS_1_031', 'FOODS_3_473', 'HOUSEHOLD_1_279', 'HOUSEHOLD_1_365', 'HOUSEHOLD_2_411', 'HOUSEHOLD_2_288', 'HOUSEHOLD_2_425', 'FOODS_1_061', 'HOBBIES_2_009', 'HOUSEHOLD_2_187', 'HOBBIES_2_011', 'HOUSEHOLD_2_491', 'FOODS_1_128', 'FOODS_2_132', 'HOBBIES_2_052', 'FOODS_2_271', 'HOUSEHOLD_1_364', 'FOODS_2_281', 'HOBBIES_1_257', 'FOODS_1_190', 'HOBBIES_1_120', 'HOUSEHOLD_1_245', 'HOUSEHOLD_1_005', 'FOODS_2_390', 'HOBBIES_1_138', 'HOUSEHOLD_1_235', 'FOODS_2_121', 'HOBBIES_2_039', 'HOUSEHOLD_1_259', 'HOUSEHOLD_1_238', 'FOODS_1_114', 'HOUSEHOLD_1_006', 'HOUSEHOLD_1_125', 'HOBBIES_1_248', 'FOODS_1_025', 'FOODS_3_643', 'HOUSEHOLD_2_458', 'HOBBIES_1_149', 'HOBBIES_2_116', 'FOODS_3_446', 'FOODS_3_773', 'FOODS_1_120', 'FOODS_2_316', 'FOODS_3_642', 'HOBBIES_1_137', 'HOUSEHOLD_1_090', 'FOODS_3_099', 'FOODS_3_692', 'FOODS_3_620', 'HOUSEHOLD_1_354', 'HOUSEHOLD_1_130', 'FOODS_3_073', 'FOODS_3_445', 'HOUSEHOLD_1_226', 'FOODS_3_042', 'HOUSEHOLD_1_495', 'HOBBIES_1_049', 'HOUSEHOLD_1_170', 'HOBBIES_1_423', 'FOODS_3_581', 'HOBBIES_1_297', 'HOUSEHOLD_1_351', 'FOODS_3_502', 'HOUSEHOLD_1_032', 'FOODS_1_194', 'HOBBIES_1_314', 'HOBBIES_1_263', 'FOODS_3_719', 'HOUSEHOLD_1_198', 'HOUSEHOLD_1_432', 'FOODS_3_576', 'HOUSEHOLD_2_292', 'FOODS_3_058', 'FOODS_3_428', 'HOUSEHOLD_1_394', 'FOODS_3_730', 'HOUSEHOLD_2_195', 'HOUSEHOLD_1_109', 'FOODS_3_578', 'FOODS_3_501', 'FOODS_3_800', 'HOBBIES_1_146', 'HOUSEHOLD_1_247', 'FOODS_2_202', 'HOUSEHOLD_2_437', 'HOUSEHOLD_1_285', 'FOODS_3_006', 'FOODS_3_293', 'HOUSEHOLD_2_184', 'HOBBIES_1_128', 'FOODS_3_059', 'FOODS_2_158', 'HOBBIES_1_218', 'FOODS_1_058', 'FOODS_2_225', 'FOODS_3_799', 'FOODS_1_097', 'FOODS_2_388', 'HOBBIES_2_068', 'HOBBIES_2_117', 'FOODS_3_167', 'FOODS_3_750', 'HOBBIES_2_148', 'FOODS_3_118', 'FOODS_3_274', 'FOODS_3_147', 'HOBBIES_1_136', 'FOODS_3_361', 'HOUSEHOLD_1_311', 'FOODS_3_069', 'FOODS_2_030', 'HOUSEHOLD_2_250', 'HOUSEHOLD_2_006', 'HOBBIES_2_041', 'FOODS_2_378', 'HOBBIES_1_024', 'FOODS_2_275', 'FOODS_3_468', 'FOODS_3_570', 'HOBBIES_1_127', 'FOODS_3_627', 'HOUSEHOLD_2_368', 'FOODS_3_540', 'FOODS_3_779', 'HOBBIES_1_300', 'HOUSEHOLD_2_309', 'FOODS_3_304', 'HOBBIES_1_249', 'FOODS_3_179', 'HOUSEHOLD_2_223', 'HOUSEHOLD_2_061', 'HOUSEHOLD_1_421', 'FOODS_1_053', 'HOBBIES_1_420', 'FOODS_3_434', 'HOUSEHOLD_1_458', 'HOBBIES_2_127', 'FOODS_3_048', 'HOBBIES_1_117', 'HOUSEHOLD_2_240', 'HOBBIES_1_375', 'FOODS_1_049', 'FOODS_3_195', 'HOUSEHOLD_2_393', 'HOBBIES_1_113', 'HOBBIES_1_121', 'HOBBIES_1_045', 'HOBBIES_2_139', 'FOODS_2_134', 'FOODS_2_332', 'FOODS_3_547', 'FOODS_3_331', 'FOODS_3_660', 'FOODS_3_066', 'FOODS_3_609', 'FOODS_1_117', 'FOODS_2_094', 'HOUSEHOLD_1_339', 'HOBBIES_2_089', 'HOUSEHOLD_1_070', 'HOUSEHOLD_1_126', 'FOODS_3_539', 'FOODS_3_433', 'FOODS_3_671', 'FOODS_1_157', 'FOODS_2_131', 'FOODS_2_253', 'HOBBIES_1_213', 'FOODS_1_090', 'HOUSEHOLD_2_166', 'FOODS_3_522', 'FOODS_2_096', 'FOODS_2_258', 'FOODS_3_172', 'FOODS_1_047', 'HOUSEHOLD_2_034', 'HOUSEHOLD_1_188', 'HOUSEHOLD_1_482', 'HOUSEHOLD_2_426', 'HOBBIES_1_309', 'FOODS_1_077', 'HOBBIES_2_141', 'HOUSEHOLD_1_515', 'FOODS_3_235', 'HOBBIES_1_119', 'HOUSEHOLD_1_026', 'FOODS_3_815', 'FOODS_3_527', 'HOBBIES_1_266', 'FOODS_3_672', 'HOUSEHOLD_1_144', 'HOUSEHOLD_1_446', 'FOODS_3_136', 'HOUSEHOLD_1_518', 'HOUSEHOLD_2_192', 'HOUSEHOLD_2_193', 'FOODS_3_225', 'FOODS_3_548', 'FOODS_2_222', 'HOUSEHOLD_1_506', 'FOODS_3_624', 'FOODS_3_011', 'FOODS_3_008', 'HOBBIES_1_084', 'HOUSEHOLD_2_104', 'HOBBIES_1_306', 'FOODS_3_684', 'HOBBIES_1_412', 'HOUSEHOLD_1_488', 'FOODS_2_307', 'HOUSEHOLD_1_471', 'FOODS_2_071', 'HOUSEHOLD_1_028', 'FOODS_2_340', 'FOODS_3_386', 'FOODS_3_706', 'FOODS_3_786', 'HOUSEHOLD_2_330', 'HOUSEHOLD_2_415', 'FOODS_3_424', 'HOBBIES_1_398', 'FOODS_3_380', 'FOODS_3_310', 'HOUSEHOLD_2_107', 'FOODS_1_149', 'FOODS_1_154', 'HOUSEHOLD_1_318', 'HOBBIES_1_328', 'FOODS_3_778', 'FOODS_2_342', 'HOBBIES_1_010', 'HOUSEHOLD_2_251', 'HOBBIES_1_304', 'HOUSEHOLD_2_428', 'FOODS_3_440', 'FOODS_2_069', 'FOODS_3_556', 'FOODS_3_144', 'FOODS_1_012', 'HOUSEHOLD_1_426', 'HOUSEHOLD_2_416', 'HOBBIES_1_338', 'HOBBIES_1_087', 'HOBBIES_1_187', 'HOUSEHOLD_2_335', 'HOUSEHOLD_2_160', 'HOBBIES_2_095', 'HOUSEHOLD_2_339', 'HOUSEHOLD_2_310', 'HOUSEHOLD_1_156', 'FOODS_2_393', 'HOBBIES_1_311', 'HOBBIES_1_188', 'HOBBIES_2_065', 'FOODS_1_145', 'HOUSEHOLD_1_129', 'FOODS_3_306', 'FOODS_3_727', 'HOBBIES_1_154', 'HOUSEHOLD_1_530', 'FOODS_3_653', 'HOBBIES_1_193', 'FOODS_2_257', 'HOBBIES_1_141', 'HOBBIES_1_162', 'HOBBIES_1_301', 'HOUSEHOLD_1_437', 'HOUSEHOLD_2_376', 'HOUSEHOLD_2_471', 'FOODS_3_634', 'FOODS_3_691', 'FOODS_3_336', 'HOBBIES_1_245', 'FOODS_2_311', 'HOBBIES_2_023', 'HOBBIES_1_034', 'HOBBIES_2_128', 'HOBBIES_2_079', 'FOODS_3_368', 'FOODS_1_045', 'HOUSEHOLD_1_264', 'HOUSEHOLD_2_361', 'FOODS_3_560', 'FOODS_3_032', 'FOODS_3_391', 'FOODS_3_618', 'HOUSEHOLD_1_309', 'HOUSEHOLD_1_267', 'HOUSEHOLD_2_293', 'HOBBIES_1_118', 'HOUSEHOLD_2_338', 'FOODS_3_630', 'FOODS_2_263', 'FOODS_3_484', 'HOUSEHOLD_2_235', 'HOUSEHOLD_1_138', 'FOODS_2_353', 'FOODS_3_741', 'HOBBIES_1_352', 'FOODS_2_027', 'FOODS_3_148', 'FOODS_1_055', 'FOODS_3_308', 'HOBBIES_2_082', 'HOUSEHOLD_1_425', 'FOODS_3_565', 'FOODS_2_231', 'HOUSEHOLD_1_161', 'FOODS_3_460', 'HOUSEHOLD_2_350', 'HOUSEHOLD_1_062', 'FOODS_3_062', 'FOODS_1_115', 'FOODS_2_026', 'FOODS_2_224', 'FOODS_3_019', 'HOUSEHOLD_1_348', 'FOODS_3_270', 'FOODS_1_038', 'FOODS_2_328', 'FOODS_2_399', 'FOODS_3_312', 'FOODS_3_284', 'HOUSEHOLD_2_087', 'HOUSEHOLD_1_142', 'FOODS_1_175', 'FOODS_1_174', 'FOODS_3_477', 'HOBBIES_2_051', 'HOUSEHOLD_1_350', 'HOBBIES_2_032', 'HOUSEHOLD_1_152', 'HOUSEHOLD_2_270', 'HOBBIES_1_046', 'FOODS_3_248', 'HOUSEHOLD_2_333', 'FOODS_1_033', 'HOUSEHOLD_2_486', 'FOODS_3_592', 'FOODS_2_326', 'FOODS_2_330', 'FOODS_3_784', 'FOODS_3_157', 'FOODS_3_733', 'FOODS_2_352', 'HOBBIES_2_075', 'FOODS_2_189', 'FOODS_3_345', 'HOUSEHOLD_2_424', 'HOUSEHOLD_1_116', 'HOUSEHOLD_2_348', 'HOUSEHOLD_2_247', 'HOBBIES_2_076', 'HOUSEHOLD_2_225', 'FOODS_3_178', 'HOBBIES_1_107', 'FOODS_1_070', 'FOODS_3_001', 'FOODS_3_417', 'HOUSEHOLD_1_229', 'FOODS_3_568', 'HOUSEHOLD_1_254', 'HOUSEHOLD_1_356', 'HOBBIES_1_295', 'HOUSEHOLD_1_442', 'HOUSEHOLD_2_013', 'HOUSEHOLD_2_064', 'HOUSEHOLD_2_427', 'FOODS_1_178', 'HOBBIES_1_239', 'HOUSEHOLD_2_375', 'FOODS_3_686', 'HOBBIES_1_186', 'FOODS_3_622', 'HOUSEHOLD_1_091', 'HOUSEHOLD_2_137', 'HOUSEHOLD_1_242', 'FOODS_1_039', 'FOODS_3_737', 'FOODS_3_247', 'HOUSEHOLD_2_442', 'FOODS_2_032', 'FOODS_3_072', 'FOODS_3_498', 'FOODS_3_229', 'HOBBIES_2_109', 'FOODS_1_044', 'FOODS_2_002', 'HOUSEHOLD_2_399', 'HOUSEHOLD_1_478', 'HOBBIES_1_343', 'FOODS_1_193', 'FOODS_3_819', 'FOODS_2_060', 'HOBBIES_1_389', 'FOODS_3_697', 'HOUSEHOLD_1_456', 'HOUSEHOLD_1_537', 'FOODS_3_283', 'HOBBIES_2_016', 'FOODS_3_602', 'HOBBIES_1_225', 'HOUSEHOLD_2_090', 'HOUSEHOLD_2_453', 'HOBBIES_1_124', 'HOBBIES_1_210', 'FOODS_3_053', 'HOUSEHOLD_1_176', 'FOODS_3_091', 'HOUSEHOLD_2_443', 'HOBBIES_1_012', 'FOODS_3_112', 'HOUSEHOLD_1_051', 'FOODS_3_261', 'FOODS_2_188', 'HOBBIES_2_019', 'HOUSEHOLD_1_059', 'HOUSEHOLD_1_308', 'FOODS_3_384', 'HOUSEHOLD_2_051', 'FOODS_2_267', 'HOUSEHOLD_1_222', 'HOUSEHOLD_2_115', 'HOUSEHOLD_1_230', 'HOUSEHOLD_2_328', 'HOBBIES_1_169', 'HOBBIES_1_041', 'FOODS_1_116', 'FOODS_3_290', 'FOODS_3_212', 'FOODS_2_124', 'HOUSEHOLD_1_179', 'FOODS_3_113', 'HOUSEHOLD_2_504', 'FOODS_3_082', 'HOUSEHOLD_2_444', 'FOODS_1_169', 'HOUSEHOLD_1_133', 'HOBBIES_2_053', 'HOBBIES_1_274', 'FOODS_2_057', 'HOBBIES_1_009', 'FOODS_1_143', 'HOBBIES_1_151', 'FOODS_2_297', 'HOUSEHOLD_1_136', 'FOODS_3_160', 'HOUSEHOLD_2_462', 'HOBBIES_1_362', 'HOUSEHOLD_1_430', 'HOBBIES_2_028', 'HOBBIES_1_317', 'FOODS_3_183', 'FOODS_1_046', 'HOBBIES_1_114', 'FOODS_2_212', 'HOUSEHOLD_1_438', 'FOODS_2_318', 'HOUSEHOLD_2_378', 'FOODS_2_004', 'HOBBIES_2_077', 'HOUSEHOLD_1_236', 'HOUSEHOLD_1_508', 'HOUSEHOLD_2_091', 'FOODS_3_205', 'FOODS_3_640', 'HOBBIES_1_171', 'FOODS_3_234', 'HOUSEHOLD_1_397', 'HOBBIES_1_413', 'FOODS_2_300', 'HOBBIES_2_012', 'HOBBIES_2_092', 'FOODS_1_181', 'FOODS_2_376', 'FOODS_3_563', 'FOODS_2_360', 'FOODS_3_486', 'FOODS_3_689', 'HOBBIES_1_205', 'HOUSEHOLD_1_378', 'HOUSEHOLD_2_134', 'HOUSEHOLD_2_128', 'HOUSEHOLD_1_393', 'HOBBIES_1_258', 'HOUSEHOLD_2_265', 'FOODS_2_177', 'HOBBIES_1_281', 'HOUSEHOLD_2_354', 'FOODS_1_026', 'HOBBIES_1_017', 'HOUSEHOLD_1_122', 'FOODS_2_323', 'FOODS_2_165', 'HOBBIES_1_377', 'HOBBIES_1_419', 'HOUSEHOLD_1_262', 'FOODS_2_160', 'FOODS_2_192', 'FOODS_1_015', 'FOODS_3_221', 'FOODS_3_459', 'HOUSEHOLD_1_338', 'HOUSEHOLD_2_175', 'HOUSEHOLD_1_290', 'HOUSEHOLD_1_303', 'HOUSEHOLD_1_405', 'FOODS_2_072', 'FOODS_3_492', 'HOBBIES_2_124', 'HOUSEHOLD_2_382', 'FOODS_3_401', 'FOODS_1_197', 'HOUSEHOLD_1_054', 'HOUSEHOLD_2_054', 'HOUSEHOLD_2_307', 'HOBBIES_1_232', 'FOODS_1_095', 'FOODS_3_587', 'FOODS_3_742', 'FOODS_1_059', 'HOBBIES_1_152', 'FOODS_3_267', 'FOODS_2_205', 'FOODS_2_043', 'FOODS_3_327', 'HOUSEHOLD_2_420', 'FOODS_2_238', 'HOUSEHOLD_2_321', 'FOODS_2_217', 'FOODS_3_661', 'FOODS_2_336', 'FOODS_2_248', 'FOODS_3_313', 'HOUSEHOLD_2_394', 'FOODS_3_286', 'HOBBIES_2_045', 'FOODS_1_082', 'FOODS_2_003', 'HOUSEHOLD_1_208', 'HOBBIES_1_369', 'HOUSEHOLD_2_142', 'FOODS_2_008', 'HOUSEHOLD_1_124', 'FOODS_3_214', 'FOODS_3_360', 'FOODS_3_318', 'HOBBIES_1_326', 'FOODS_2_154', 'FOODS_3_280', 'FOODS_3_554', 'HOUSEHOLD_2_431', 'HOBBIES_1_321', 'HOUSEHOLD_1_187', 'HOUSEHOLD_1_292', 'HOUSEHOLD_1_060', 'HOBBIES_1_349', 'FOODS_2_295', 'HOBBIES_1_104', 'FOODS_3_747', 'HOUSEHOLD_1_428', 'FOODS_3_243', 'FOODS_2_075', 'HOBBIES_2_035', 'HOUSEHOLD_2_441', 'FOODS_1_176', 'FOODS_3_500', 'FOODS_2_087', 'HOUSEHOLD_2_332', 'FOODS_3_588', 'FOODS_2_228', 'HOBBIES_1_386', 'FOODS_3_365', 'FOODS_3_372', 'FOODS_3_447', 'HOBBIES_1_038', 'HOUSEHOLD_1_316', 'HOUSEHOLD_2_493', 'FOODS_2_207', 'HOBBIES_2_087', 'FOODS_3_051', 'HOBBIES_1_250', 'FOODS_1_215', 'HOBBIES_1_090', 'FOODS_2_042', 'FOODS_2_102', 'HOUSEHOLD_2_226', 'HOUSEHOLD_2_318', 'FOODS_1_156', 'FOODS_3_111', 'FOODS_2_170', 'HOUSEHOLD_2_036', 'HOBBIES_1_243', 'HOUSEHOLD_1_501', 'HOUSEHOLD_2_069', 'FOODS_2_197', 'HOBBIES_1_226', 'HOBBIES_1_347', 'HOUSEHOLD_1_248', 'FOODS_3_030', 'HOUSEHOLD_2_111', 'HOUSEHOLD_1_539', 'HOUSEHOLD_2_011', 'FOODS_3_348', 'FOODS_3_339', 'HOUSEHOLD_1_008', 'HOUSEHOLD_1_536', 'HOUSEHOLD_2_439', 'FOODS_1_006', 'FOODS_3_164', 'FOODS_1_014', 'FOODS_3_612', 'FOODS_2_344', 'HOBBIES_1_408', 'HOUSEHOLD_2_487', 'HOUSEHOLD_2_173', 'FOODS_2_251', 'FOODS_3_105', 'FOODS_1_205', 'HOUSEHOLD_1_205', 'HOUSEHOLD_2_294', 'FOODS_3_018', 'HOUSEHOLD_1_415', 'FOODS_3_296', 'FOODS_3_814', 'FOODS_2_299', 'FOODS_3_398', 'FOODS_2_266', 'HOUSEHOLD_2_228', 'FOODS_3_483', 'FOODS_1_098', 'HOBBIES_1_007', 'FOODS_3_078', 'HOBBIES_2_007', 'FOODS_3_108', 'FOODS_1_150', 'FOODS_3_185', 'HOBBIES_1_145', 'HOBBIES_1_176', 'FOODS_1_050', 'HOUSEHOLD_2_501', 'HOUSEHOLD_2_204', 'FOODS_1_016', 'FOODS_3_140', 'HOUSEHOLD_2_284', 'FOODS_3_508', 'HOUSEHOLD_2_095', 'HOUSEHOLD_2_206', 'HOUSEHOLD_1_449', 'HOUSEHOLD_2_078', 'HOBBIES_1_072', 'HOBBIES_1_155', 'FOODS_1_067', 'FOODS_3_350', 'FOODS_1_035', 'HOBBIES_1_319', 'FOODS_3_597', 'HOBBIES_1_179', 'FOODS_2_333', 'FOODS_3_662', 'FOODS_2_322', 'FOODS_3_636', 'FOODS_2_012', 'HOUSEHOLD_1_466', 'FOODS_2_198', 'HOUSEHOLD_2_081', 'HOUSEHOLD_2_327', 'HOUSEHOLD_2_325', 'FOODS_1_209', 'HOUSEHOLD_1_192', 'HOUSEHOLD_2_366', 'FOODS_3_362', 'HOUSEHOLD_1_305', 'FOODS_2_058', 'HOUSEHOLD_2_440', 'FOODS_3_329', 'FOODS_3_426', 'HOBBIES_1_134', 'HOUSEHOLD_2_271', 'HOUSEHOLD_2_463', 'HOUSEHOLD_2_157', 'HOUSEHOLD_2_484', 'HOUSEHOLD_2_505', 'HOUSEHOLD_1_500', 'HOUSEHOLD_1_440', 'HOBBIES_2_046', 'HOUSEHOLD_1_281', 'HOUSEHOLD_2_299', 'HOUSEHOLD_1_344', 'HOBBIES_1_200', 'FOODS_2_036', 'HOUSEHOLD_1_371', 'HOUSEHOLD_1_387', 'FOODS_1_134', 'FOODS_3_772', 'FOODS_3_803', 'HOUSEHOLD_1_011', 'HOUSEHOLD_2_385', 'FOODS_3_285', 'FOODS_1_085', 'HOUSEHOLD_2_419', 'HOBBIES_1_094', 'HOBBIES_1_203', 'HOUSEHOLD_1_225', 'HOUSEHOLD_1_073', 'HOUSEHOLD_1_075', 'HOUSEHOLD_1_061', 'HOBBIES_1_290', 'HOUSEHOLD_1_094', 'HOUSEHOLD_2_506', 'FOODS_3_344', 'HOBBIES_1_055', 'HOBBIES_2_078', 'HOUSEHOLD_1_325', 'FOODS_2_103', 'HOUSEHOLD_1_035', 'FOODS_2_356', 'FOODS_3_510', 'FOODS_2_144', 'FOODS_3_463', 'FOODS_2_249', 'FOODS_3_158', 'HOUSEHOLD_2_200', 'FOODS_3_475', 'FOODS_2_178', 'HOUSEHOLD_2_132', 'HOUSEHOLD_2_388', 'FOODS_2_200', 'FOODS_3_768', 'FOODS_3_575', 'HOUSEHOLD_1_093', 'HOUSEHOLD_2_199', 'HOUSEHOLD_1_502', 'FOODS_1_192', 'HOBBIES_2_086', 'HOUSEHOLD_1_381', 'FOODS_2_363', 'HOBBIES_2_003', 'FOODS_3_551', 'FOODS_1_013', 'HOUSEHOLD_2_041', 'HOBBIES_1_032', 'FOODS_2_221', 'HOBBIES_2_063', 'FOODS_3_103', 'HOUSEHOLD_2_124', 'HOBBIES_1_088', 'FOODS_2_166', 'FOODS_1_129', 'HOUSEHOLD_2_245', 'FOODS_3_259', 'HOBBIES_1_313', 'HOUSEHOLD_2_267', 'FOODS_1_041', 'FOODS_3_213', 'HOUSEHOLD_2_174', 'FOODS_3_571', 'HOUSEHOLD_2_409', 'HOUSEHOLD_2_252', 'FOODS_2_078', 'FOODS_3_818', 'HOUSEHOLD_1_118', 'FOODS_3_330', 'HOUSEHOLD_1_175', 'FOODS_3_619', 'HOBBIES_1_411', 'FOODS_3_405', 'FOODS_3_408', 'HOUSEHOLD_2_171', 'HOBBIES_2_100', 'HOUSEHOLD_2_341', 'HOUSEHOLD_1_204', 'FOODS_3_223', 'HOUSEHOLD_2_215', 'FOODS_1_072', 'FOODS_3_555', 'HOBBIES_2_090', 'HOBBIES_1_418', 'FOODS_2_397', 'FOODS_3_724', 'FOODS_3_046', 'HOBBIES_1_023', 'HOUSEHOLD_1_081', 'HOUSEHOLD_1_159', 'FOODS_2_133', 'HOUSEHOLD_2_343', 'FOODS_3_482', 'FOODS_3_085', 'FOODS_2_351', 'HOBBIES_1_135', 'FOODS_2_348', 'FOODS_2_368', 'HOUSEHOLD_2_266', 'FOODS_2_023', 'HOBBIES_2_033', 'FOODS_3_704', 'HOBBIES_1_194', 'HOUSEHOLD_2_311', 'FOODS_3_415', 'FOODS_3_216', 'HOUSEHOLD_1_487', 'FOODS_3_250', 'HOUSEHOLD_1_347', 'HOBBIES_2_108', 'FOODS_3_107', 'HOUSEHOLD_1_134', 'FOODS_2_137', 'HOUSEHOLD_1_301', 'HOUSEHOLD_1_517', 'HOUSEHOLD_2_025', 'HOUSEHOLD_1_034', 'HOUSEHOLD_1_080', 'FOODS_3_736', 'HOBBIES_1_050', 'HOUSEHOLD_1_044', 'FOODS_1_021', 'HOBBIES_1_260', 'HOBBIES_1_082', 'HOBBIES_2_054', 'HOUSEHOLD_1_160', 'FOODS_2_112', 'FOODS_2_280', 'FOODS_2_181', 'HOBBIES_1_327', 'HOUSEHOLD_1_531', 'FOODS_3_723', 'HOUSEHOLD_1_172', 'HOBBIES_2_010', 'FOODS_3_089', 'FOODS_1_030', 'FOODS_3_129', 'HOUSEHOLD_1_123', 'HOUSEHOLD_1_150', 'HOUSEHOLD_1_533', 'HOUSEHOLD_2_227', 'FOODS_2_081', 'HOUSEHOLD_1_520', 'HOUSEHOLD_2_446', 'FOODS_2_014', 'FOODS_3_448', 'HOBBIES_1_372', 'HOUSEHOLD_2_480', 'HOUSEHOLD_2_297', 'HOUSEHOLD_2_136', 'HOUSEHOLD_2_123', 'HOBBIES_1_189', 'HOUSEHOLD_1_220', 'HOUSEHOLD_1_286', 'HOUSEHOLD_2_214', 'FOODS_2_111', 'HOUSEHOLD_1_369', 'FOODS_1_125', 'FOODS_3_194', 'FOODS_3_092', 'FOODS_3_534', 'HOBBIES_1_021', 'HOUSEHOLD_1_181', 'HOUSEHOLD_1_194', 'HOUSEHOLD_2_422', 'HOBBIES_1_042', 'FOODS_3_717', 'HOBBIES_1_027', 'FOODS_3_320', 'HOUSEHOLD_1_291', 'HOBBIES_1_406', 'HOUSEHOLD_1_322', 'HOUSEHOLD_1_390', 'HOUSEHOLD_2_448', 'HOUSEHOLD_2_510', 'HOUSEHOLD_2_507', 'HOBBIES_1_268', 'HOUSEHOLD_2_248', 'FOODS_3_233', 'FOODS_1_136', 'HOUSEHOLD_2_092', 'HOUSEHOLD_2_397', 'FOODS_2_325', 'HOUSEHOLD_2_276', 'HOBBIES_1_020', 'FOODS_3_169', 'FOODS_3_309', 'HOBBIES_1_181', 'FOODS_2_276', 'FOODS_2_054', 'HOBBIES_1_060', 'HOUSEHOLD_1_448', 'FOODS_1_057', 'HOBBIES_2_034', 'HOUSEHOLD_1_444', 'HOUSEHOLD_1_461', 'HOUSEHOLD_2_035', 'FOODS_3_657', 'HOUSEHOLD_2_182', 'HOBBIES_1_228', 'FOODS_2_244', 'FOODS_2_161', 'FOODS_1_036', 'HOUSEHOLD_2_494', 'HOBBIES_2_042', 'FOODS_1_034', 'HOBBIES_1_131', 'FOODS_2_079', 'HOBBIES_1_074', 'FOODS_2_355', 'FOODS_2_306', 'HOUSEHOLD_1_027', 'HOUSEHOLD_2_153', 'HOUSEHOLD_2_509', 'HOUSEHOLD_2_033', 'HOBBIES_1_018', 'HOUSEHOLD_1_452', 'HOUSEHOLD_1_509', 'FOODS_2_386', 'HOBBIES_1_387', 'FOODS_2_193', 'FOODS_3_767', 'FOODS_3_101', 'HOUSEHOLD_1_169', 'HOBBIES_1_052', 'HOUSEHOLD_1_373', 'FOODS_1_051', 'FOODS_2_395', 'FOODS_3_411', 'HOBBIES_1_022', 'FOODS_2_157', 'HOBBIES_1_388', 'FOODS_2_369', 'FOODS_2_315', 'HOBBIES_1_221', 'HOUSEHOLD_1_355', 'HOUSEHOLD_2_212', 'FOODS_3_817', 'HOBBIES_1_269', 'HOUSEHOLD_1_477', 'HOUSEHOLD_2_285', 'HOUSEHOLD_2_088', 'HOBBIES_1_416', 'FOODS_3_439', 'HOBBIES_1_346', 'HOUSEHOLD_1_055', 'HOUSEHOLD_2_005', 'FOODS_3_367', 'FOODS_3_026', 'FOODS_1_004', 'FOODS_3_603', 'HOUSEHOLD_1_468', 'FOODS_3_127', 'HOUSEHOLD_2_019', 'FOODS_2_290', 'HOUSEHOLD_1_295', 'FOODS_1_080', 'FOODS_3_276', 'HOUSEHOLD_1_412', 'FOODS_1_068', 'FOODS_3_024', 'HOUSEHOLD_1_277', 'HOUSEHOLD_1_148', 'HOBBIES_1_359', 'FOODS_3_453', 'HOUSEHOLD_2_434', 'FOODS_3_373', 'FOODS_3_096', 'FOODS_3_465', 'HOUSEHOLD_2_476', 'FOODS_2_028', 'HOUSEHOLD_1_258', 'HOUSEHOLD_2_243', 'HOBBIES_2_073', 'FOODS_1_019', 'FOODS_2_167', 'FOODS_2_106', 'HOBBIES_1_367', 'HOUSEHOLD_1_386', 'FOODS_3_192', 'FOODS_3_224', 'HOUSEHOLD_2_008', 'HOUSEHOLD_2_222', 'HOUSEHOLD_1_241', 'FOODS_1_161', 'FOODS_3_504', 'FOODS_3_700', 'HOBBIES_2_062', 'HOUSEHOLD_1_112', 'HOUSEHOLD_2_106', 'HOUSEHOLD_2_150', 'HOUSEHOLD_2_256', 'HOBBIES_1_374', 'FOODS_3_126', 'HOUSEHOLD_1_332', 'FOODS_3_263', 'FOODS_3_607', 'FOODS_3_682', 'HOUSEHOLD_1_377', 'HOUSEHOLD_2_359', 'FOODS_3_746', 'FOODS_3_188', 'HOBBIES_1_190', 'FOODS_1_073', 'FOODS_1_167', 'FOODS_3_196', 'HOUSEHOLD_1_280', 'HOBBIES_1_105', 'FOODS_3_821', 'HOUSEHOLD_2_133', 'FOODS_3_155', 'FOODS_3_029', 'HOUSEHOLD_2_364', 'FOODS_3_253', 'FOODS_1_159', 'FOODS_2_169', 'FOODS_2_303', 'FOODS_1_024', 'FOODS_3_326', 'HOBBIES_1_305', 'HOUSEHOLD_2_158', 'FOODS_3_094', 'HOUSEHOLD_1_389', 'HOUSEHOLD_2_152', 'FOODS_2_187', 'FOODS_3_743', 'FOODS_3_193', 'FOODS_2_291', 'FOODS_2_358', 'HOUSEHOLD_1_141', 'HOUSEHOLD_1_282', 'HOUSEHOLD_1_246', 'FOODS_3_098', 'FOODS_2_064', 'FOODS_2_148', 'FOODS_2_082', 'FOODS_2_119', 'FOODS_2_279', 'HOUSEHOLD_2_306', 'FOODS_1_188', 'HOUSEHOLD_2_162', 'FOODS_3_146', 'FOODS_3_451', 'HOUSEHOLD_2_237', 'FOODS_2_236', 'FOODS_3_262', 'FOODS_2_040', 'FOODS_3_471', 'HOBBIES_1_253', 'FOODS_3_442', 'HOBBIES_1_364', 'HOUSEHOLD_2_165', 'HOUSEHOLD_2_406', 'FOODS_2_110', 'HOBBIES_1_365', 'HOBBIES_1_184', 'FOODS_2_021', 'HOUSEHOLD_2_172', 'FOODS_3_009', 'HOUSEHOLD_2_355', 'HOUSEHOLD_1_021', 'HOUSEHOLD_1_489', 'FOODS_1_084', 'HOUSEHOLD_1_382', 'HOUSEHOLD_2_138', 'HOUSEHOLD_2_503', 'FOODS_3_319', 'HOBBIES_1_280', 'FOODS_2_099', 'HOUSEHOLD_1_013', 'FOODS_2_001', 'HOBBIES_1_195', 'FOODS_2_277', 'HOBBIES_2_132', 'HOUSEHOLD_1_375', 'FOODS_3_174', 'FOODS_1_091', 'FOODS_3_461', 'FOODS_3_533', 'FOODS_3_061', 'FOODS_2_016', 'HOUSEHOLD_2_452', 'HOUSEHOLD_1_076', 'HOUSEHOLD_1_512', 'HOUSEHOLD_1_464', 'HOUSEHOLD_1_362', 'FOODS_3_515', 'FOODS_2_088', 'HOUSEHOLD_2_121', 'FOODS_2_305', 'HOBBIES_1_165', 'FOODS_3_425', 'HOUSEHOLD_1_524', 'FOODS_3_791', 'HOUSEHOLD_2_202', 'FOODS_2_109', 'HOUSEHOLD_2_249', 'FOODS_2_037', 'HOUSEHOLD_1_445', 'FOODS_3_409', 'FOODS_1_201', 'FOODS_3_564', 'FOODS_3_060', 'FOODS_2_085', 'FOODS_3_294', 'FOODS_1_141', 'HOUSEHOLD_2_515', 'FOODS_3_065', 'FOODS_2_015', 'FOODS_2_347', 'FOODS_3_810', 'FOODS_3_175', 'HOBBIES_1_422', 'FOODS_2_246', 'HOBBIES_2_101', 'FOODS_2_254', 'HOBBIES_2_036', 'FOODS_2_171', 'FOODS_3_249', 'HOUSEHOLD_1_491', 'HOUSEHOLD_2_459', 'FOODS_1_011', 'FOODS_2_282', 'HOBBIES_2_050', 'HOBBIES_1_215', 'FOODS_3_110', 'HOBBIES_2_055', 'HOUSEHOLD_1_217', 'HOUSEHOLD_2_191', 'FOODS_1_099', 'FOODS_2_383', 'FOODS_2_044', 'HOUSEHOLD_2_127', 'FOODS_3_745', 'FOODS_3_240', 'FOODS_2_343', 'HOUSEHOLD_2_031', 'HOUSEHOLD_2_336', 'FOODS_3_034', 'HOBBIES_1_264', 'HOBBIES_1_013', 'FOODS_3_071', 'FOODS_3_407', 'HOUSEHOLD_1_329', 'HOUSEHOLD_2_003', 'HOUSEHOLD_1_251', 'HOUSEHOLD_1_414', 'HOUSEHOLD_1_472', 'FOODS_1_219', 'FOODS_1_087', 'FOODS_3_393', 'FOODS_3_825', 'FOODS_1_071', 'HOBBIES_1_030', 'HOUSEHOLD_1_164', 'HOUSEHOLD_2_380', 'HOUSEHOLD_1_178', 'HOBBIES_1_288', 'FOODS_2_247', 'HOUSEHOLD_1_385', 'HOUSEHOLD_1_023', 'HOUSEHOLD_1_197', 'FOODS_3_544', 'FOODS_3_086', 'HOUSEHOLD_2_109', 'FOODS_3_641', 'HOUSEHOLD_1_346', 'FOODS_3_670', 'HOUSEHOLD_1_266', 'FOODS_1_148', 'HOUSEHOLD_1_221', 'FOODS_3_281', 'HOBBIES_1_339', 'HOUSEHOLD_2_201', 'FOODS_1_142', 'HOUSEHOLD_2_027', 'HOUSEHOLD_2_371', 'FOODS_1_001', 'FOODS_2_176', 'FOODS_1_064', 'FOODS_1_094', 'HOBBIES_2_091', 'HOUSEHOLD_1_113', 'HOUSEHOLD_2_080', 'FOODS_3_479', 'FOODS_3_694', 'HOBBIES_1_204', 'FOODS_2_107', 'HOBBIES_1_081', 'HOUSEHOLD_2_408', 'HOUSEHOLD_2_186', 'FOODS_3_674', 'HOUSEHOLD_1_361', 'FOODS_2_159', 'HOUSEHOLD_2_404', 'FOODS_2_298', 'HOBBIES_2_111', 'HOUSEHOLD_1_368', 'HOUSEHOLD_1_045', 'FOODS_3_489', 'FOODS_1_113', 'FOODS_3_012', 'HOUSEHOLD_1_140', 'HOBBIES_1_405', 'HOBBIES_2_040', 'FOODS_3_410', 'FOODS_2_283', 'HOBBIES_1_177', 'HOBBIES_2_030', 'FOODS_3_295', 'FOODS_3_364', 'HOBBIES_1_302', 'HOUSEHOLD_2_122', 'FOODS_2_047', 'FOODS_3_562', 'FOODS_2_033', 'FOODS_2_382', 'HOUSEHOLD_1_359', 'HOUSEHOLD_2_141', 'FOODS_2_357', 'HOUSEHOLD_1_151', 'HOUSEHOLD_2_258', 'HOUSEHOLD_1_249', 'FOODS_3_359', 'HOBBIES_1_336', 'HOUSEHOLD_1_097', 'HOBBIES_2_144', 'FOODS_3_269', 'FOODS_3_720', 'HOUSEHOLD_1_317', 'FOODS_3_665', 'HOBBIES_1_255', 'FOODS_3_782', 'FOODS_1_123', 'FOODS_2_055', 'FOODS_3_769', 'HOBBIES_1_344', 'HOUSEHOLD_1_250', 'HOUSEHOLD_2_414', 'HOUSEHOLD_2_488', 'FOODS_3_629', 'HOUSEHOLD_1_128', 'HOBBIES_1_277', 'FOODS_3_801', 'FOODS_3_651', 'HOBBIES_2_014', 'HOUSEHOLD_1_353', 'FOODS_3_427', 'HOUSEHOLD_2_238', 'HOBBIES_1_262', 'HOUSEHOLD_1_410', 'FOODS_2_068', 'HOUSEHOLD_1_036', 'HOUSEHOLD_2_163', 'HOUSEHOLD_2_273', 'HOBBIES_1_108', 'HOBBIES_1_382', 'HOUSEHOLD_2_473', 'HOUSEHOLD_2_241', 'FOODS_3_802', 'FOODS_1_005', 'HOUSEHOLD_1_481', 'HOBBIES_2_094', 'HOUSEHOLD_1_493', 'FOODS_3_370', 'FOODS_1_202', 'FOODS_3_302', 'HOUSEHOLD_1_476', 'FOODS_2_125', 'FOODS_3_271', 'HOBBIES_1_068', 'FOODS_3_040', 'FOODS_2_186', 'FOODS_2_292', 'FOODS_2_319', 'FOODS_3_067', 'HOBBIES_1_330', 'FOODS_1_069', 'FOODS_3_652', 'HOBBIES_1_373', 'HOUSEHOLD_2_042', 'FOODS_3_625', 'FOODS_1_089', 'HOUSEHOLD_1_298', 'HOUSEHOLD_1_319', 'HOUSEHOLD_2_024', 'HOUSEHOLD_2_449', 'HOUSEHOLD_1_016', 'FOODS_3_206', 'HOBBIES_2_060', 'HOUSEHOLD_2_074', 'FOODS_1_101', 'FOODS_3_288', 'HOUSEHOLD_1_210', 'HOUSEHOLD_1_119', 'FOODS_3_181', 'FOODS_2_097', 'HOUSEHOLD_1_475', 'HOUSEHOLD_2_457', 'HOUSEHOLD_1_039', 'HOBBIES_2_126', 'FOODS_3_715', 'HOUSEHOLD_1_404', 'FOODS_3_197', 'HOUSEHOLD_1_232', 'HOUSEHOLD_2_381', 'FOODS_1_020', 'FOODS_2_076', 'HOUSEHOLD_2_099', 'FOODS_2_220', 'FOODS_3_163', 'HOBBIES_1_066', 'HOBBIES_2_105', 'HOBBIES_2_138', 'HOUSEHOLD_1_201', 'HOBBIES_1_039', 'HOBBIES_1_380', 'HOUSEHOLD_1_228', 'FOODS_1_162', 'FOODS_2_334', 'FOODS_3_186', 'FOODS_3_464', 'HOUSEHOLD_2_015', 'HOBBIES_1_064', 'FOODS_3_537', 'FOODS_2_317', 'HOUSEHOLD_1_009', 'HOUSEHOLD_1_384', 'FOODS_2_250', 'FOODS_3_375', 'FOODS_3_659', 'FOODS_3_291', 'HOBBIES_1_251', 'FOODS_2_211', 'HOUSEHOLD_2_317', 'FOODS_3_321', 'HOUSEHOLD_2_020', 'FOODS_1_137', 'HOUSEHOLD_2_060', 'HOUSEHOLD_1_012', 'FOODS_3_357', 'HOUSEHOLD_1_168', 'FOODS_3_377', 'HOBBIES_1_185', 'HOBBIES_1_325', 'HOUSEHOLD_1_071', 'HOUSEHOLD_1_149', 'HOBBIES_1_103', 'FOODS_3_299', 'FOODS_3_589', 'HOBBIES_1_065', 'HOUSEHOLD_2_169', 'FOODS_2_214', 'FOODS_3_049', 'FOODS_3_257', 'HOBBIES_1_015', 'HOBBIES_1_282', 'HOUSEHOLD_1_088', 'FOODS_1_108', 'FOODS_3_314', 'FOODS_3_638', 'HOUSEHOLD_2_454', 'FOODS_3_506', 'HOBBIES_1_292', 'HOBBIES_2_135', 'HOUSEHOLD_1_374', 'HOUSEHOLD_2_451', 'HOUSEHOLD_2_168', 'HOBBIES_1_265', 'FOODS_3_337', 'HOUSEHOLD_1_261', 'HOUSEHOLD_1_047', 'HOUSEHOLD_1_535', 'HOUSEHOLD_2_412', 'FOODS_3_028', 'HOBBIES_1_092', 'FOODS_1_119', 'HOUSEHOLD_1_158', 'FOODS_2_331', 'HOUSEHOLD_2_500', 'HOUSEHOLD_1_165', 'FOODS_3_429', 'FOODS_1_088', 'HOBBIES_1_318', 'FOODS_1_198', 'FOODS_1_063', 'FOODS_3_056', 'FOODS_3_204', 'HOBBIES_1_236', 'HOBBIES_2_097', 'FOODS_1_135', 'HOUSEHOLD_1_463', 'FOODS_3_679', 'FOODS_2_141', 'HOUSEHOLD_1_139', 'HOUSEHOLD_1_486', 'HOUSEHOLD_2_068', 'FOODS_3_383', 'HOUSEHOLD_2_490', 'HOUSEHOLD_2_177', 'HOBBIES_1_247', 'FOODS_2_056', 'HOUSEHOLD_2_298', 'FOODS_3_648', 'HOUSEHOLD_1_089', 'FOODS_3_102', 'FOODS_2_061', 'FOODS_3_003', 'HOUSEHOLD_1_398', 'FOODS_3_311', 'HOUSEHOLD_2_053', 'HOUSEHOLD_2_161', 'HOUSEHOLD_2_055', 'HOUSEHOLD_2_262', 'FOODS_2_048', 'FOODS_2_320', 'FOODS_2_337', 'HOBBIES_2_085', 'HOUSEHOLD_2_400', 'HOUSEHOLD_1_433', 'HOBBIES_1_235', 'HOBBIES_2_110', 'HOUSEHOLD_1_095', 'HOUSEHOLD_1_450', 'HOBBIES_1_199', 'HOUSEHOLD_2_135', 'HOUSEHOLD_1_234', 'FOODS_1_066', 'FOODS_1_151', 'FOODS_3_084', 'HOBBIES_1_322', 'FOODS_2_256', 'HOUSEHOLD_1_227', 'HOBBIES_2_096', 'HOBBIES_1_397', 'HOUSEHOLD_2_242', 'HOUSEHOLD_2_363', 'HOUSEHOLD_1_092', 'HOBBIES_1_158', 'FOODS_3_437', 'FOODS_3_490', 'FOODS_3_744', 'HOBBIES_1_361', 'HOUSEHOLD_1_494', 'HOBBIES_1_123', 'FOODS_3_470', 'FOODS_3_395', 'FOODS_2_243', 'HOUSEHOLD_2_209', 'FOODS_2_313', 'HOUSEHOLD_2_145', 'FOODS_3_191', 'HOUSEHOLD_2_492', 'FOODS_2_146', 'HOBBIES_1_312', 'HOBBIES_1_067', 'FOODS_3_608', 'HOUSEHOLD_1_496', 'HOBBIES_2_027', 'HOUSEHOLD_2_342', 'HOUSEHOLD_2_417', 'FOODS_1_009', 'HOUSEHOLD_2_131', 'HOUSEHOLD_1_182', 'HOUSEHOLD_1_284', 'FOODS_3_574', 'HOUSEHOLD_2_210', 'FOODS_2_152', 'HOUSEHOLD_1_030', 'FOODS_3_322', 'HOBBIES_1_393', 'FOODS_2_182', 'FOODS_3_210', 'FOODS_3_095', 'FOODS_3_628', 'FOODS_3_128', 'FOODS_3_649', 'FOODS_3_705', 'HOBBIES_1_043', 'HOBBIES_2_140', 'HOUSEHOLD_2_052', 'HOUSEHOLD_2_295', 'HOUSEHOLD_1_470', 'FOODS_3_520', 'FOODS_3_789', 'FOODS_3_702', 'FOODS_3_823', 'FOODS_3_100', 'FOODS_2_239', 'FOODS_3_675', 'FOODS_3_709', 'FOODS_1_118', 'HOUSEHOLD_2_185', 'HOBBIES_1_028', 'HOUSEHOLD_2_062', 'FOODS_1_140', 'HOBBIES_1_340', 'HOUSEHOLD_1_349', 'FOODS_2_209', 'FOODS_3_806', 'HOBBIES_1_241', 'HOBBIES_1_415', 'HOUSEHOLD_1_064', 'FOODS_3_753', 'HOUSEHOLD_2_147', 'HOBBIES_1_417', 'HOUSEHOLD_2_268', 'FOODS_3_266', 'HOUSEHOLD_1_522', 'HOUSEHOLD_2_239', 'FOODS_3_481', 'HOBBIES_2_048', 'FOODS_2_289', 'HOUSEHOLD_2_352', 'HOUSEHOLD_2_118', 'HOUSEHOLD_1_131', 'HOUSEHOLD_2_119', 'FOODS_2_035', 'FOODS_3_080', 'HOBBIES_2_061', 'FOODS_3_389', 'FOODS_3_530', 'HOUSEHOLD_1_443', 'FOODS_3_752', 'HOUSEHOLD_2_360', 'HOBBIES_1_166', 'HOBBIES_2_119', 'HOBBIES_1_363', 'HOBBIES_1_315', 'HOUSEHOLD_1_516', 'HOUSEHOLD_1_293', 'FOODS_2_163', 'HOUSEHOLD_1_057', 'FOODS_3_145', 'HOUSEHOLD_1_326', 'FOODS_2_066', 'HOUSEHOLD_1_252', 'HOUSEHOLD_2_377', 'FOODS_3_708', 'FOODS_3_552', 'FOODS_2_104', 'HOUSEHOLD_2_383', 'HOUSEHOLD_2_156', 'HOUSEHOLD_2_438', 'FOODS_1_204', 'HOUSEHOLD_1_100', 'FOODS_3_676', 'FOODS_3_788', 'FOODS_2_260', 'FOODS_2_286', 'HOUSEHOLD_2_401', 'FOODS_2_020', 'HOUSEHOLD_1_330', 'HOUSEHOLD_1_514', 'FOODS_2_370', 'HOUSEHOLD_2_278', 'FOODS_1_189', 'HOUSEHOLD_1_007', 'FOODS_2_045', 'FOODS_1_191', 'FOODS_3_611', 'FOODS_2_009', 'FOODS_3_765', 'HOBBIES_2_037', 'HOUSEHOLD_2_429', 'FOODS_3_341', 'HOBBIES_1_286', 'FOODS_2_029', 'HOBBIES_1_097', 'FOODS_2_206', 'FOODS_1_216', 'FOODS_3_385', 'HOBBIES_1_192', 'FOODS_3_805', 'HOUSEHOLD_2_346', 'HOBBIES_1_246', 'FOODS_2_366', 'FOODS_3_382', 'HOBBIES_1_237', 'FOODS_1_122', 'FOODS_2_229', 'FOODS_3_251', 'FOODS_3_335', 'HOUSEHOLD_1_174', 'HOUSEHOLD_2_313', 'FOODS_2_050', 'HOUSEHOLD_1_042', 'HOBBIES_1_354', 'FOODS_2_031', 'HOBBIES_1_390', 'HOBBIES_2_071', 'FOODS_2_022', 'FOODS_3_485', 'HOBBIES_2_137', 'FOODS_3_198', 'FOODS_3_199', 'HOUSEHOLD_2_315', 'FOODS_2_301', 'HOUSEHOLD_2_230', 'HOUSEHOLD_1_299', 'FOODS_3_549', 'FOODS_1_029', 'HOBBIES_1_040', 'FOODS_2_237', 'FOODS_3_241', 'FOODS_2_091', 'HOBBIES_2_104', 'HOUSEHOLD_1_014', 'FOODS_3_516', 'HOUSEHOLD_1_106', 'HOUSEHOLD_2_021', 'FOODS_3_526', 'FOODS_3_514', 'HOBBIES_1_100', 'HOUSEHOLD_1_525', 'HOBBIES_1_392', 'FOODS_2_172', 'HOUSEHOLD_1_324', 'HOBBIES_1_370', 'FOODS_3_466', 'HOBBIES_1_201', 'HOUSEHOLD_2_316', 'FOODS_3_623', 'FOODS_3_015', 'FOODS_2_210', 'HOUSEHOLD_1_072', 'FOODS_3_593', 'HOUSEHOLD_1_145', 'FOODS_2_138', 'HOBBIES_1_102', 'FOODS_3_260', 'HOBBIES_2_026', 'HOUSEHOLD_1_306', 'HOUSEHOLD_2_146', 'HOBBIES_1_324', 'FOODS_2_365', 'FOODS_3_075', 'HOBBIES_1_115', 'FOODS_3_610', 'HOUSEHOLD_1_052', 'FOODS_3_499', 'FOODS_3_755', 'FOODS_1_164', 'HOUSEHOLD_2_038', 'HOBBIES_2_066', 'HOUSEHOLD_1_083', 'FOODS_3_104', 'FOODS_1_018', 'FOODS_2_394', 'FOODS_3_412', 'HOUSEHOLD_1_403', 'HOUSEHOLD_2_264', 'FOODS_3_739', 'FOODS_3_207', 'HOUSEHOLD_2_194', 'FOODS_2_308', 'FOODS_1_075', 'FOODS_3_680', 'HOBBIES_1_029', 'FOODS_3_301', 'FOODS_3_256', 'HOUSEHOLD_1_297', 'HOUSEHOLD_2_100', 'HOUSEHOLD_1_263', 'FOODS_3_325', 'HOUSEHOLD_2_260', 'HOUSEHOLD_2_072', 'FOODS_3_751', 'FOODS_3_491', 'FOODS_3_690', 'HOUSEHOLD_1_271', 'FOODS_3_353', 'HOBBIES_2_098', 'FOODS_3_252', 'HOBBIES_1_004', 'FOODS_1_185', 'FOODS_3_480', 'HOUSEHOLD_1_434', 'FOODS_2_380', 'FOODS_3_584', 'HOBBIES_1_037', 'HOUSEHOLD_2_066', 'HOBBIES_2_114', 'FOODS_3_524', 'FOODS_2_120', 'FOODS_3_431', 'FOODS_3_156', 'HOUSEHOLD_2_269', 'HOBBIES_2_133', 'HOBBIES_1_331', 'FOODS_1_153', 'FOODS_2_261', 'HOUSEHOLD_2_236', 'HOUSEHOLD_1_056', 'FOODS_2_273', 'FOODS_3_054', 'HOUSEHOLD_2_076', 'HOUSEHOLD_1_498', 'HOBBIES_1_174', 'HOBBIES_2_074', 'HOUSEHOLD_2_469', 'HOUSEHOLD_1_157', 'HOUSEHOLD_1_239', 'FOODS_3_088', 'FOODS_1_110', 'FOODS_2_364', 'FOODS_3_119', 'HOUSEHOLD_2_246', 'FOODS_1_109', 'HOUSEHOLD_2_208', 'HOUSEHOLD_2_018', 'FOODS_3_226', 'HOUSEHOLD_1_067', 'FOODS_2_284', 'FOODS_1_170', 'FOODS_3_356', 'FOODS_3_298', 'FOODS_1_062', 'FOODS_1_076', 'FOODS_3_297', 'FOODS_3_237', 'HOUSEHOLD_2_016', 'FOODS_3_456', 'FOODS_1_186', 'FOODS_2_147', 'HOBBIES_1_396', 'HOUSEHOLD_2_301', 'FOODS_3_495', 'FOODS_3_550', 'FOODS_3_681', 'HOUSEHOLD_2_387', 'FOODS_2_073', 'FOODS_1_028', 'FOODS_3_355', 'HOUSEHOLD_2_046', 'FOODS_2_183', 'HOUSEHOLD_2_502', 'HOUSEHOLD_2_047', 'FOODS_2_379', 'FOODS_3_246', 'FOODS_3_081', 'FOODS_3_131', 'HOBBIES_2_043', 'FOODS_3_315', 'HOBBIES_2_136', 'FOODS_3_076', 'FOODS_2_227', 'FOODS_3_792', 'FOODS_3_090', 'HOUSEHOLD_1_029', 'HOUSEHOLD_2_097', 'HOUSEHOLD_1_276', 'FOODS_3_258', 'HOUSEHOLD_2_326', 'FOODS_3_626', 'HOBBIES_1_323', 'FOODS_1_132', 'HOUSEHOLD_1_521', 'FOODS_2_233', 'FOODS_2_345', 'FOODS_2_270', 'FOODS_3_735', 'HOBBIES_1_008', 'HOUSEHOLD_2_056', 'HOUSEHOLD_2_390', 'FOODS_3_722', 'HOUSEHOLD_2_154', 'FOODS_3_057', 'HOBBIES_1_211', 'FOODS_3_097', 'FOODS_3_601', 'FOODS_1_139', 'HOBBIES_1_011', 'HOUSEHOLD_1_020', 'HOUSEHOLD_2_362', 'HOUSEHOLD_1_454', 'HOUSEHOLD_1_436', 'FOODS_1_171', 'HOUSEHOLD_1_223', 'FOODS_3_513', 'HOUSEHOLD_1_455', 'FOODS_3_673', 'FOODS_3_572', 'HOUSEHOLD_1_327', 'FOODS_2_034', 'HOBBIES_1_077', 'FOODS_3_007', 'FOODS_2_371', 'HOUSEHOLD_2_120', 'FOODS_2_362', 'HOUSEHOLD_2_077', 'FOODS_2_118', 'HOBBIES_2_047', 'HOUSEHOLD_2_167', 'HOUSEHOLD_1_110', 'HOUSEHOLD_1_337', 'FOODS_3_536', 'HOBBIES_1_334', 'HOBBIES_1_208', 'FOODS_3_763', 'FOODS_2_155', 'FOODS_3_303', 'HOUSEHOLD_2_485', 'FOODS_3_826', 'HOBBIES_1_332', 'HOUSEHOLD_1_511', 'FOODS_3_566', 'HOUSEHOLD_2_144', 'FOODS_2_218', 'HOUSEHOLD_1_395', 'HOUSEHOLD_1_484', 'HOUSEHOLD_2_423', 'HOBBIES_1_126', 'HOUSEHOLD_1_215', 'HOUSEHOLD_2_004', 'HOBBIES_1_385', 'FOODS_1_081', 'HOUSEHOLD_2_305', 'HOUSEHOLD_2_398', 'FOODS_3_639', 'FOODS_1_144', 'HOUSEHOLD_2_067', 'HOBBIES_1_026', 'HOUSEHOLD_2_300', 'HOUSEHOLD_2_044', 'HOBBIES_1_244', 'FOODS_3_781', 'FOODS_3_277', 'HOUSEHOLD_2_433', 'FOODS_2_184', 'HOUSEHOLD_2_349', 'FOODS_3_150', 'FOODS_3_239', 'FOODS_3_170', 'FOODS_3_696', 'FOODS_2_006', 'HOUSEHOLD_1_082', 'HOBBIES_1_384', 'HOBBIES_1_111', 'HOUSEHOLD_1_300', 'FOODS_1_138', 'HOUSEHOLD_2_032', 'HOUSEHOLD_1_166', 'HOUSEHOLD_2_263', 'FOODS_1_096', 'HOBBIES_2_131', 'FOODS_2_392', 'FOODS_3_422', 'FOODS_1_146', 'FOODS_3_631', 'HOBBIES_2_083', 'HOBBIES_2_080', 'FOODS_2_180', 'FOODS_3_416', 'FOODS_2_115', 'HOUSEHOLD_2_370', 'HOBBIES_2_001', 'HOBBIES_1_231', 'FOODS_3_469', 'HOUSEHOLD_2_023', 'FOODS_3_493', 'FOODS_3_176', 'FOODS_3_488', 'FOODS_2_354', 'HOUSEHOLD_2_022', 'FOODS_3_435', 'FOODS_3_343', 'FOODS_3_783', 'FOODS_3_242', 'FOODS_2_116', 'HOBBIES_1_345', 'FOODS_1_032', 'FOODS_2_011', 'FOODS_3_721', 'FOODS_3_055', 'FOODS_3_070', 'FOODS_3_273', 'FOODS_3_698', 'FOODS_2_143', 'HOUSEHOLD_2_180', 'FOODS_3_614', 'HOUSEHOLD_1_416', 'FOODS_3_458', 'HOUSEHOLD_1_105', 'HOBBIES_1_337', 'HOUSEHOLD_1_370', 'HOUSEHOLD_2_367', 'FOODS_3_173', 'FOODS_3_346', 'HOBBIES_1_016', 'HOBBIES_1_278', 'HOBBIES_1_296', 'HOUSEHOLD_2_475', 'FOODS_1_211', 'FOODS_3_037', 'HOBBIES_1_089', 'FOODS_3_338', 'FOODS_2_310', 'FOODS_3_766', 'FOODS_3_650', 'HOUSEHOLD_2_007', 'HOUSEHOLD_1_423', 'HOUSEHOLD_2_102', 'HOUSEHOLD_1_313', 'FOODS_2_038', 'HOUSEHOLD_1_184', 'HOUSEHOLD_1_453', 'HOUSEHOLD_1_523', 'HOBBIES_1_307', 'HOBBIES_1_157', 'HOBBIES_1_310', 'FOODS_3_796', 'HOUSEHOLD_1_294', 'FOODS_3_785', 'HOBBIES_1_175', 'FOODS_2_274', 'FOODS_2_080', 'FOODS_3_531', 'FOODS_3_014', 'FOODS_3_245', 'FOODS_1_106', 'HOUSEHOLD_1_163', 'FOODS_3_132', 'FOODS_3_729', 'HOUSEHOLD_2_369', 'FOODS_2_375', 'HOUSEHOLD_2_014', 'FOODS_1_126', 'FOODS_3_138', 'FOODS_3_187', 'FOODS_1_052', 'HOUSEHOLD_1_117', 'HOBBIES_1_148', 'HOBBIES_2_118', 'FOODS_3_599', 'HOBBIES_1_144', 'HOBBIES_1_031', 'HOUSEHOLD_2_010', 'HOBBIES_2_015', 'HOUSEHOLD_2_405', 'HOUSEHOLD_2_043', 'HOBBIES_1_230', 'HOBBIES_1_005', 'HOUSEHOLD_1_323', 'HOBBIES_1_001', 'HOUSEHOLD_1_268', 'HOUSEHOLD_2_499', 'HOUSEHOLD_2_244', 'FOODS_3_289', 'FOODS_3_038', 'FOODS_3_371', 'HOUSEHOLD_2_049', 'FOODS_2_010', 'HOBBIES_1_122', 'HOUSEHOLD_1_360', 'FOODS_1_040', 'FOODS_3_208', 'HOBBIES_1_379', 'HOBBIES_1_080', 'FOODS_3_707', 'FOODS_3_124', 'HOUSEHOLD_1_218', 'FOODS_2_108', 'HOUSEHOLD_1_237', 'FOODS_3_507', 'FOODS_2_235', 'HOUSEHOLD_1_336', 'FOODS_2_262', 'FOODS_2_113', 'FOODS_3_734', 'FOODS_2_092', 'HOUSEHOLD_2_407', 'FOODS_2_139', 'FOODS_3_279', 'HOBBIES_1_227', 'FOODS_3_811', 'HOBBIES_2_002', 'HOUSEHOLD_2_233', 'HOUSEHOLD_2_497', 'FOODS_3_354', 'FOODS_2_070', 'FOODS_3_215', 'HOUSEHOLD_1_485', 'FOODS_2_372', 'HOUSEHOLD_2_324', 'HOBBIES_2_057', 'FOODS_3_450', 'FOODS_1_206', 'FOODS_1_107', 'FOODS_3_400', 'HOBBIES_1_409', 'FOODS_3_083', 'HOUSEHOLD_2_320', 'FOODS_3_655', 'HOUSEHOLD_2_340', 'FOODS_3_392', 'HOUSEHOLD_2_511', 'HOUSEHOLD_2_190', 'FOODS_1_130', 'HOUSEHOLD_1_015', 'FOODS_2_059', 'HOUSEHOLD_2_217', 'HOUSEHOLD_2_323', 'HOUSEHOLD_1_376', 'FOODS_3_606', 'FOODS_1_010', 'HOUSEHOLD_1_460', 'HOUSEHOLD_1_085', 'HOUSEHOLD_1_120', 'FOODS_3_133', 'HOUSEHOLD_2_189', 'HOBBIES_1_056', 'FOODS_1_008', 'HOUSEHOLD_1_065', 'HOUSEHOLD_2_220', 'FOODS_1_212', 'FOODS_3_063', 'HOUSEHOLD_1_244', 'HOUSEHOLD_2_479', 'FOODS_3_020', 'FOODS_2_156', 'HOBBIES_1_275', 'FOODS_3_822', 'HOBBIES_1_139', 'FOODS_3_180', 'HOUSEHOLD_2_314', 'FOODS_2_130', 'HOBBIES_2_059', 'HOUSEHOLD_1_186', 'HOBBIES_1_299', 'HOUSEHOLD_2_057', 'FOODS_3_523', 'FOODS_1_124', 'FOODS_1_133', 'HOUSEHOLD_1_103', 'FOODS_3_152', 'HOUSEHOLD_1_388', 'HOUSEHOLD_1_185', 'HOBBIES_1_233', 'HOUSEHOLD_2_289', 'HOUSEHOLD_2_254', 'HOUSEHOLD_1_366', 'HOBBIES_1_164', 'FOODS_3_669', 'HOBBIES_1_053', 'HOUSEHOLD_1_513', 'HOBBIES_1_140', 'FOODS_3_117', 'FOODS_3_687', 'HOUSEHOLD_1_121', 'HOBBIES_1_214', 'FOODS_2_039', 'FOODS_1_017', 'HOBBIES_1_224', 'FOODS_3_031', 'FOODS_3_184', 'HOUSEHOLD_1_046', 'FOODS_1_200', 'HOBBIES_1_147', 'FOODS_3_220', 'HOUSEHOLD_1_010', 'FOODS_2_084', 'HOBBIES_1_404', 'HOBBIES_1_357', 'HOUSEHOLD_2_286', 'HOUSEHOLD_1_033', 'FOODS_3_264', 'FOODS_3_605', 'HOUSEHOLD_1_127', 'HOUSEHOLD_1_257', 'HOBBIES_2_120', 'HOUSEHOLD_1_078', 'HOUSEHOLD_1_173', 'HOUSEHOLD_2_344', 'FOODS_3_227', 'HOBBIES_1_402', 'HOBBIES_1_143', 'HOBBIES_1_091', 'HOUSEHOLD_2_188', 'FOODS_2_346', 'FOODS_3_713', 'HOBBIES_1_242', 'HOBBIES_2_081', 'FOODS_2_304', 'FOODS_3_598', 'FOODS_2_105', 'FOODS_1_023', 'FOODS_3_349', 'HOUSEHOLD_1_077', 'HOUSEHOLD_1_401', 'HOUSEHOLD_1_402', 'FOODS_3_678', 'HOBBIES_1_383', 'HOBBIES_2_145', 'HOUSEHOLD_1_507', 'FOODS_2_049', 'HOBBIES_1_085', 'HOUSEHOLD_1_497', 'HOBBIES_1_173', 'FOODS_3_476', 'HOUSEHOLD_1_358', 'FOODS_3_254', 'HOUSEHOLD_2_125', 'HOUSEHOLD_2_498', 'FOODS_3_272', 'FOODS_2_324', 'HOUSEHOLD_1_505', 'HOUSEHOLD_1_429', 'FOODS_2_195', 'HOBBIES_1_014', 'FOODS_3_159', 'FOODS_3_688', 'HOUSEHOLD_2_391', 'HOBBIES_1_106', 'FOODS_3_141', 'FOODS_3_559', 'HOUSEHOLD_2_045', 'HOUSEHOLD_2_436', 'HOUSEHOLD_1_304', 'FOODS_3_027', 'FOODS_3_121', 'HOUSEHOLD_1_334', 'HOUSEHOLD_1_380', 'HOUSEHOLD_2_374', 'HOUSEHOLD_1_490', 'HOBBIES_1_240', 'FOODS_3_130', 'HOUSEHOLD_2_012', 'FOODS_3_545', 'HOBBIES_1_051', 'HOBBIES_1_394', 'HOUSEHOLD_1_363', 'FOODS_3_503', 'HOBBIES_2_084', 'HOUSEHOLD_1_479', 'HOBBIES_1_109', 'HOBBIES_2_018', 'FOODS_3_664', 'HOUSEHOLD_2_358', 'HOUSEHOLD_1_200', 'FOODS_1_056', 'HOUSEHOLD_2_465', 'FOODS_3_305', 'FOODS_2_234', 'FOODS_3_569', 'HOUSEHOLD_1_341', 'HOUSEHOLD_2_094', 'FOODS_2_149', 'FOODS_3_794', 'HOUSEHOLD_2_002', 'HOUSEHOLD_2_093', 'HOBBIES_1_267', 'HOUSEHOLD_2_224', 'FOODS_3_658', 'HOUSEHOLD_1_053', 'FOODS_2_090', 'HOBBIES_2_113', 'HOBBIES_1_172', 'FOODS_3_171', 'FOODS_3_762', 'FOODS_3_583', 'HOBBIES_1_270', 'FOODS_3_390', 'FOODS_3_666', 'FOODS_3_328', 'FOODS_3_275', 'FOODS_3_387', 'HOUSEHOLD_1_214', 'FOODS_3_182', 'HOUSEHOLD_1_469', 'FOODS_3_366', 'FOODS_3_087', 'FOODS_3_430', 'FOODS_1_163', 'FOODS_3_543', 'HOBBIES_1_414', 'FOODS_3_074', 'FOODS_3_519', 'HOBBIES_1_083', 'FOODS_3_758', 'FOODS_3_712', 'FOODS_1_078', 'HOBBIES_1_150', 'FOODS_3_143', 'HOUSEHOLD_1_050', 'HOUSEHOLD_2_205', 'HOUSEHOLD_2_365', 'FOODS_3_798', 'FOODS_2_164', 'HOUSEHOLD_1_302', 'FOODS_3_756', 'FOODS_3_561', 'FOODS_3_363', 'HOBBIES_1_289', 'FOODS_3_016', 'FOODS_3_334', 'FOODS_2_025', 'HOBBIES_1_133', 'FOODS_1_111', 'HOUSEHOLD_1_372', 'HOBBIES_1_234', 'FOODS_1_182', 'HOUSEHOLD_1_098', 'FOODS_1_173', 'HOUSEHOLD_1_314', 'HOUSEHOLD_2_178', 'HOUSEHOLD_2_114', 'FOODS_3_494', 'HOBBIES_1_191', 'HOUSEHOLD_1_199', 'FOODS_2_385', 'HOBBIES_1_112', 'HOBBIES_1_407', 'HOUSEHOLD_2_257', 'FOODS_2_086', 'FOODS_3_165', 'FOODS_3_509', 'FOODS_2_287', 'FOODS_3_333', 'HOUSEHOLD_1_343', 'FOODS_3_813', 'HOBBIES_1_341', 'FOODS_3_695', 'HOBBIES_1_355', 'HOUSEHOLD_2_229', 'FOODS_3_505', 'HOUSEHOLD_1_135', 'HOBBIES_2_025', 'HOUSEHOLD_1_038', 'FOODS_3_478', 'FOODS_3_596', 'HOUSEHOLD_1_137', 'HOUSEHOLD_1_202', 'HOUSEHOLD_2_196', 'HOUSEHOLD_1_413', 'HOUSEHOLD_1_400', 'FOODS_1_022', 'FOODS_3_635', 'HOUSEHOLD_1_102', 'FOODS_2_114', 'HOBBIES_1_217', 'FOODS_3_820', 'HOUSEHOLD_2_466', 'FOODS_3_168', 'FOODS_1_104', 'HOBBIES_1_293', 'FOODS_3_218', 'HOBBIES_2_134', 'HOUSEHOLD_2_048', 'FOODS_3_759', 'FOODS_3_045', 'HOUSEHOLD_1_541', 'FOODS_3_585', 'FOODS_2_272', 'FOODS_3_374', 'FOODS_3_586', 'HOUSEHOLD_1_480', 'FOODS_1_065', 'FOODS_2_024', 'FOODS_2_381', 'FOODS_3_287', 'HOBBIES_1_129', 'HOUSEHOLD_2_450', 'HOUSEHOLD_2_319', 'FOODS_3_379', 'HOBBIES_1_073', 'FOODS_2_321', 'FOODS_3_232', 'FOODS_3_582', 'HOUSEHOLD_2_291', 'HOUSEHOLD_2_496', 'HOUSEHOLD_1_269', 'FOODS_2_093', 'HOBBIES_1_254', 'HOUSEHOLD_1_288', 'HOUSEHOLD_2_308', 'FOODS_2_232', 'HOBBIES_1_360', 'FOODS_3_646', 'FOODS_3_005', 'HOUSEHOLD_2_030', 'HOUSEHOLD_1_504', 'FOODS_3_222', 'FOODS_3_558', 'HOBBIES_2_038', 'HOBBIES_2_121', 'HOUSEHOLD_2_477', 'FOODS_3_013', 'HOBBIES_1_371', 'FOODS_3_068', 'FOODS_1_180', 'FOODS_2_208', 'FOODS_2_199', 'HOUSEHOLD_1_146', 'FOODS_3_777', 'FOODS_1_086', 'HOBBIES_1_079', 'HOUSEHOLD_2_231', 'FOODS_3_340', 'HOUSEHOLD_1_143', 'HOUSEHOLD_2_290', 'HOUSEHOLD_1_203', 'HOUSEHOLD_2_103', 'FOODS_2_373', 'FOODS_1_158', 'FOODS_3_776', 'HOBBIES_1_335', 'HOUSEHOLD_1_345', 'FOODS_3_795', 'FOODS_3_300', 'FOODS_3_394', 'HOUSEHOLD_2_464', 'HOUSEHOLD_2_039', 'FOODS_3_580', 'FOODS_1_092', 'HOBBIES_1_320', 'FOODS_3_036', 'HOBBIES_1_130', 'HOUSEHOLD_1_419', 'FOODS_1_207', 'FOODS_3_268', 'FOODS_1_105', 'FOODS_3_413', 'HOUSEHOLD_2_281', 'FOODS_3_656', 'FOODS_2_140', 'HOUSEHOLD_2_312', 'FOODS_2_168', 'FOODS_1_152', 'FOODS_2_019', 'HOUSEHOLD_2_456', 'FOODS_3_538', 'HOBBIES_1_168', 'FOODS_2_223', 'FOODS_3_200', 'HOBBIES_2_006', 'FOODS_2_135', 'HOUSEHOLD_1_367', 'FOODS_3_487', 'HOUSEHOLD_2_183', 'HOBBIES_2_107', 'HOBBIES_1_252', 'HOBBIES_1_381', 'HOUSEHOLD_2_009', 'HOBBIES_1_048', 'HOUSEHOLD_2_089', 'HOUSEHOLD_1_022', 'FOODS_3_787', 'HOUSEHOLD_2_345', 'FOODS_3_002', 'HOBBIES_2_064', 'HOUSEHOLD_1_037', 'HOBBIES_1_075', 'FOODS_2_350', 'FOODS_3_203', 'FOODS_3_827', 'FOODS_3_017', 'FOODS_3_443', 'FOODS_3_177', 'FOODS_3_754', 'HOUSEHOLD_1_439', 'HOBBIES_1_198', 'HOUSEHOLD_2_283', 'HOBBIES_1_036', 'HOBBIES_1_116', 'FOODS_3_352', 'FOODS_2_150', 'HOBBIES_1_160', 'HOUSEHOLD_2_396', 'FOODS_1_177', 'FOODS_3_116', 'HOBBIES_1_399', 'HOUSEHOLD_1_255', 'HOUSEHOLD_2_384', 'FOODS_3_457', 'HOBBIES_1_003', 'HOUSEHOLD_1_424', 'FOODS_3_115', 'HOUSEHOLD_1_224', 'HOUSEHOLD_1_307', 'HOUSEHOLD_1_435', 'HOUSEHOLD_2_395', 'HOUSEHOLD_1_540', 'FOODS_3_511', 'HOUSEHOLD_2_071', 'FOODS_3_573', 'HOBBIES_1_271', 'HOUSEHOLD_1_289', 'HOUSEHOLD_2_489', 'HOUSEHOLD_2_329', 'FOODS_3_201', 'HOBBIES_1_421', 'FOODS_1_213', 'FOODS_3_077', 'FOODS_3_748', 'FOODS_2_216', 'HOUSEHOLD_1_147', 'HOUSEHOLD_1_459', 'HOBBIES_2_103', 'FOODS_3_725', 'HOBBIES_1_329', 'FOODS_3_323', 'HOUSEHOLD_2_402', 'HOUSEHOLD_2_356', 'HOBBIES_2_142', 'FOODS_3_050', 'FOODS_1_195', 'FOODS_3_044', 'HOUSEHOLD_1_162', 'HOUSEHOLD_2_303', 'HOUSEHOLD_2_495', 'HOUSEHOLD_1_310', 'FOODS_2_278', 'HOBBIES_1_035', 'FOODS_2_051', 'FOODS_3_663', 'FOODS_3_790', 'FOODS_1_093', 'HOUSEHOLD_2_347', 'FOODS_3_594', 'FOODS_2_398', 'FOODS_3_244', 'HOUSEHOLD_1_019', 'HOUSEHOLD_2_159', 'FOODS_2_151', 'HOUSEHOLD_1_189', 'HOUSEHOLD_1_212', 'FOODS_3_497', 'FOODS_2_359', 'HOBBIES_2_115', 'HOUSEHOLD_2_082', 'HOUSEHOLD_1_002', 'FOODS_1_155', 'FOODS_3_190', 'HOUSEHOLD_2_059', 'HOBBIES_2_069', 'FOODS_2_349', 'FOODS_2_005', 'HOUSEHOLD_1_296', 'FOODS_3_441', 'FOODS_2_017', 'HOBBIES_1_272', 'HOBBIES_1_076', 'HOUSEHOLD_2_083', 'HOBBIES_1_142', 'FOODS_3_166', 'FOODS_3_677', 'HOUSEHOLD_2_418', 'FOODS_3_716', 'FOODS_2_185', 'HOUSEHOLD_2_029', 'HOUSEHOLD_1_087', 'FOODS_1_112', 'HOUSEHOLD_2_017', 'HOUSEHOLD_2_112', 'HOUSEHOLD_1_528', 'FOODS_3_423', 'FOODS_3_093', 'FOODS_3_731', 'FOODS_1_003', 'FOODS_3_307', 'FOODS_3_517', 'FOODS_2_285', 'FOODS_1_102', 'FOODS_2_142', 'FOODS_3_381', 'HOBBIES_1_202', 'FOODS_2_201', 'HOBBIES_2_020', 'FOODS_2_302', 'HOUSEHOLD_2_353', 'HOUSEHOLD_2_461', 'HOUSEHOLD_2_430', 'HOBBIES_1_353', 'HOUSEHOLD_1_191', 'FOODS_3_161', 'FOODS_3_025', 'FOODS_1_196', 'FOODS_3_209', 'FOODS_1_172', 'FOODS_2_046', 'FOODS_3_139', 'FOODS_3_142', 'HOUSEHOLD_1_049', 'FOODS_2_309', 'HOBBIES_1_019', 'HOBBIES_1_170', 'HOBBIES_2_149', 'FOODS_3_041', 'HOUSEHOLD_2_508', 'FOODS_3_668', 'HOBBIES_2_024', 'FOODS_3_404', 'HOBBIES_1_069', 'HOUSEHOLD_2_447', 'HOUSEHOLD_2_421', 'FOODS_3_378', 'HOBBIES_1_303', 'FOODS_3_162', 'HOUSEHOLD_2_040', 'FOODS_3_211', 'HOUSEHOLD_2_275', 'HOUSEHOLD_2_148', 'HOUSEHOLD_2_482', 'HOUSEHOLD_2_512', 'HOBBIES_2_004', 'HOUSEHOLD_1_068', 'FOODS_3_793', 'FOODS_1_060', 'HOBBIES_1_093', 'FOODS_3_760', 'HOUSEHOLD_1_096', 'HOUSEHOLD_1_420', 'HOBBIES_2_031', 'HOBBIES_2_146', 'FOODS_3_595', 'HOBBIES_1_220', 'FOODS_3_403', 'FOODS_3_022', 'HOBBIES_2_102', 'FOODS_3_265', 'FOODS_2_288', 'FOODS_3_647', 'HOUSEHOLD_1_074', 'HOUSEHOLD_1_492', 'HOUSEHOLD_1_155', 'HOUSEHOLD_1_396', 'FOODS_1_002', 'FOODS_1_187', 'HOUSEHOLD_1_206', 'HOUSEHOLD_1_278', 'HOUSEHOLD_2_079', 'HOUSEHOLD_2_234', 'FOODS_3_154', 'HOBBIES_1_358', 'HOUSEHOLD_1_499', 'FOODS_3_317', 'HOUSEHOLD_1_260', 'HOUSEHOLD_2_296', 'FOODS_3_535', 'FOODS_3_292', 'FOODS_3_079', 'FOODS_2_126', 'HOUSEHOLD_1_063', 'HOUSEHOLD_2_164', 'FOODS_3_711', 'FOODS_3_542', 'HOUSEHOLD_1_527', 'FOODS_2_018', 'HOUSEHOLD_1_190', 'HOUSEHOLD_2_470', 'FOODS_2_255', 'FOODS_3_812', 'FOODS_2_339', 'FOODS_3_474', 'HOUSEHOLD_1_180', 'FOODS_3_238', 'HOUSEHOLD_1_532', 'HOUSEHOLD_2_302', 'HOUSEHOLD_1_001', 'FOODS_3_153', 'FOODS_1_208', 'HOUSEHOLD_1_503', 'HOUSEHOLD_2_481', 'HOBBIES_2_072', 'HOBBIES_2_070', 'FOODS_1_074', 'FOODS_3_757', 'HOBBIES_1_153', 'HOBBIES_1_350', 'HOUSEHOLD_1_340', 'FOODS_3_455', 'FOODS_3_809', 'FOODS_2_162', 'FOODS_3_316', 'HOUSEHOLD_2_386', 'HOUSEHOLD_2_455', 'FOODS_3_120', 'FOODS_3_134', 'HOBBIES_1_047', 'FOODS_3_645', 'FOODS_3_010', 'HOBBIES_2_017', 'FOODS_3_114', 'FOODS_1_042', 'HOBBIES_1_058', 'FOODS_2_127', 'FOODS_2_196', 'HOBBIES_1_044', 'HOBBIES_1_401', 'FOODS_3_557', 'HOUSEHOLD_1_431', 'FOODS_1_184', 'FOODS_2_241', 'FOODS_3_236', 'FOODS_3_579', 'FOODS_3_532', 'FOODS_2_204', 'FOODS_3_591', 'HOUSEHOLD_1_108', 'HOBBIES_1_061', 'FOODS_2_203', 'HOUSEHOLD_2_460', 'HOUSEHOLD_2_073', 'HOUSEHOLD_1_399', 'HOBBIES_2_049', 'FOODS_1_083', 'HOBBIES_1_159', 'HOUSEHOLD_2_075', 'FOODS_2_312', 'FOODS_2_361', 'HOUSEHOLD_1_418', 'HOBBIES_2_123', 'FOODS_3_600', 'HOUSEHOLD_2_151', 'FOODS_1_203', 'HOUSEHOLD_2_170', 'FOODS_2_190', 'FOODS_2_095', 'HOUSEHOLD_1_025', 'FOODS_3_421', 'FOODS_2_314', 'FOODS_3_797', 'HOUSEHOLD_2_143', 'FOODS_3_816', 'FOODS_3_452', 'HOBBIES_1_207', 'HOUSEHOLD_1_411', 'FOODS_1_217', 'FOODS_2_175', 'FOODS_3_496', 'FOODS_2_391', 'FOODS_3_043', 'HOUSEHOLD_2_232', 'FOODS_3_047', 'HOUSEHOLD_2_218', 'FOODS_2_335', 'FOODS_2_377', 'HOBBIES_2_122', 'HOUSEHOLD_2_197', 'FOODS_1_218', 'HOBBIES_1_333', 'HOUSEHOLD_2_337', 'FOODS_2_041', 'FOODS_3_613', 'HOUSEHOLD_1_040', 'HOUSEHOLD_2_253', 'FOODS_2_268', 'HOUSEHOLD_1_272', 'HOBBIES_1_167', 'FOODS_3_683', 'FOODS_3_438', 'HOUSEHOLD_1_483', 'HOBBIES_2_125', 'HOUSEHOLD_2_445', 'HOUSEHOLD_2_028', 'HOBBIES_1_376', 'HOBBIES_1_378', 'HOUSEHOLD_1_003', 'HOUSEHOLD_2_113', 'HOBBIES_1_348', 'HOUSEHOLD_1_196', 'FOODS_2_062', 'HOUSEHOLD_1_099', 'HOUSEHOLD_2_373', 'FOODS_3_590', 'HOUSEHOLD_1_406', 'FOODS_1_199', 'HOBBIES_2_088', 'FOODS_3_342', 'HOUSEHOLD_1_409', 'FOODS_2_338', 'FOODS_2_296', 'FOODS_3_714', 'HOUSEHOLD_1_315', 'FOODS_3_808', 'FOODS_2_245', 'FOODS_1_131', 'HOBBIES_1_212', 'FOODS_3_358', 'HOUSEHOLD_1_335', 'HOUSEHOLD_2_255', 'HOBBIES_1_163', 'HOUSEHOLD_1_408', 'HOUSEHOLD_2_413', 'HOUSEHOLD_2_514', 'FOODS_3_632', 'FOODS_2_007', 'HOUSEHOLD_2_176', 'HOUSEHOLD_1_024', 'HOUSEHOLD_1_043', 'HOUSEHOLD_1_107', 'HOUSEHOLD_1_275', 'HOBBIES_1_285', 'HOUSEHOLD_2_001', 'FOODS_3_467', 'FOODS_3_449', 'HOUSEHOLD_2_065', 'HOBBIES_1_294', 'FOODS_2_174', 'HOBBIES_1_197', 'HOUSEHOLD_1_427', 'FOODS_2_053', 'HOBBIES_2_147', 'HOUSEHOLD_2_274', 'FOODS_3_644', 'FOODS_2_128', 'HOBBIES_2_143', 'FOODS_3_637', 'HOBBIES_1_219', 'FOODS_3_604', 'HOUSEHOLD_2_351', 'HOUSEHOLD_2_435', 'FOODS_3_512', 'FOODS_3_701', 'HOUSEHOLD_1_058', 'HOUSEHOLD_1_270', 'FOODS_1_147', 'HOUSEHOLD_1_265', 'HOBBIES_1_400', 'FOODS_2_213', 'HOBBIES_1_156', 'HOBBIES_1_209', 'FOODS_3_402', 'FOODS_2_327', 'HOBBIES_2_021', 'FOODS_3_347', 'FOODS_3_219', 'FOODS_3_774', 'FOODS_3_577', 'FOODS_3_397', 'FOODS_3_780', 'HOUSEHOLD_2_483', 'FOODS_1_179', 'FOODS_3_376', 'FOODS_3_123', 'FOODS_3_541', 'HOUSEHOLD_2_063', 'FOODS_3_414', 'HOBBIES_1_424', 'FOODS_1_166', 'FOODS_3_217', 'FOODS_2_389', 'HOBBIES_2_008', 'HOUSEHOLD_1_004', 'FOODS_3_388', 'HOBBIES_2_093', 'FOODS_3_109', 'HOBBIES_1_223', 'FOODS_2_153', 'FOODS_3_633', 'FOODS_1_079', 'FOODS_3_406', 'FOODS_3_324', 'FOODS_2_259', 'HOUSEHOLD_2_198', 'HOUSEHOLD_2_070', 'FOODS_2_374', 'HOUSEHOLD_1_018', 'FOODS_2_083', 'HOBBIES_1_395', 'FOODS_1_127', 'FOODS_3_667', 'FOODS_1_214', 'HOUSEHOLD_1_213', 'HOBBIES_1_054', 'HOUSEHOLD_1_473', 'HOUSEHOLD_2_058', 'FOODS_2_384', 'HOUSEHOLD_2_468', 'HOUSEHOLD_1_441', 'HOUSEHOLD_1_211', 'HOBBIES_1_259', 'FOODS_3_004', 'HOUSEHOLD_2_516', 'HOBBIES_1_006', 'HOUSEHOLD_2_279', 'FOODS_3_351', 'HOBBIES_2_130', 'FOODS_3_462', 'FOODS_3_726', 'HOUSEHOLD_1_017', 'HOUSEHOLD_2_086', 'HOUSEHOLD_2_149', 'HOBBIES_1_161', 'FOODS_3_021', 'FOODS_2_396', 'FOODS_3_617', 'HOBBIES_1_279', 'HOBBIES_1_287', 'HOUSEHOLD_1_177', 'FOODS_3_332', 'HOUSEHOLD_2_379', 'HOUSEHOLD_1_231', 'HOUSEHOLD_1_167', 'HOUSEHOLD_1_069', 'FOODS_3_518', 'HOUSEHOLD_1_342', 'HOUSEHOLD_2_108', 'HOBBIES_1_095', 'HOBBIES_2_099', 'HOUSEHOLD_2_105', 'FOODS_2_123', 'HOUSEHOLD_2_403', 'FOODS_2_387', 'FOODS_1_048', 'HOBBIES_1_256', 'HOUSEHOLD_1_101', 'FOODS_3_685', 'FOODS_3_137', 'HOUSEHOLD_2_392', 'HOUSEHOLD_1_519', 'FOODS_2_065', 'FOODS_3_718', 'FOODS_2_063', 'FOODS_3_771', 'HOUSEHOLD_2_467', 'FOODS_2_252', 'HOUSEHOLD_2_357', 'FOODS_2_215', 'HOUSEHOLD_2_207', 'FOODS_3_654', 'HOUSEHOLD_2_389', 'HOUSEHOLD_1_219', 'FOODS_3_125', 'FOODS_3_761', 'FOODS_1_183', 'FOODS_2_077', 'FOODS_2_269', 'HOUSEHOLD_1_312', 'FOODS_3_807', 'HOUSEHOLD_1_114', 'FOODS_3_528', 'HOBBIES_1_078', 'FOODS_3_399', 'HOUSEHOLD_2_272', 'HOUSEHOLD_2_084', 'FOODS_3_230', 'HOUSEHOLD_2_221', 'HOUSEHOLD_2_331', 'HOUSEHOLD_2_026', 'FOODS_1_054', 'HOUSEHOLD_2_513', 'HOUSEHOLD_2_139', 'FOODS_3_703', 'HOUSEHOLD_1_171', 'HOUSEHOLD_1_417', 'HOUSEHOLD_1_256', 'HOUSEHOLD_1_154', 'FOODS_2_052', 'HOBBIES_1_063', 'HOBBIES_1_178', 'FOODS_2_329', 'FOODS_3_804', 'HOUSEHOLD_2_372', 'FOODS_3_615', 'HOBBIES_1_356', 'HOUSEHOLD_1_207', 'HOBBIES_2_029', 'HOUSEHOLD_1_407', 'HOUSEHOLD_1_526', 'FOODS_2_226', 'HOBBIES_1_025', 'HOBBIES_1_351', 'HOUSEHOLD_1_465', 'FOODS_2_219', 'FOODS_3_824', 'HOUSEHOLD_2_304', 'FOODS_3_135', 'FOODS_3_432', 'FOODS_3_255', 'FOODS_3_621', 'HOBBIES_1_238', 'HOBBIES_2_056', 'HOBBIES_1_276', 'FOODS_3_553', 'HOUSEHOLD_1_510', 'HOUSEHOLD_1_529', 'HOUSEHOLD_2_050', 'HOUSEHOLD_1_422', 'FOODS_2_240', 'HOUSEHOLD_2_219', 'HOUSEHOLD_2_282', 'HOUSEHOLD_1_183', 'HOBBIES_1_098', 'HOUSEHOLD_2_261', 'FOODS_3_525', 'HOBBIES_1_366', 'HOBBIES_1_125', 'FOODS_3_189', 'HOBBIES_1_062', 'FOODS_3_693', 'HOUSEHOLD_2_203', 'HOBBIES_1_403', 'FOODS_3_616', 'FOODS_2_074', 'HOBBIES_1_057', 'FOODS_1_037', 'FOODS_3_454', 'FOODS_1_168', 'FOODS_2_100', 'FOODS_2_136', 'FOODS_3_529', 'FOODS_3_764', 'FOODS_3_770', 'FOODS_2_067', 'FOODS_2_013', 'HOUSEHOLD_1_195', 'FOODS_2_179', 'HOUSEHOLD_2_140', 'HOBBIES_1_342', 'HOUSEHOLD_2_085', 'FOODS_3_420', 'HOBBIES_1_216', 'HOUSEHOLD_1_357', 'HOUSEHOLD_1_451', 'HOUSEHOLD_1_467', 'HOUSEHOLD_2_098', 'HOBBIES_1_316', 'HOUSEHOLD_2_213', 'HOUSEHOLD_1_243', 'FOODS_3_106', 'FOODS_3_035', 'FOODS_2_101', 'HOBBIES_1_273', 'FOODS_3_732', 'HOBBIES_1_033', 'HOBBIES_1_391', 'FOODS_3_151', 'HOUSEHOLD_1_193', 'HOUSEHOLD_1_379', 'HOBBIES_2_044', 'HOUSEHOLD_1_462', 'FOODS_3_369', 'HOBBIES_2_013', 'FOODS_2_122', 'HOUSEHOLD_2_037', 'HOUSEHOLD_2_130', 'FOODS_3_023', 'HOBBIES_1_261', 'HOUSEHOLD_1_457', 'HOUSEHOLD_1_333', 'HOUSEHOLD_2_287', 'HOUSEHOLD_1_066', 'HOUSEHOLD_2_211', 'FOODS_3_444', 'FOODS_1_103', 'HOBBIES_1_298', 'FOODS_2_265', 'HOUSEHOLD_2_110', 'FOODS_3_546', 'FOODS_2_264', 'FOODS_3_419', 'HOUSEHOLD_2_096', 'HOUSEHOLD_2_101', 'FOODS_2_294', 'HOUSEHOLD_2_277', 'FOODS_3_228', 'HOBBIES_2_129', 'HOBBIES_2_106', 'FOODS_2_230', 'HOUSEHOLD_1_115', 'FOODS_1_160', 'FOODS_3_202', 'FOODS_2_293', 'HOUSEHOLD_2_334', 'HOUSEHOLD_2_322', 'HOUSEHOLD_1_079', 'FOODS_2_242', 'HOUSEHOLD_2_259', 'HOUSEHOLD_2_216', 'FOODS_3_122', 'FOODS_3_282', 'FOODS_2_117', 'HOBBIES_1_002', 'HOUSEHOLD_1_104', 'HOBBIES_2_005', 'HOBBIES_1_410', 'HOBBIES_2_022', 'HOUSEHOLD_1_287', 'HOBBIES_1_132', 'HOUSEHOLD_1_233', 'FOODS_2_191', 'HOUSEHOLD_1_253', 'HOUSEHOLD_2_116', 'FOODS_3_278', 'HOBBIES_1_368', 'HOBBIES_2_067', 'HOUSEHOLD_1_320', 'HOUSEHOLD_2_472', 'FOODS_2_145', 'HOBBIES_2_058', 'FOODS_3_521', 'HOUSEHOLD_1_283', 'HOUSEHOLD_1_538', 'FOODS_3_064', 'HOUSEHOLD_2_126', 'HOUSEHOLD_2_280', 'FOODS_3_738', 'HOUSEHOLD_1_383', 'HOUSEHOLD_1_209', 'FOODS_3_472', 'HOUSEHOLD_2_474', 'HOBBIES_1_086', 'FOODS_1_027', 'HOUSEHOLD_1_132'}"
     ]
    }
   ],
   "source": [
    "from tsfresh import extract_relevant_features\n",
    "\n",
    "features_filtered_direct = extract_relevant_features(week_df, y, column_id='item_id', column_sort='wm_yr_wk')"
   ]
  },
  {
   "cell_type": "code",
   "execution_count": 26,
   "metadata": {},
   "outputs": [],
   "source": [
    "# Save before we proceed as this df might be very helpful in training.\n",
    "# week_df.to_pickle('m5_s1_1_01.pkl')"
   ]
  },
  {
   "cell_type": "markdown",
   "execution_count": null,
   "metadata": {},
   "source": [
    "# Memory leaks\n",
    "I am not sure whats going on, but the final week_df is just several Mb, while memory used is 10+Gb despite all the cleaning.\n",
    "Apparently, there are a lot of memory leaks, yet I am not sure how to get rid of them, but dump useful info to pkl and start afresh.\n",
    "Please, if you know a better solution let me know where to look."
   ]
  }
 ],
 "metadata": {
  "kernelspec": {
   "display_name": "Python 3",
   "language": "python",
   "name": "python3"
  },
  "language_info": {
   "codemirror_mode": {
    "name": "ipython",
    "version": 3
   },
   "file_extension": ".py",
   "mimetype": "text/x-python",
   "name": "python",
   "nbconvert_exporter": "python",
   "pygments_lexer": "ipython3",
   "version": "3.6.6"
  },
  "widgets": {
   "application/vnd.jupyter.widget-state+json": {
    "state": {
     "1c682b129575405cbd88a7c063b36f5b": {
      "model_module": "@jupyter-widgets/base",
      "model_module_version": "1.2.0",
      "model_name": "LayoutModel",
      "state": {
       "_model_module": "@jupyter-widgets/base",
       "_model_module_version": "1.2.0",
       "_model_name": "LayoutModel",
       "_view_count": null,
       "_view_module": "@jupyter-widgets/base",
       "_view_module_version": "1.2.0",
       "_view_name": "LayoutView",
       "align_content": null,
       "align_items": null,
       "align_self": null,
       "border": null,
       "bottom": null,
       "display": null,
       "flex": null,
       "flex_flow": null,
       "grid_area": null,
       "grid_auto_columns": null,
       "grid_auto_flow": null,
       "grid_auto_rows": null,
       "grid_column": null,
       "grid_gap": null,
       "grid_row": null,
       "grid_template_areas": null,
       "grid_template_columns": null,
       "grid_template_rows": null,
       "height": null,
       "justify_content": null,
       "justify_items": null,
       "left": null,
       "margin": null,
       "max_height": null,
       "max_width": null,
       "min_height": null,
       "min_width": null,
       "object_fit": null,
       "object_position": null,
       "order": null,
       "overflow": null,
       "overflow_x": null,
       "overflow_y": null,
       "padding": null,
       "right": null,
       "top": null,
       "visibility": null,
       "width": null
      }
     },
     "2ba87293a22542618de13743579b8530": {
      "model_module": "@jupyter-widgets/base",
      "model_module_version": "1.2.0",
      "model_name": "LayoutModel",
      "state": {
       "_model_module": "@jupyter-widgets/base",
       "_model_module_version": "1.2.0",
       "_model_name": "LayoutModel",
       "_view_count": null,
       "_view_module": "@jupyter-widgets/base",
       "_view_module_version": "1.2.0",
       "_view_name": "LayoutView",
       "align_content": null,
       "align_items": null,
       "align_self": null,
       "border": null,
       "bottom": null,
       "display": null,
       "flex": null,
       "flex_flow": null,
       "grid_area": null,
       "grid_auto_columns": null,
       "grid_auto_flow": null,
       "grid_auto_rows": null,
       "grid_column": null,
       "grid_gap": null,
       "grid_row": null,
       "grid_template_areas": null,
       "grid_template_columns": null,
       "grid_template_rows": null,
       "height": null,
       "justify_content": null,
       "justify_items": null,
       "left": null,
       "margin": null,
       "max_height": null,
       "max_width": null,
       "min_height": null,
       "min_width": null,
       "object_fit": null,
       "object_position": null,
       "order": null,
       "overflow": null,
       "overflow_x": null,
       "overflow_y": null,
       "padding": null,
       "right": null,
       "top": null,
       "visibility": null,
       "width": null
      }
     },
     "417b1c469aad43f389dc7ff758e9566a": {
      "model_module": "@jupyter-widgets/controls",
      "model_module_version": "1.5.0",
      "model_name": "HBoxModel",
      "state": {
       "_dom_classes": [],
       "_model_module": "@jupyter-widgets/controls",
       "_model_module_version": "1.5.0",
       "_model_name": "HBoxModel",
       "_view_count": null,
       "_view_module": "@jupyter-widgets/controls",
       "_view_module_version": "1.5.0",
       "_view_name": "HBoxView",
       "box_style": "",
       "children": [
        "IPY_MODEL_57f8ec147d694f3f906a95f25c7aee2b",
        "IPY_MODEL_ab71e997a3934e1ca7a0a7a08b986829"
       ],
       "layout": "IPY_MODEL_2ba87293a22542618de13743579b8530"
      }
     },
     "57f8ec147d694f3f906a95f25c7aee2b": {
      "model_module": "@jupyter-widgets/controls",
      "model_module_version": "1.5.0",
      "model_name": "FloatProgressModel",
      "state": {
       "_dom_classes": [],
       "_model_module": "@jupyter-widgets/controls",
       "_model_module_version": "1.5.0",
       "_model_name": "FloatProgressModel",
       "_view_count": null,
       "_view_module": "@jupyter-widgets/controls",
       "_view_module_version": "1.5.0",
       "_view_name": "ProgressView",
       "bar_style": "success",
       "description": "100%",
       "description_tooltip": null,
       "layout": "IPY_MODEL_efa3bf14111544f18fa4eca2b5417d5f",
       "max": 30490.0,
       "min": 0.0,
       "orientation": "horizontal",
       "style": "IPY_MODEL_a20c5e585656402693b985ee6c9df12e",
       "value": 30490.0
      }
     },
     "7dc89cc55b7c4a868726b1ea5b057a68": {
      "model_module": "@jupyter-widgets/controls",
      "model_module_version": "1.5.0",
      "model_name": "DescriptionStyleModel",
      "state": {
       "_model_module": "@jupyter-widgets/controls",
       "_model_module_version": "1.5.0",
       "_model_name": "DescriptionStyleModel",
       "_view_count": null,
       "_view_module": "@jupyter-widgets/base",
       "_view_module_version": "1.2.0",
       "_view_name": "StyleView",
       "description_width": ""
      }
     },
     "a20c5e585656402693b985ee6c9df12e": {
      "model_module": "@jupyter-widgets/controls",
      "model_module_version": "1.5.0",
      "model_name": "ProgressStyleModel",
      "state": {
       "_model_module": "@jupyter-widgets/controls",
       "_model_module_version": "1.5.0",
       "_model_name": "ProgressStyleModel",
       "_view_count": null,
       "_view_module": "@jupyter-widgets/base",
       "_view_module_version": "1.2.0",
       "_view_name": "StyleView",
       "bar_color": null,
       "description_width": "initial"
      }
     },
     "ab71e997a3934e1ca7a0a7a08b986829": {
      "model_module": "@jupyter-widgets/controls",
      "model_module_version": "1.5.0",
      "model_name": "HTMLModel",
      "state": {
       "_dom_classes": [],
       "_model_module": "@jupyter-widgets/controls",
       "_model_module_version": "1.5.0",
       "_model_name": "HTMLModel",
       "_view_count": null,
       "_view_module": "@jupyter-widgets/controls",
       "_view_module_version": "1.5.0",
       "_view_name": "HTMLView",
       "description": "",
       "description_tooltip": null,
       "layout": "IPY_MODEL_1c682b129575405cbd88a7c063b36f5b",
       "placeholder": "​",
       "style": "IPY_MODEL_7dc89cc55b7c4a868726b1ea5b057a68",
       "value": " 30490/30490 [02:10&lt;00:00, 234.34it/s]"
      }
     },
     "efa3bf14111544f18fa4eca2b5417d5f": {
      "model_module": "@jupyter-widgets/base",
      "model_module_version": "1.2.0",
      "model_name": "LayoutModel",
      "state": {
       "_model_module": "@jupyter-widgets/base",
       "_model_module_version": "1.2.0",
       "_model_name": "LayoutModel",
       "_view_count": null,
       "_view_module": "@jupyter-widgets/base",
       "_view_module_version": "1.2.0",
       "_view_name": "LayoutView",
       "align_content": null,
       "align_items": null,
       "align_self": null,
       "border": null,
       "bottom": null,
       "display": null,
       "flex": null,
       "flex_flow": null,
       "grid_area": null,
       "grid_auto_columns": null,
       "grid_auto_flow": null,
       "grid_auto_rows": null,
       "grid_column": null,
       "grid_gap": null,
       "grid_row": null,
       "grid_template_areas": null,
       "grid_template_columns": null,
       "grid_template_rows": null,
       "height": null,
       "justify_content": null,
       "justify_items": null,
       "left": null,
       "margin": null,
       "max_height": null,
       "max_width": null,
       "min_height": null,
       "min_width": null,
       "object_fit": null,
       "object_position": null,
       "order": null,
       "overflow": null,
       "overflow_x": null,
       "overflow_y": null,
       "padding": null,
       "right": null,
       "top": null,
       "visibility": null,
       "width": null
      }
     }
    },
    "version_major": 2,
    "version_minor": 0
   }
  }
 },
 "nbformat": 4,
 "nbformat_minor": 4
}
